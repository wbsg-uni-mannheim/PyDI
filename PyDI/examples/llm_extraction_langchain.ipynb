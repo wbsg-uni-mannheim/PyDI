{
 "cells": [
  {
   "cell_type": "markdown",
   "metadata": {},
   "source": [
    "# LLM-based Information Extraction with LangChain and OpenAI\n",
    "\n",
    "This notebook demonstrates how to use the LLMExtractor with OpenAI's GPT models to extract structured product information from unstructured text descriptions."
   ]
  },
  {
   "cell_type": "markdown",
   "metadata": {},
   "source": [
    "## Setup and Dependencies\n",
    "\n",
    "First, let's check if the required dependencies are available and set up our environment."
   ]
  },
  {
   "cell_type": "code",
   "execution_count": 21,
   "metadata": {},
   "outputs": [
    {
     "name": "stdout",
     "output_type": "stream",
     "text": [
      "✅ LangChain OpenAI integration available\n",
      "✅ PyDI LLMExtractor available\n"
     ]
    }
   ],
   "source": [
    "import os\n",
    "from typing import Optional\n",
    "import pandas as pd\n",
    "from pydantic import BaseModel\n",
    "from dotenv import load_dotenv\n",
    "import json\n",
    "\n",
    "load_dotenv()\n",
    "\n",
    "# Check for LangChain OpenAI integration\n",
    "try:\n",
    "    from langchain_openai import ChatOpenAI\n",
    "    OPENAI_AVAILABLE = True\n",
    "    print(\"✅ LangChain OpenAI integration available\")\n",
    "except ImportError:\n",
    "    OPENAI_AVAILABLE = False\n",
    "    print(\"❌ LangChain OpenAI not available. Install with: pip install langchain-openai\")\n",
    "\n",
    "# Check for PyDI LLMExtractor\n",
    "try:\n",
    "    from PyDI.informationextraction import LLMExtractor\n",
    "    print(\"✅ PyDI LLMExtractor available\")\n",
    "except ImportError:\n",
    "    print(\"❌ PyDI LLMExtractor not available. Make sure PyDI is properly installed.\")"
   ]
  },
  {
   "cell_type": "code",
   "execution_count": 22,
   "metadata": {},
   "outputs": [
    {
     "name": "stdout",
     "output_type": "stream",
     "text": [
      "✅ OPENAI_API_KEY found in environment\n",
      "   Key starts with: sk-proj-qH...\n"
     ]
    }
   ],
   "source": [
    "# Check for OpenAI API key\n",
    "api_key = os.getenv('OPENAI_API_KEY')\n",
    "if api_key:\n",
    "    print(\"✅ OPENAI_API_KEY found in environment\")\n",
    "    print(f\"   Key starts with: {api_key[:10]}...\")\n",
    "else:\n",
    "    print(\"❌ OPENAI_API_KEY not found in environment\")\n",
    "    print(\"   Set it with: os.environ['OPENAI_API_KEY'] = 'your-api-key'\")\n",
    "    print(\"   Or export OPENAI_API_KEY='your-api-key' in your shell\")"
   ]
  },
  {
   "cell_type": "markdown",
   "metadata": {},
   "source": [
    "## Define Product Schema\n",
    "\n",
    "We'll use Pydantic to define the structured schema that we want to extract from unstructured text."
   ]
  },
  {
   "cell_type": "code",
   "execution_count": 23,
   "metadata": {},
   "outputs": [
    {
     "name": "stdout",
     "output_type": "stream",
     "text": [
      "Product schema fields:\n",
      "  - brand: typing.Optional[str]\n",
      "  - model: typing.Optional[str]\n",
      "  - price: typing.Optional[float]\n",
      "  - category: typing.Optional[str]\n",
      "  - color: typing.Optional[str]\n"
     ]
    }
   ],
   "source": [
    "class Product(BaseModel):\n",
    "    \"\"\"Product schema for extraction.\"\"\"\n",
    "    brand: Optional[str] = None\n",
    "    model: Optional[str] = None  \n",
    "    price: Optional[float] = None\n",
    "    category: Optional[str] = None\n",
    "    color: Optional[str] = None\n",
    "\n",
    "print(\"Product schema fields:\")\n",
    "for field_name, field_info in Product.__annotations__.items():\n",
    "    print(f\"  - {field_name}: {field_info}\")"
   ]
  },
  {
   "cell_type": "markdown",
   "metadata": {},
   "source": [
    "## Sample Data\n",
    "\n",
    "Let's create sample product descriptions that contain various types of structured information embedded in natural language text."
   ]
  },
  {
   "cell_type": "code",
   "execution_count": 24,
   "metadata": {},
   "outputs": [
    {
     "name": "stdout",
     "output_type": "stream",
     "text": [
      "Created dataset with 6 product descriptions:\n",
      "\n",
      "1. Apple iPhone 14 Pro - Space Black - $999.99 - Premium smartphone with advanced camera system\n",
      "2. Samsung Galaxy S23 Ultra 256GB Phantom Black smartphone for $1199 with S Pen included\n",
      "3. Sony WH-1000XM4 wireless noise-canceling headphones in silver color priced at $349.99\n",
      "4. Dell XPS 13 laptop - Intel i7, 16GB RAM, 512GB SSD - $1,299.00 - Ultrabook category\n",
      "5. Nintendo Switch OLED White Console with Joy-Con controllers - $349.99 gaming system\n",
      "6. Dyson V15 Detect cordless vacuum cleaner in yellow - $749.99 - Home appliances\n"
     ]
    }
   ],
   "source": [
    "# Sample product data with rich, unstructured descriptions\n",
    "sample_data = [\n",
    "    \"Apple iPhone 14 Pro - Space Black - $999.99 - Premium smartphone with advanced camera system\",\n",
    "    \"Samsung Galaxy S23 Ultra 256GB Phantom Black smartphone for $1199 with S Pen included\", \n",
    "    \"Sony WH-1000XM4 wireless noise-canceling headphones in silver color priced at $349.99\",\n",
    "    \"Dell XPS 13 laptop - Intel i7, 16GB RAM, 512GB SSD - $1,299.00 - Ultrabook category\",\n",
    "    \"Nintendo Switch OLED White Console with Joy-Con controllers - $349.99 gaming system\",\n",
    "    \"Dyson V15 Detect cordless vacuum cleaner in yellow - $749.99 - Home appliances\",\n",
    "]\n",
    "\n",
    "# Create DataFrame\n",
    "df = pd.DataFrame({'description': sample_data})\n",
    "\n",
    "print(f\"Created dataset with {len(df)} product descriptions:\\n\")\n",
    "for i, desc in enumerate(df['description'], 1):\n",
    "    print(f\"{i}. {desc}\")"
   ]
  },
  {
   "cell_type": "markdown",
   "metadata": {},
   "source": [
    "## Configure LLM and Prompts\n",
    "\n",
    "Now let's set up the OpenAI chat model and define our extraction prompts."
   ]
  },
  {
   "cell_type": "code",
   "execution_count": 25,
   "metadata": {},
   "outputs": [
    {
     "name": "stdout",
     "output_type": "stream",
     "text": [
      "✅ Configured gpt-5-nano with temperature=None\n"
     ]
    }
   ],
   "source": [
    "if not OPENAI_AVAILABLE or not os.getenv('OPENAI_API_KEY'):\n",
    "    print(\"⚠️ Skipping LLM setup - missing dependencies or API key\")\n",
    "else:\n",
    "    # Initialize OpenAI chat model\n",
    "    chat_model = ChatOpenAI(\n",
    "        model=\"gpt-5-nano\",  # Use cheaper, faster model for demo\n",
    "        max_tokens=500,        # Reasonable limit for structured output\n",
    "        temperature=0.0,      # Deterministic output\n",
    "        reasoning_effort=\"minimal\",  # Set reasoning tokens to a nonzero value\n",
    "    )\n",
    "    \n",
    "    print(f\"✅ Configured {chat_model.model_name} with temperature={chat_model.temperature}\")"
   ]
  },
  {
   "cell_type": "code",
   "execution_count": 26,
   "metadata": {},
   "outputs": [
    {
     "name": "stdout",
     "output_type": "stream",
     "text": [
      "content='There is no capital of the Moon. The Moon is a natural satellite without a government or inhabited population, so it has no political capitals or cities. If you’re asking in a fictional or hypothetical sense, you could imagine any place as a “capital” in that context.' additional_kwargs={'refusal': None} response_metadata={'token_usage': {'completion_tokens': 64, 'prompt_tokens': 14, 'total_tokens': 78, 'completion_tokens_details': {'accepted_prediction_tokens': 0, 'audio_tokens': 0, 'reasoning_tokens': 0, 'rejected_prediction_tokens': 0}, 'prompt_tokens_details': {'audio_tokens': 0, 'cached_tokens': 0}}, 'model_name': 'gpt-5-nano-2025-08-07', 'system_fingerprint': None, 'id': 'chatcmpl-C9RnF0nGJIHWus1AUFCXTvKN9WGw6', 'service_tier': 'default', 'finish_reason': 'stop', 'logprobs': None} id='run--5ea9e04c-5f0f-450d-991a-332e4655aa9f-0' usage_metadata={'input_tokens': 14, 'output_tokens': 64, 'total_tokens': 78, 'input_token_details': {'audio': 0, 'cache_read': 0}, 'output_token_details': {'audio': 0, 'reasoning': 0}}\n"
     ]
    }
   ],
   "source": [
    "# test chat model with a simple prompt\n",
    "response = chat_model.invoke(\"What is the capital of the moon?\")\n",
    "print(response)"
   ]
  },
  {
   "cell_type": "code",
   "execution_count": 27,
   "metadata": {},
   "outputs": [
    {
     "name": "stdout",
     "output_type": "stream",
     "text": [
      "System prompt:\n",
      "Extract product information from the given text and return it as JSON.\n",
      "\n",
      "Extract these fields if present:\n",
      "- brand: The manufacturer or brand name\n",
      "- model: The specific product model or name\n",
      "- price: The price as a number (without currency symbols)  \n",
      "- category: The product category (e.g., \"smartphone\", \"laptop\", \"headphones\")\n",
      "- color: The product color if mentioned\n",
      "\n",
      "Return only valid JSON with the extracted fields. If a field is not found, omit it from the JSON.\n",
      "\n",
      "Example:\n",
      "{\"brand\": \"Apple\", \"model\": \"iPhone 14\", \"price\": 999.99, \"category\": \"smartphone\", \"color\": \"black\"}\n"
     ]
    }
   ],
   "source": [
    "# System prompt for product extraction\n",
    "system_prompt = \"\"\"Extract product information from the given text and return it as JSON.\n",
    "\n",
    "Extract these fields if present:\n",
    "- brand: The manufacturer or brand name\n",
    "- model: The specific product model or name\n",
    "- price: The price as a number (without currency symbols)  \n",
    "- category: The product category (e.g., \"smartphone\", \"laptop\", \"headphones\")\n",
    "- color: The product color if mentioned\n",
    "\n",
    "Return only valid JSON with the extracted fields. If a field is not found, omit it from the JSON.\n",
    "\n",
    "Example:\n",
    "{\"brand\": \"Apple\", \"model\": \"iPhone 14\", \"price\": 999.99, \"category\": \"smartphone\", \"color\": \"black\"}\"\"\"\n",
    "\n",
    "print(\"System prompt:\")\n",
    "print(system_prompt)"
   ]
  },
  {
   "cell_type": "code",
   "execution_count": 28,
   "metadata": {},
   "outputs": [
    {
     "name": "stdout",
     "output_type": "stream",
     "text": [
      "Few-shot examples (2 examples):\n",
      "\n",
      "Example 1:\n",
      "  Input: Microsoft Surface Pro 9 13-inch tablet in platinum - $1099.99 - 2-in-1 device\n",
      "  Output: {\"brand\": \"Microsoft\", \"model\": \"Surface Pro 9\", \"price\": 1099.99, \"category\": \"tablet\", \"color\": \"platinum\"}\n",
      "\n",
      "Example 2:\n",
      "  Input: AirPods Pro (2nd generation) wireless earbuds for $249 with active noise cancellation\n",
      "  Output: {\"brand\": \"Apple\", \"model\": \"AirPods Pro\", \"price\": 249.0, \"category\": \"earbuds\"}\n"
     ]
    }
   ],
   "source": [
    "# Few-shot examples to improve extraction quality\n",
    "few_shots = [\n",
    "    (\n",
    "        \"Microsoft Surface Pro 9 13-inch tablet in platinum - $1099.99 - 2-in-1 device\",\n",
    "        '{\"brand\": \"Microsoft\", \"model\": \"Surface Pro 9\", \"price\": 1099.99, \"category\": \"tablet\", \"color\": \"platinum\"}'\n",
    "    ),\n",
    "    (\n",
    "        \"AirPods Pro (2nd generation) wireless earbuds for $249 with active noise cancellation\",\n",
    "        '{\"brand\": \"Apple\", \"model\": \"AirPods Pro\", \"price\": 249.0, \"category\": \"earbuds\"}'\n",
    "    )\n",
    "]\n",
    "\n",
    "print(f\"Few-shot examples ({len(few_shots)} examples):\")\n",
    "for i, (input_text, expected_output) in enumerate(few_shots, 1):\n",
    "    print(f\"\\nExample {i}:\")\n",
    "    print(f\"  Input: {input_text}\")\n",
    "    print(f\"  Output: {expected_output}\")"
   ]
  },
  {
   "cell_type": "markdown",
   "metadata": {},
   "source": [
    "## Create and Configure LLMExtractor\n",
    "\n",
    "Now let's create the LLMExtractor with our configuration."
   ]
  },
  {
   "cell_type": "code",
   "execution_count": 29,
   "metadata": {},
   "outputs": [
    {
     "name": "stdout",
     "output_type": "stream",
     "text": [
      "✅ LLMExtractor configured with:\n",
      "  - Model: gpt-5-nano\n",
      "  - Schema: Product (5 fields)\n",
      "  - Few-shot examples: 2\n",
      "  - Debug mode: True\n",
      "  - Max retries: 2\n",
      "  - Output directory: ../../output/informationextraction/llm_example\n"
     ]
    }
   ],
   "source": [
    "if not OPENAI_AVAILABLE or not os.getenv('OPENAI_API_KEY'):\n",
    "    print(\"⚠️ Cannot create LLMExtractor - missing dependencies or API key\")\n",
    "    print(\"   This cell will be skipped.\")\n",
    "else:\n",
    "    # Create LLM extractor\n",
    "    extractor = LLMExtractor(\n",
    "        chat_model=chat_model,\n",
    "        schema=Product,\n",
    "        source_column=\"description\", \n",
    "        system_prompt=system_prompt,\n",
    "        few_shots=few_shots,\n",
    "        debug=True,  # Enable debug artifacts\n",
    "        retries=2,   # Retry failed extractions\n",
    "        out_dir=\"../../output/informationextraction/llm_example\"\n",
    "    )\n",
    "    \n",
    "    print(\"✅ LLMExtractor configured with:\")\n",
    "    print(f\"  - Model: {chat_model.model_name}\")\n",
    "    print(f\"  - Schema: {Product.__name__} ({len(Product.__annotations__)} fields)\")\n",
    "    print(f\"  - Few-shot examples: {len(few_shots)}\")\n",
    "    print(f\"  - Debug mode: {extractor.debug}\")\n",
    "    print(f\"  - Max retries: {extractor.retries}\")\n",
    "    print(f\"  - Output directory: {extractor.out_dir}\")"
   ]
  },
  {
   "cell_type": "markdown",
   "metadata": {},
   "source": [
    "## Run Extraction\n",
    "\n",
    "Now let's run the LLM-based extraction on our product descriptions."
   ]
  },
  {
   "cell_type": "code",
   "execution_count": 30,
   "metadata": {},
   "outputs": [
    {
     "name": "stdout",
     "output_type": "stream",
     "text": [
      "content='{\"brand\": \"Apple\", \"model\": \"iPhone 14 Pro\"}' additional_kwargs={'refusal': None} response_metadata={'token_usage': {'completion_tokens': 25, 'prompt_tokens': 301, 'total_tokens': 326, 'completion_tokens_details': {'accepted_prediction_tokens': 0, 'audio_tokens': 0, 'reasoning_tokens': 0, 'rejected_prediction_tokens': 0}, 'prompt_tokens_details': {'audio_tokens': 0, 'cached_tokens': 0}}, 'model_name': 'gpt-5-nano-2025-08-07', 'system_fingerprint': None, 'id': 'chatcmpl-C9RnHXPN0nb7pgWzkg5E78e4DvJAt', 'service_tier': 'default', 'finish_reason': 'stop', 'logprobs': None} id='run--43942186-02bf-4f6d-8ac1-d7d60716bd8a-0' usage_metadata={'input_tokens': 301, 'output_tokens': 25, 'total_tokens': 326, 'input_token_details': {'audio': 0, 'cache_read': 0}, 'output_token_details': {'audio': 0, 'reasoning': 0}}\n"
     ]
    }
   ],
   "source": [
    "# Pass the system prompt, few-shot examples, and a user message to the chat_model\n",
    "from langchain_core.messages import SystemMessage, HumanMessage, AIMessage\n",
    "\n",
    "messages = [\n",
    "    SystemMessage(content=system_prompt),\n",
    "]\n",
    "for input_text, expected_output in few_shots:\n",
    "    messages.append(HumanMessage(content=input_text))\n",
    "    messages.append(AIMessage(content=str(expected_output)))\n",
    "# Add a user message to extract info from a sample description\n",
    "sample_description = df['description'].iloc[0]\n",
    "messages.append(HumanMessage(content=sample_description))\n",
    "\n",
    "response = chat_model.invoke(messages)\n",
    "print(response)"
   ]
  },
  {
   "cell_type": "code",
   "execution_count": 31,
   "metadata": {},
   "outputs": [
    {
     "name": "stdout",
     "output_type": "stream",
     "text": [
      "🤖 Extracting product information with LLM...\n",
      "   This may take a few moments as we call the OpenAI API...\n",
      "✅ Extraction completed!\n"
     ]
    }
   ],
   "source": [
    "# Extract information using LLM\n",
    "print(\"🤖 Extracting product information with LLM...\")\n",
    "print(\"   This may take a few moments as we call the OpenAI API...\")\n",
    "\n",
    "result_df = extractor.extract(df, source_column=\"description\")\n",
    "\n",
    "print(f\"✅ Extraction completed!\")"
   ]
  },
  {
   "cell_type": "markdown",
   "metadata": {},
   "source": [
    "## Analyze Results\n",
    "\n",
    "Let's examine the extraction results and analyze the quality of the LLM-based extraction."
   ]
  },
  {
   "cell_type": "code",
   "execution_count": 32,
   "metadata": {},
   "outputs": [
    {
     "name": "stdout",
     "output_type": "stream",
     "text": [
      "Added 5 new columns to the dataset\n",
      "Debug artifacts saved to: ../../output/informationextraction/llm_example/\n",
      "\n",
      "Extraction Results:\n"
     ]
    },
    {
     "data": {
      "text/html": [
       "<div>\n",
       "<style scoped>\n",
       "    .dataframe tbody tr th:only-of-type {\n",
       "        vertical-align: middle;\n",
       "    }\n",
       "\n",
       "    .dataframe tbody tr th {\n",
       "        vertical-align: top;\n",
       "    }\n",
       "\n",
       "    .dataframe thead th {\n",
       "        text-align: right;\n",
       "    }\n",
       "</style>\n",
       "<table border=\"1\" class=\"dataframe\">\n",
       "  <thead>\n",
       "    <tr style=\"text-align: right;\">\n",
       "      <th></th>\n",
       "      <th>description</th>\n",
       "      <th>brand</th>\n",
       "      <th>model</th>\n",
       "      <th>price</th>\n",
       "      <th>category</th>\n",
       "      <th>color</th>\n",
       "    </tr>\n",
       "  </thead>\n",
       "  <tbody>\n",
       "    <tr>\n",
       "      <th>0</th>\n",
       "      <td>Apple iPhone 14 Pro - Space Black - $999.99 - ...</td>\n",
       "      <td>Apple</td>\n",
       "      <td>iPhone 14 Pro</td>\n",
       "      <td>999.99</td>\n",
       "      <td>smartphone</td>\n",
       "      <td>Space Black</td>\n",
       "    </tr>\n",
       "    <tr>\n",
       "      <th>1</th>\n",
       "      <td>Samsung Galaxy S23 Ultra 256GB Phantom Black s...</td>\n",
       "      <td>Samsung</td>\n",
       "      <td>Galaxy S23 Ultra</td>\n",
       "      <td>1199.00</td>\n",
       "      <td>smartphone</td>\n",
       "      <td>Phantom Black</td>\n",
       "    </tr>\n",
       "    <tr>\n",
       "      <th>2</th>\n",
       "      <td>Sony WH-1000XM4 wireless noise-canceling headp...</td>\n",
       "      <td>Sony</td>\n",
       "      <td>WH-1000XM4</td>\n",
       "      <td>349.99</td>\n",
       "      <td>headphones</td>\n",
       "      <td>silver</td>\n",
       "    </tr>\n",
       "    <tr>\n",
       "      <th>3</th>\n",
       "      <td>Dell XPS 13 laptop - Intel i7, 16GB RAM, 512GB...</td>\n",
       "      <td>Dell</td>\n",
       "      <td>XPS 13</td>\n",
       "      <td>1299.00</td>\n",
       "      <td>laptop</td>\n",
       "      <td>None</td>\n",
       "    </tr>\n",
       "    <tr>\n",
       "      <th>4</th>\n",
       "      <td>Nintendo Switch OLED White Console with Joy-Co...</td>\n",
       "      <td>Nintendo</td>\n",
       "      <td>Switch OLED White Console with Joy-Con control...</td>\n",
       "      <td>349.99</td>\n",
       "      <td>gaming system</td>\n",
       "      <td>None</td>\n",
       "    </tr>\n",
       "    <tr>\n",
       "      <th>5</th>\n",
       "      <td>Dyson V15 Detect cordless vacuum cleaner in ye...</td>\n",
       "      <td>Dyson</td>\n",
       "      <td>V15 Detect</td>\n",
       "      <td>749.99</td>\n",
       "      <td>home appliance</td>\n",
       "      <td>yellow</td>\n",
       "    </tr>\n",
       "  </tbody>\n",
       "</table>\n",
       "</div>"
      ],
      "text/plain": [
       "                                         description     brand  \\\n",
       "0  Apple iPhone 14 Pro - Space Black - $999.99 - ...     Apple   \n",
       "1  Samsung Galaxy S23 Ultra 256GB Phantom Black s...   Samsung   \n",
       "2  Sony WH-1000XM4 wireless noise-canceling headp...      Sony   \n",
       "3  Dell XPS 13 laptop - Intel i7, 16GB RAM, 512GB...      Dell   \n",
       "4  Nintendo Switch OLED White Console with Joy-Co...  Nintendo   \n",
       "5  Dyson V15 Detect cordless vacuum cleaner in ye...     Dyson   \n",
       "\n",
       "                                               model    price        category  \\\n",
       "0                                      iPhone 14 Pro   999.99      smartphone   \n",
       "1                                   Galaxy S23 Ultra  1199.00      smartphone   \n",
       "2                                         WH-1000XM4   349.99      headphones   \n",
       "3                                             XPS 13  1299.00          laptop   \n",
       "4  Switch OLED White Console with Joy-Con control...   349.99   gaming system   \n",
       "5                                         V15 Detect   749.99  home appliance   \n",
       "\n",
       "           color  \n",
       "0    Space Black  \n",
       "1  Phantom Black  \n",
       "2         silver  \n",
       "3           None  \n",
       "4           None  \n",
       "5         yellow  "
      ]
     },
     "execution_count": 32,
     "metadata": {},
     "output_type": "execute_result"
    }
   ],
   "source": [
    "# Display extraction results\n",
    "print(f\"Added {len(Product.__annotations__)} new columns to the dataset\")\n",
    "if OPENAI_AVAILABLE and os.getenv('OPENAI_API_KEY'):\n",
    "    print(f\"Debug artifacts saved to: {extractor.out_dir}/\")\n",
    "\n",
    "# Show sample results\n",
    "print(\"\\nExtraction Results:\")\n",
    "display_columns = ['description', 'brand', 'model', 'price', 'category', 'color']\n",
    "available_columns = [col for col in display_columns if col in result_df.columns]\n",
    "\n",
    "# Configure pandas display options for better readability\n",
    "pd.set_option('display.max_columns', None)\n",
    "pd.set_option('display.width', None) \n",
    "pd.set_option('display.max_colwidth', 50)\n",
    "\n",
    "result_df[available_columns]"
   ]
  },
  {
   "cell_type": "code",
   "execution_count": 33,
   "metadata": {},
   "outputs": [
    {
     "name": "stdout",
     "output_type": "stream",
     "text": [
      "Extraction Statistics:\n",
      "  brand: 6/6 (100.0%)\n",
      "    → Unique values: ['Apple', 'Samsung', 'Sony', 'Dell', 'Nintendo', 'Dyson']\n",
      "  model: 6/6 (100.0%)\n",
      "  price: 6/6 (100.0%)\n",
      "  category: 6/6 (100.0%)\n",
      "    → Unique values: ['smartphone', 'headphones', 'laptop', 'gaming system', 'home appliance']\n",
      "  color: 4/6 (66.7%)\n",
      "    → Unique values: ['Space Black', 'Phantom Black', 'silver', 'yellow']\n"
     ]
    }
   ],
   "source": [
    "# Show extraction statistics\n",
    "print(\"Extraction Statistics:\")\n",
    "for field in Product.__annotations__.keys():\n",
    "    if field in result_df.columns:\n",
    "        non_null = result_df[field].notna().sum()\n",
    "        total = len(result_df)\n",
    "        rate = non_null / total * 100\n",
    "        print(f\"  {field}: {non_null}/{total} ({rate:.1f}%)\")\n",
    "        \n",
    "        # Show unique values for categorical fields\n",
    "        if field in ['brand', 'category', 'color'] and non_null > 0:\n",
    "            unique_vals = result_df[field].dropna().unique()\n",
    "            print(f\"    → Unique values: {list(unique_vals)}\")"
   ]
  },
  {
   "cell_type": "code",
   "execution_count": 34,
   "metadata": {},
   "outputs": [
    {
     "name": "stdout",
     "output_type": "stream",
     "text": [
      "Detailed Extraction Analysis:\n",
      "============================================================\n",
      "\n",
      "Product 1:\n",
      "  Description: Apple iPhone 14 Pro - Space Black - $999.99 - Premium smartphone with advanced c...\n",
      "  Extracted: brand: Apple | model: iPhone 14 Pro | price: $999.99 | category: smartphone | color: Space Black\n",
      "\n",
      "Product 2:\n",
      "  Description: Samsung Galaxy S23 Ultra 256GB Phantom Black smartphone for $1199 with S Pen inc...\n",
      "  Extracted: brand: Samsung | model: Galaxy S23 Ultra | price: $1199.00 | category: smartphone | color: Phantom Black\n",
      "\n",
      "Product 3:\n",
      "  Description: Sony WH-1000XM4 wireless noise-canceling headphones in silver color priced at $3...\n",
      "  Extracted: brand: Sony | model: WH-1000XM4 | price: $349.99 | category: headphones | color: silver\n",
      "\n",
      "Product 4:\n",
      "  Description: Dell XPS 13 laptop - Intel i7, 16GB RAM, 512GB SSD - $1,299.00 - Ultrabook categ...\n",
      "  Extracted: brand: Dell | model: XPS 13 | price: $1299.00 | category: laptop\n",
      "\n",
      "Product 5:\n",
      "  Description: Nintendo Switch OLED White Console with Joy-Con controllers - $349.99 gaming sys...\n",
      "  Extracted: brand: Nintendo | model: Switch OLED White Console with Joy-Con controllers | price: $349.99 | category: gaming system\n",
      "\n",
      "Product 6:\n",
      "  Description: Dyson V15 Detect cordless vacuum cleaner in yellow - $749.99 - Home appliances\n",
      "  Extracted: brand: Dyson | model: V15 Detect | price: $749.99 | category: home appliance | color: yellow\n"
     ]
    }
   ],
   "source": [
    "# Detailed analysis of each extraction\n",
    "print(\"Detailed Extraction Analysis:\")\n",
    "print(\"=\" * 60)\n",
    "\n",
    "for i, row in result_df.iterrows():\n",
    "    print(f\"\\nProduct {i+1}:\")\n",
    "    print(f\"  Description: {row['description'][:80]}...\" if len(row['description']) > 80 else f\"  Description: {row['description']}\")\n",
    "    \n",
    "    extracted_info = []\n",
    "    for field in ['brand', 'model', 'price', 'category', 'color']:\n",
    "        if field in row and pd.notna(row[field]):\n",
    "            if field == 'price':\n",
    "                extracted_info.append(f\"{field}: ${row[field]:.2f}\")\n",
    "            else:\n",
    "                extracted_info.append(f\"{field}: {row[field]}\")\n",
    "    \n",
    "    if extracted_info:\n",
    "        print(f\"  Extracted: {' | '.join(extracted_info)}\")\n",
    "    else:\n",
    "        print(\"  Extracted: No structured data found\")"
   ]
  },
  {
   "cell_type": "markdown",
   "metadata": {},
   "source": [
    "## Save Results\n",
    "\n",
    "Finally, let's save our extraction results to a CSV file."
   ]
  },
  {
   "cell_type": "code",
   "execution_count": 35,
   "metadata": {},
   "outputs": [
    {
     "name": "stdout",
     "output_type": "stream",
     "text": [
      "✅ Results saved to: output/informationextraction/llm_example/extracted_products.csv\n",
      "\n",
      "Saved 6 rows with 6 columns:\n",
      "Columns: ['description', 'brand', 'model', 'price', 'category', 'color']\n"
     ]
    }
   ],
   "source": [
    "# Save results\n",
    "import os\n",
    "os.makedirs(\"output/informationextraction/llm_example\", exist_ok=True)\n",
    "output_path = \"output/informationextraction/llm_example/extracted_products.csv\"\n",
    "result_df.to_csv(output_path, index=False)\n",
    "print(f\"✅ Results saved to: {output_path}\")\n",
    "\n",
    "# Show what was saved\n",
    "print(f\"\\nSaved {len(result_df)} rows with {len(result_df.columns)} columns:\")\n",
    "print(f\"Columns: {list(result_df.columns)}\")"
   ]
  },
  {
   "cell_type": "markdown",
   "metadata": {},
   "source": [
    "## Open-schema Extraction (no predefined schema)\n",
    "\n",
    "Sometimes you don’t know the fields upfront. In open-schema mode, the extractor sends your prompt and examples to the LLM, then stores whatever structured JSON the model returns in a single column named `extracted` (as a JSON string).\n",
    "\n",
    "What to expect:\n",
    "- The output DataFrame will not contain fixed columns like `brand`, `model`, etc. Instead it has one column: `extracted`.\n",
    "- Each `extracted` cell contains a JSON string that you can parse/expand later.\n",
    "- All usual debug artifacts (prompts, responses, errors, config, stats) are still saved under the timestamped run directory.\n",
    "\n",
    "How to view the results inline:\n",
    "- Quick view:\n",
    "  - `open_result_df[['description', 'extracted']].head(10)`\n",
    "- Expand to columns (optional post-processing):\n",
    "  - Use `pd.json_normalize(open_result_df['extracted'].dropna().apply(json.loads))` to turn the JSON into columns, then concat with the original DataFrame (see the code cell below for a working example).\n"
   ]
  },
  {
   "cell_type": "code",
   "execution_count": 36,
   "metadata": {},
   "outputs": [
    {
     "name": "stdout",
     "output_type": "stream",
     "text": [
      "✅ Open-schema LLMExtractor configured.\n"
     ]
    }
   ],
   "source": [
    "open_extractor = LLMExtractor(\n",
    "    chat_model=chat_model,\n",
    "    source_column=\"description\",\n",
    "    system_prompt=\"\"\"Extract any meaningful product information from the text as a flat JSON object. \n",
    "Return only valid JSON. \"\"\",\n",
    "    schema=None,\n",
    "    few_shots=[\n",
    "        (\n",
    "            \"Bose QuietComfort 45 headphones in black - $329 - wireless over-ear\",\n",
    "            '{\"brand\": \"Bose\", \"model\": \"QuietComfort 45\", \"price\": 329.0, \"category\": \"headphones\", \"color\": \"black\", \"wireless\": true}'\n",
    "        )\n",
    "    ],\n",
    "    debug=True,\n",
    "    retries=2,\n",
    "    out_dir=\"../../output/informationextraction/llm_example\"\n",
    ")\n",
    "print(\"✅ Open-schema LLMExtractor configured.\")\n"
   ]
  },
  {
   "cell_type": "code",
   "execution_count": 37,
   "metadata": {},
   "outputs": [
    {
     "name": "stdout",
     "output_type": "stream",
     "text": [
      "Extracting with open schema...\n",
      "Open-schema extraction completed!\n"
     ]
    }
   ],
   "source": [
    "print(\"Extracting with open schema...\")\n",
    "open_result_df = open_extractor.extract(df, source_column=\"description\")\n",
    "print(\"Open-schema extraction completed!\")\n"
   ]
  },
  {
   "cell_type": "code",
   "execution_count": 38,
   "metadata": {},
   "outputs": [
    {
     "data": {
      "text/html": [
       "<div>\n",
       "<style scoped>\n",
       "    .dataframe tbody tr th:only-of-type {\n",
       "        vertical-align: middle;\n",
       "    }\n",
       "\n",
       "    .dataframe tbody tr th {\n",
       "        vertical-align: top;\n",
       "    }\n",
       "\n",
       "    .dataframe thead th {\n",
       "        text-align: right;\n",
       "    }\n",
       "</style>\n",
       "<table border=\"1\" class=\"dataframe\">\n",
       "  <thead>\n",
       "    <tr style=\"text-align: right;\">\n",
       "      <th></th>\n",
       "      <th>description</th>\n",
       "      <th>extracted</th>\n",
       "    </tr>\n",
       "  </thead>\n",
       "  <tbody>\n",
       "    <tr>\n",
       "      <th>0</th>\n",
       "      <td>Apple iPhone 14 Pro - Space Black - $999.99 - ...</td>\n",
       "      <td>{\"brand\": \"Apple\", \"model\": \"iPhone 14 Pro\", \"...</td>\n",
       "    </tr>\n",
       "    <tr>\n",
       "      <th>1</th>\n",
       "      <td>Samsung Galaxy S23 Ultra 256GB Phantom Black s...</td>\n",
       "      <td>{\"brand\": \"Samsung\", \"model\": \"Galaxy S23 Ultr...</td>\n",
       "    </tr>\n",
       "    <tr>\n",
       "      <th>2</th>\n",
       "      <td>Sony WH-1000XM4 wireless noise-canceling headp...</td>\n",
       "      <td>{\"brand\": \"Sony\", \"model\": \"WH-1000XM4\", \"pric...</td>\n",
       "    </tr>\n",
       "    <tr>\n",
       "      <th>3</th>\n",
       "      <td>Dell XPS 13 laptop - Intel i7, 16GB RAM, 512GB...</td>\n",
       "      <td>{\"brand\": \"Dell\", \"model\": \"XPS 13\", \"processo...</td>\n",
       "    </tr>\n",
       "    <tr>\n",
       "      <th>4</th>\n",
       "      <td>Nintendo Switch OLED White Console with Joy-Co...</td>\n",
       "      <td>{\"brand\": \"Nintendo\", \"model\": \"Switch OLED Wh...</td>\n",
       "    </tr>\n",
       "    <tr>\n",
       "      <th>5</th>\n",
       "      <td>Dyson V15 Detect cordless vacuum cleaner in ye...</td>\n",
       "      <td>{\"brand\": \"Dyson\", \"model\": \"V15 Detect\", \"pri...</td>\n",
       "    </tr>\n",
       "  </tbody>\n",
       "</table>\n",
       "</div>"
      ],
      "text/plain": [
       "                                         description  \\\n",
       "0  Apple iPhone 14 Pro - Space Black - $999.99 - ...   \n",
       "1  Samsung Galaxy S23 Ultra 256GB Phantom Black s...   \n",
       "2  Sony WH-1000XM4 wireless noise-canceling headp...   \n",
       "3  Dell XPS 13 laptop - Intel i7, 16GB RAM, 512GB...   \n",
       "4  Nintendo Switch OLED White Console with Joy-Co...   \n",
       "5  Dyson V15 Detect cordless vacuum cleaner in ye...   \n",
       "\n",
       "                                           extracted  \n",
       "0  {\"brand\": \"Apple\", \"model\": \"iPhone 14 Pro\", \"...  \n",
       "1  {\"brand\": \"Samsung\", \"model\": \"Galaxy S23 Ultr...  \n",
       "2  {\"brand\": \"Sony\", \"model\": \"WH-1000XM4\", \"pric...  \n",
       "3  {\"brand\": \"Dell\", \"model\": \"XPS 13\", \"processo...  \n",
       "4  {\"brand\": \"Nintendo\", \"model\": \"Switch OLED Wh...  \n",
       "5  {\"brand\": \"Dyson\", \"model\": \"V15 Detect\", \"pri...  "
      ]
     },
     "execution_count": 38,
     "metadata": {},
     "output_type": "execute_result"
    }
   ],
   "source": [
    "open_result_df"
   ]
  },
  {
   "cell_type": "code",
   "execution_count": 39,
   "metadata": {},
   "outputs": [
    {
     "data": {
      "text/html": [
       "<div>\n",
       "<style scoped>\n",
       "    .dataframe tbody tr th:only-of-type {\n",
       "        vertical-align: middle;\n",
       "    }\n",
       "\n",
       "    .dataframe tbody tr th {\n",
       "        vertical-align: top;\n",
       "    }\n",
       "\n",
       "    .dataframe thead th {\n",
       "        text-align: right;\n",
       "    }\n",
       "</style>\n",
       "<table border=\"1\" class=\"dataframe\">\n",
       "  <thead>\n",
       "    <tr style=\"text-align: right;\">\n",
       "      <th></th>\n",
       "      <th>description</th>\n",
       "      <th>llm_brand</th>\n",
       "      <th>llm_model</th>\n",
       "      <th>llm_color</th>\n",
       "      <th>llm_price</th>\n",
       "      <th>llm_category</th>\n",
       "      <th>llm_features</th>\n",
       "      <th>llm_storage</th>\n",
       "      <th>llm_includes</th>\n",
       "      <th>llm_wireless</th>\n",
       "      <th>llm_feature</th>\n",
       "      <th>llm_processor</th>\n",
       "      <th>llm_ram</th>\n",
       "      <th>llm_controllers</th>\n",
       "      <th>llm_sub_category</th>\n",
       "    </tr>\n",
       "  </thead>\n",
       "  <tbody>\n",
       "    <tr>\n",
       "      <th>0</th>\n",
       "      <td>Apple iPhone 14 Pro - Space Black - $999.99 - ...</td>\n",
       "      <td>Apple</td>\n",
       "      <td>iPhone 14 Pro</td>\n",
       "      <td>Space Black</td>\n",
       "      <td>999.99</td>\n",
       "      <td>smartphone</td>\n",
       "      <td>[Premium smartphone with advanced camera system]</td>\n",
       "      <td>NaN</td>\n",
       "      <td>NaN</td>\n",
       "      <td>NaN</td>\n",
       "      <td>NaN</td>\n",
       "      <td>NaN</td>\n",
       "      <td>NaN</td>\n",
       "      <td>NaN</td>\n",
       "      <td>NaN</td>\n",
       "    </tr>\n",
       "    <tr>\n",
       "      <th>1</th>\n",
       "      <td>Samsung Galaxy S23 Ultra 256GB Phantom Black s...</td>\n",
       "      <td>Samsung</td>\n",
       "      <td>Galaxy S23 Ultra</td>\n",
       "      <td>Phantom Black</td>\n",
       "      <td>1199.00</td>\n",
       "      <td>smartphone</td>\n",
       "      <td>NaN</td>\n",
       "      <td>256GB</td>\n",
       "      <td>[S Pen]</td>\n",
       "      <td>NaN</td>\n",
       "      <td>NaN</td>\n",
       "      <td>NaN</td>\n",
       "      <td>NaN</td>\n",
       "      <td>NaN</td>\n",
       "      <td>NaN</td>\n",
       "    </tr>\n",
       "    <tr>\n",
       "      <th>2</th>\n",
       "      <td>Sony WH-1000XM4 wireless noise-canceling headp...</td>\n",
       "      <td>Sony</td>\n",
       "      <td>WH-1000XM4</td>\n",
       "      <td>silver</td>\n",
       "      <td>349.99</td>\n",
       "      <td>headphones</td>\n",
       "      <td>NaN</td>\n",
       "      <td>NaN</td>\n",
       "      <td>NaN</td>\n",
       "      <td>True</td>\n",
       "      <td>noise-canceling</td>\n",
       "      <td>NaN</td>\n",
       "      <td>NaN</td>\n",
       "      <td>NaN</td>\n",
       "      <td>NaN</td>\n",
       "    </tr>\n",
       "    <tr>\n",
       "      <th>3</th>\n",
       "      <td>Dell XPS 13 laptop - Intel i7, 16GB RAM, 512GB...</td>\n",
       "      <td>Dell</td>\n",
       "      <td>XPS 13</td>\n",
       "      <td>NaN</td>\n",
       "      <td>1299.00</td>\n",
       "      <td>Ultrabook</td>\n",
       "      <td>NaN</td>\n",
       "      <td>512GB SSD</td>\n",
       "      <td>NaN</td>\n",
       "      <td>NaN</td>\n",
       "      <td>NaN</td>\n",
       "      <td>Intel i7</td>\n",
       "      <td>16.0</td>\n",
       "      <td>NaN</td>\n",
       "      <td>NaN</td>\n",
       "    </tr>\n",
       "    <tr>\n",
       "      <th>4</th>\n",
       "      <td>Nintendo Switch OLED White Console with Joy-Co...</td>\n",
       "      <td>Nintendo</td>\n",
       "      <td>Switch OLED White Console with Joy-Con control...</td>\n",
       "      <td>white</td>\n",
       "      <td>349.99</td>\n",
       "      <td>gaming system</td>\n",
       "      <td>NaN</td>\n",
       "      <td>NaN</td>\n",
       "      <td>NaN</td>\n",
       "      <td>True</td>\n",
       "      <td>NaN</td>\n",
       "      <td>NaN</td>\n",
       "      <td>NaN</td>\n",
       "      <td>Joy-Con</td>\n",
       "      <td>NaN</td>\n",
       "    </tr>\n",
       "    <tr>\n",
       "      <th>5</th>\n",
       "      <td>Dyson V15 Detect cordless vacuum cleaner in ye...</td>\n",
       "      <td>Dyson</td>\n",
       "      <td>V15 Detect</td>\n",
       "      <td>yellow</td>\n",
       "      <td>749.99</td>\n",
       "      <td>home appliances</td>\n",
       "      <td>NaN</td>\n",
       "      <td>NaN</td>\n",
       "      <td>NaN</td>\n",
       "      <td>True</td>\n",
       "      <td>NaN</td>\n",
       "      <td>NaN</td>\n",
       "      <td>NaN</td>\n",
       "      <td>NaN</td>\n",
       "      <td>cordless vacuum cleaner</td>\n",
       "    </tr>\n",
       "  </tbody>\n",
       "</table>\n",
       "</div>"
      ],
      "text/plain": [
       "                                         description llm_brand  \\\n",
       "0  Apple iPhone 14 Pro - Space Black - $999.99 - ...     Apple   \n",
       "1  Samsung Galaxy S23 Ultra 256GB Phantom Black s...   Samsung   \n",
       "2  Sony WH-1000XM4 wireless noise-canceling headp...      Sony   \n",
       "3  Dell XPS 13 laptop - Intel i7, 16GB RAM, 512GB...      Dell   \n",
       "4  Nintendo Switch OLED White Console with Joy-Co...  Nintendo   \n",
       "5  Dyson V15 Detect cordless vacuum cleaner in ye...     Dyson   \n",
       "\n",
       "                                           llm_model      llm_color  \\\n",
       "0                                      iPhone 14 Pro    Space Black   \n",
       "1                                   Galaxy S23 Ultra  Phantom Black   \n",
       "2                                         WH-1000XM4         silver   \n",
       "3                                             XPS 13            NaN   \n",
       "4  Switch OLED White Console with Joy-Con control...          white   \n",
       "5                                         V15 Detect         yellow   \n",
       "\n",
       "   llm_price     llm_category  \\\n",
       "0     999.99       smartphone   \n",
       "1    1199.00       smartphone   \n",
       "2     349.99       headphones   \n",
       "3    1299.00        Ultrabook   \n",
       "4     349.99    gaming system   \n",
       "5     749.99  home appliances   \n",
       "\n",
       "                                       llm_features llm_storage llm_includes  \\\n",
       "0  [Premium smartphone with advanced camera system]         NaN          NaN   \n",
       "1                                               NaN       256GB      [S Pen]   \n",
       "2                                               NaN         NaN          NaN   \n",
       "3                                               NaN   512GB SSD          NaN   \n",
       "4                                               NaN         NaN          NaN   \n",
       "5                                               NaN         NaN          NaN   \n",
       "\n",
       "  llm_wireless      llm_feature llm_processor  llm_ram llm_controllers  \\\n",
       "0          NaN              NaN           NaN      NaN             NaN   \n",
       "1          NaN              NaN           NaN      NaN             NaN   \n",
       "2         True  noise-canceling           NaN      NaN             NaN   \n",
       "3          NaN              NaN      Intel i7     16.0             NaN   \n",
       "4         True              NaN           NaN      NaN         Joy-Con   \n",
       "5         True              NaN           NaN      NaN             NaN   \n",
       "\n",
       "          llm_sub_category  \n",
       "0                      NaN  \n",
       "1                      NaN  \n",
       "2                      NaN  \n",
       "3                      NaN  \n",
       "4                      NaN  \n",
       "5  cordless vacuum cleaner  "
      ]
     },
     "execution_count": 39,
     "metadata": {},
     "output_type": "execute_result"
    }
   ],
   "source": [
    "expanded = pd.json_normalize(open_result_df['extracted'].dropna().apply(json.loads)).add_prefix('llm_')\n",
    "open_result_df_expanded = pd.concat([open_result_df.drop(columns=['extracted']), expanded], axis=1)\n",
    "open_result_df_expanded.head(10)"
   ]
  }
 ],
 "metadata": {
  "kernelspec": {
   "display_name": "env",
   "language": "python",
   "name": "python3"
  },
  "language_info": {
   "codemirror_mode": {
    "name": "ipython",
    "version": 3
   },
   "file_extension": ".py",
   "mimetype": "text/x-python",
   "name": "python",
   "nbconvert_exporter": "python",
   "pygments_lexer": "ipython3",
   "version": "3.12.8"
  }
 },
 "nbformat": 4,
 "nbformat_minor": 4
}
