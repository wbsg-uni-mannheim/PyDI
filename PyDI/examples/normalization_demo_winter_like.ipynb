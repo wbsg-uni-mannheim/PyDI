{
  "cells": [
    {
      "cell_type": "code",
      "execution_count": 1,
      "metadata": {},
      "outputs": [
        {
          "name": "stderr",
          "output_type": "stream",
          "text": [
            "NLTK not available. Advanced tokenization features will be limited.\n"
          ]
        },
        {
          "data": {
            "text/plain": [
              "{'1,234.56': 1234.56,\n",
              " '1.234,56': 1234.56,\n",
              " '1 234,56': 1234.56,\n",
              " '1\\xa0234,56': 1234.56,\n",
              " \"1'234.56\": 1234.56,\n",
              " '(1.234,56)': 1234.56,\n",
              " '$1,234.56': 1234.56,\n",
              " '€ 1.234,56': 1234.56,\n",
              " '12,5%': 0.125}"
            ]
          },
          "execution_count": 1,
          "metadata": {},
          "output_type": "execute_result"
        }
      ],
      "source": [
        "# Babel-backed numeric parsing (per-value detection)\n",
        "from PyDI.normalization.types import NumericParser\n",
        "\n",
        "# Provided samples\n",
        "samples = [\n",
        "    \"1,234.56\",  # US\n",
        "    \"1.234,56\",  # EU\n",
        "    \"1 234,56\",  # EU with space grouping\n",
        "    \"1\\xa0234,56\",  # NBSP grouping\n",
        "    \"1'234.56\",  # Swiss\n",
        "    \"(1.234,56)\",  # EU negative parentheses\n",
        "    \"$1,234.56\",  # currency US\n",
        "    \"€ 1.234,56\",  # currency EU\n",
        "    \"12,5%\",  # EU percent\n",
        "]\n",
        "\n",
        "np = NumericParser(use_babel=True)\n",
        "\n",
        "# Parse each value independently using Babel-backed detection\n",
        "parsed = {s: np.parse_numeric(s) for s in samples}\n",
        "parsed\n"
      ]
    },
    {
      "cell_type": "code",
      "execution_count": null,
      "metadata": {},
      "outputs": [],
      "source": [
        "# Quantity scaling examples (k, million, billion)\n",
        "from PyDI.normalization.values import AdvancedValueNormalizer\n",
        "\n",
        "avn = AdvancedValueNormalizer()\n",
        "examples = [\n",
        "    \"1.2k\", \"2k\", \"3 thousand\", \"1.5 million\", \"2.75 million\",\n",
        "    \"4 billion\", \"7.2B\", \"120 M\", \"0.5 trilLION\"\n",
        "]\n",
        "\n",
        "scaled = {s: avn._normalize_numeric(s) for s in examples}\n",
        "scaled\n"
      ]
    },
    {
      "cell_type": "code",
      "execution_count": null,
      "metadata": {},
      "outputs": [],
      "source": [
        "# Unit conversion examples (normalize to target units)\n",
        "from PyDI.normalization.units import UnitNormalizer, UnitCategory\n",
        "\n",
        "un = UnitNormalizer()\n",
        "unit_examples = [\n",
        "    \"12 km\", \"4800 m\", \"3.2 miles\",  # length → m\n",
        "    \"5 kg\", \"12,000 g\", \"2.2 lb\",     # weight → kg\n",
        "    \"750 ml\", \"2 L\", \"0.5 gallon\",    # volume → l\n",
        "    \"90 min\", \"2 h\", \"3600 s\",        # time → s\n",
        "    \"32 °F\", \"0 °C\", \"273.15 K\",      # temperature → °C\n",
        "    \"36 km/h\", \"10 m/s\"                 # speed → m/s\n",
        "]\n",
        "\n",
        "converted = {}\n",
        "for s in unit_examples:\n",
        "    result = un.normalize_value(s)\n",
        "    converted[s] = result\n",
        "\n",
        "converted\n"
      ]
    },
    {
      "cell_type": "markdown",
      "metadata": {},
      "source": [
        "# Winter-like Normalization Demo (PyDI)\n",
        "\n",
        "This notebook mirrors `PyDI/examples/normalization_demo_winter_like.py`.\n",
        "\n",
        "It demonstrates:\n",
        "- Provenance-aware loading from XML and CSV\n",
        "- Header normalization and header-derived unit detection\n",
        "- Locale-aware numeric parsing (commas as decimals, apostrophe/space groupings)\n",
        "- Unit-aware numeric normalization and type detection\n",
        "- Dataset-level normalization with a concise summary\n",
        "\n",
        "Run cells below in order. Adjust paths if running outside the repo root.\n"
      ]
    },
    {
      "cell_type": "code",
      "execution_count": 2,
      "metadata": {},
      "outputs": [
        {
          "name": "stdout",
          "output_type": "stream",
          "text": [
            "/Users/aaronsteiner/Documents/GitHub/PyDI\n"
          ]
        }
      ],
      "source": [
        "# Step 0: Imports and helpers (Notebook-friendly)\n",
        "from __future__ import annotations\n",
        "\n",
        "from pathlib import Path\n",
        "import pandas as pd\n",
        "\n",
        "from PyDI.io.loaders import load_xml, load_csv\n",
        "from PyDI.normalization.datasets import (\n",
        "    DatasetNormalizer,\n",
        "    create_normalization_config,\n",
        ")\n",
        "from PyDI.normalization.text import HeaderNormalizer\n",
        "from PyDI.normalization.columns import ColumnTypeInference\n",
        "from PyDI.normalization.types import NumericParser\n",
        "\n",
        "\n",
        "def _repo_root() -> Path:\n",
        "    try:\n",
        "        return Path.cwd().resolve().parents[1]  \n",
        "    except Exception:\n",
        "        return Path.cwd()\n",
        "\n",
        "print(_repo_root())"
      ]
    },
    {
      "cell_type": "markdown",
      "metadata": {},
      "source": [
        "## Step 1: Load demo frames\n",
        "Load XML and CSV frames from bundled inputs.\n"
      ]
    },
    {
      "cell_type": "code",
      "execution_count": 3,
      "metadata": {},
      "outputs": [
        {
          "data": {
            "text/plain": [
              "[['academy_awards', 'actors', 'movies_csv'],\n",
              " {'academy_awards': (4592, 7), 'actors': (151, 7), 'movies_csv': (656, 23)}]"
            ]
          },
          "execution_count": 3,
          "metadata": {},
          "output_type": "execute_result"
        }
      ],
      "source": [
        "def load_demo_frames() -> dict[str, pd.DataFrame]:\n",
        "    root = _repo_root()\n",
        "\n",
        "    paths = {\n",
        "        \"academy_awards\": root / \"input\" / \"fusion\" / \"data\" / \"academy_awards.xml\",\n",
        "        \"actors\": root / \"input\" / \"fusion\" / \"data\" / \"actors.xml\",\n",
        "        \"movies_csv\": root / \"input\" / \"schemamatching\" / \"data\" / \"movie_list.csv\",\n",
        "    }\n",
        "\n",
        "    frames: dict[str, pd.DataFrame] = {}\n",
        "\n",
        "    frames[\"academy_awards\"] = load_xml(\n",
        "        paths[\"academy_awards\"], name=\"academy_awards\")\n",
        "    frames[\"actors\"] = load_xml(paths[\"actors\"], name=\"actors\")\n",
        "\n",
        "    frames[\"movies_csv\"] = load_csv(paths[\"movies_csv\"], name=\"movies\")\n",
        "\n",
        "    return frames\n",
        "\n",
        "frames = load_demo_frames()\n",
        "[list(frames.keys()), {k: v.shape for k, v in frames.items()}]\n"
      ]
    },
    {
      "cell_type": "markdown",
      "metadata": {},
      "source": [
        "## Step 2: Header normalization\n",
        "Normalize column headers to improve type detection later.\n"
      ]
    },
    {
      "cell_type": "code",
      "execution_count": 4,
      "metadata": {},
      "outputs": [
        {
          "name": "stdout",
          "output_type": "stream",
          "text": [
            "Original columns: ['movies_id', 'id', 'year', 'exclude', 'Film', 'Lead Studio', 'Rotten Tomatoes', 'Audience Score', 'Story', 'Genre']\n",
            "Normalized columns: ['movies_id', 'id', 'year', 'exclude', 'film', 'lead_studio', 'rotten_tomatoes', 'audience_score', 'story', 'genre']\n"
          ]
        },
        {
          "data": {
            "text/html": [
              "<div>\n",
              "<style scoped>\n",
              "    .dataframe tbody tr th:only-of-type {\n",
              "        vertical-align: middle;\n",
              "    }\n",
              "\n",
              "    .dataframe tbody tr th {\n",
              "        vertical-align: top;\n",
              "    }\n",
              "\n",
              "    .dataframe thead th {\n",
              "        text-align: right;\n",
              "    }\n",
              "</style>\n",
              "<table border=\"1\" class=\"dataframe\">\n",
              "  <thead>\n",
              "    <tr style=\"text-align: right;\">\n",
              "      <th></th>\n",
              "      <th>movies_id</th>\n",
              "      <th>id</th>\n",
              "      <th>year</th>\n",
              "      <th>exclude</th>\n",
              "      <th>film</th>\n",
              "      <th>lead_studio</th>\n",
              "      <th>rotten_tomatoes</th>\n",
              "      <th>audience_score</th>\n",
              "      <th>story</th>\n",
              "      <th>genre</th>\n",
              "      <th>...</th>\n",
              "      <th>foreign_gross</th>\n",
              "      <th>worldwide_gross</th>\n",
              "      <th>budget</th>\n",
              "      <th>profit</th>\n",
              "      <th>proftitability</th>\n",
              "      <th>opening_weekend</th>\n",
              "      <th>oscar</th>\n",
              "      <th>bafta</th>\n",
              "      <th>source</th>\n",
              "      <th>column</th>\n",
              "    </tr>\n",
              "  </thead>\n",
              "  <tbody>\n",
              "    <tr>\n",
              "      <th>0</th>\n",
              "      <td>movies-0000</td>\n",
              "      <td>1</td>\n",
              "      <td>2010</td>\n",
              "      <td>NaN</td>\n",
              "      <td>127 Hours</td>\n",
              "      <td>Independent</td>\n",
              "      <td>93.0</td>\n",
              "      <td>84</td>\n",
              "      <td>Escape</td>\n",
              "      <td>Adventure</td>\n",
              "      <td>...</td>\n",
              "      <td>42.4</td>\n",
              "      <td>60.73</td>\n",
              "      <td>18.0</td>\n",
              "      <td>42.73</td>\n",
              "      <td>337.39%</td>\n",
              "      <td>0.26</td>\n",
              "      <td>NaN</td>\n",
              "      <td>NaN</td>\n",
              "      <td>http://boxofficemojo.com/movies/?id=127hours.htm</td>\n",
              "      <td>NaN</td>\n",
              "    </tr>\n",
              "    <tr>\n",
              "      <th>1</th>\n",
              "      <td>movies-0001</td>\n",
              "      <td>2</td>\n",
              "      <td>2010</td>\n",
              "      <td>NaN</td>\n",
              "      <td>A Nightmare on Elm Street</td>\n",
              "      <td>Warner Bros.</td>\n",
              "      <td>13.0</td>\n",
              "      <td>40</td>\n",
              "      <td>Monster Force</td>\n",
              "      <td>Horror</td>\n",
              "      <td>...</td>\n",
              "      <td>52.59</td>\n",
              "      <td>115.66</td>\n",
              "      <td>35.0</td>\n",
              "      <td>80.66</td>\n",
              "      <td>330.46%</td>\n",
              "      <td>32.9</td>\n",
              "      <td>NaN</td>\n",
              "      <td>NaN</td>\n",
              "      <td>NaN</td>\n",
              "      <td>NaN</td>\n",
              "    </tr>\n",
              "    <tr>\n",
              "      <th>2</th>\n",
              "      <td>movies-0002</td>\n",
              "      <td>3</td>\n",
              "      <td>2010</td>\n",
              "      <td>NaN</td>\n",
              "      <td>Alice in Wonderland</td>\n",
              "      <td>Disney</td>\n",
              "      <td>52.0</td>\n",
              "      <td>72</td>\n",
              "      <td>Journey And Return</td>\n",
              "      <td>Adventure</td>\n",
              "      <td>...</td>\n",
              "      <td>690.2</td>\n",
              "      <td>1024.39</td>\n",
              "      <td>200.0</td>\n",
              "      <td>824.39</td>\n",
              "      <td>512.20%</td>\n",
              "      <td>116.1</td>\n",
              "      <td>NaN</td>\n",
              "      <td>NaN</td>\n",
              "      <td>NaN</td>\n",
              "      <td>NaN</td>\n",
              "    </tr>\n",
              "  </tbody>\n",
              "</table>\n",
              "<p>3 rows × 23 columns</p>\n",
              "</div>"
            ],
            "text/plain": [
              "     movies_id  id  year exclude                       film   lead_studio  \\\n",
              "0  movies-0000   1  2010     NaN                  127 Hours   Independent   \n",
              "1  movies-0001   2  2010     NaN  A Nightmare on Elm Street  Warner Bros.   \n",
              "2  movies-0002   3  2010     NaN        Alice in Wonderland        Disney   \n",
              "\n",
              "   rotten_tomatoes  audience_score               story      genre  ...  \\\n",
              "0             93.0              84              Escape  Adventure  ...   \n",
              "1             13.0              40       Monster Force     Horror  ...   \n",
              "2             52.0              72  Journey And Return  Adventure  ...   \n",
              "\n",
              "  foreign_gross  worldwide_gross  budget  profit  proftitability  \\\n",
              "0          42.4            60.73    18.0   42.73         337.39%   \n",
              "1         52.59           115.66    35.0   80.66         330.46%   \n",
              "2         690.2          1024.39   200.0  824.39         512.20%   \n",
              "\n",
              "   opening_weekend  oscar bafta  \\\n",
              "0             0.26    NaN   NaN   \n",
              "1             32.9    NaN   NaN   \n",
              "2            116.1    NaN   NaN   \n",
              "\n",
              "                                             source column  \n",
              "0  http://boxofficemojo.com/movies/?id=127hours.htm    NaN  \n",
              "1                                               NaN    NaN  \n",
              "2                                               NaN    NaN  \n",
              "\n",
              "[3 rows x 23 columns]"
            ]
          },
          "execution_count": 4,
          "metadata": {},
          "output_type": "execute_result"
        }
      ],
      "source": [
        "def demonstrate_header_normalization(df: pd.DataFrame) -> pd.DataFrame:\n",
        "    print(\"Original columns:\", list(df.columns)[:10])\n",
        "    hn = HeaderNormalizer(lowercase=True, remove_brackets=True, replace_whitespace_with_underscore=True)\n",
        "    cleaned = hn.normalize_dataframe_headers(df)\n",
        "    print(\"Normalized columns:\", list(cleaned.columns)[:10])\n",
        "    return cleaned\n",
        "\n",
        "movies = frames[\"movies_csv\"].copy()\n",
        "movies = demonstrate_header_normalization(movies)\n",
        "movies.head(3)\n"
      ]
    },
    {
      "cell_type": "markdown",
      "metadata": {},
      "source": [
        "## Step 3: Locale-aware numeric parsing\n",
        "See how `NumericParser` interprets diverse numeric formats.\n"
      ]
    },
    {
      "cell_type": "code",
      "execution_count": 9,
      "metadata": {},
      "outputs": [
        {
          "data": {
            "text/plain": [
              "{'1,234.56': 1234.56,\n",
              " '1.234,56': 1234.56,\n",
              " '1 234,56': 1234.56,\n",
              " '1\\xa0234,56': 1234.56,\n",
              " \"1'234.56\": 1234.56,\n",
              " '$1,234.56': 1234.56,\n",
              " '€ 1.234,56': 1234.56,\n",
              " '12,5%': 0.125}"
            ]
          },
          "execution_count": 9,
          "metadata": {},
          "output_type": "execute_result"
        }
      ],
      "source": [
        "samples = [\n",
        "    \"1,234.56\",  # US\n",
        "    \"1.234,56\",  # EU\n",
        "    \"1 234,56\",  # EU with space grouping\n",
        "    \"1\\xa0234,56\",  # NBSP grouping\n",
        "    \"1'234.56\",  # Swiss\n",
        "    \"$1,234.56\",  # currency US\n",
        "    \"€ 1.234,56\",  # currency EU\n",
        "    \"12,5%\",  # EU percent\n",
        "]\n",
        "\n",
        "parser = NumericParser()\n",
        "{ s: parser.parse_numeric(s) for s in samples }\n"
      ]
    },
    {
      "cell_type": "markdown",
      "metadata": {},
      "source": [
        "## Step 4: Dataset normalization\n",
        "Run the end-to-end dataset normalization and inspect results.\n"
      ]
    },
    {
      "cell_type": "code",
      "execution_count": 6,
      "metadata": {},
      "outputs": [
        {
          "data": {
            "text/plain": [
              "((656, 23), (656, 23), '100.0%')"
            ]
          },
          "execution_count": 6,
          "metadata": {},
          "output_type": "execute_result"
        }
      ],
      "source": [
        "config = create_normalization_config(\n",
        "    enable_unit_conversion=True,\n",
        "    enable_quantity_scaling=True,\n",
        "    normalize_text=True,\n",
        "    standardize_nulls=True,\n",
        ")\n",
        "\n",
        "normalizer = DatasetNormalizer(config)\n",
        "out_dir = _repo_root() / \"output\" / \"examples\" / \"normalization_demo\"\n",
        "out_dir.mkdir(parents=True, exist_ok=True)\n",
        "normalized_df, result = normalizer.normalize_dataset(movies, output_path=out_dir)\n",
        "(\n",
        "    result.original_shape,\n",
        "    result.normalized_shape,\n",
        "    f\"{result.overall_success_rate:.1%}\"\n",
        ")\n"
      ]
    },
    {
      "cell_type": "markdown",
      "metadata": {},
      "source": [
        "## Step 5: Inspect detected types (sample)\n",
        "Peek at a few column detection results with units and confidence.\n"
      ]
    },
    {
      "cell_type": "code",
      "execution_count": 7,
      "metadata": {},
      "outputs": [
        {
          "data": {
            "text/html": [
              "<div>\n",
              "<style scoped>\n",
              "    .dataframe tbody tr th:only-of-type {\n",
              "        vertical-align: middle;\n",
              "    }\n",
              "\n",
              "    .dataframe tbody tr th {\n",
              "        vertical-align: top;\n",
              "    }\n",
              "\n",
              "    .dataframe thead th {\n",
              "        text-align: right;\n",
              "    }\n",
              "</style>\n",
              "<table border=\"1\" class=\"dataframe\">\n",
              "  <thead>\n",
              "    <tr style=\"text-align: right;\">\n",
              "      <th></th>\n",
              "      <th>name</th>\n",
              "      <th>type</th>\n",
              "      <th>confidence</th>\n",
              "      <th>unit</th>\n",
              "    </tr>\n",
              "  </thead>\n",
              "  <tbody>\n",
              "    <tr>\n",
              "      <th>0</th>\n",
              "      <td>movies_id</td>\n",
              "      <td>string</td>\n",
              "      <td>1.00</td>\n",
              "      <td>None</td>\n",
              "    </tr>\n",
              "    <tr>\n",
              "      <th>1</th>\n",
              "      <td>id</td>\n",
              "      <td>currency</td>\n",
              "      <td>1.00</td>\n",
              "      <td>None</td>\n",
              "    </tr>\n",
              "    <tr>\n",
              "      <th>2</th>\n",
              "      <td>year</td>\n",
              "      <td>numeric</td>\n",
              "      <td>1.00</td>\n",
              "      <td>year</td>\n",
              "    </tr>\n",
              "    <tr>\n",
              "      <th>3</th>\n",
              "      <td>exclude</td>\n",
              "      <td>bool</td>\n",
              "      <td>1.00</td>\n",
              "      <td>None</td>\n",
              "    </tr>\n",
              "    <tr>\n",
              "      <th>4</th>\n",
              "      <td>film</td>\n",
              "      <td>string</td>\n",
              "      <td>0.98</td>\n",
              "      <td>None</td>\n",
              "    </tr>\n",
              "    <tr>\n",
              "      <th>5</th>\n",
              "      <td>lead_studio</td>\n",
              "      <td>string</td>\n",
              "      <td>0.98</td>\n",
              "      <td>None</td>\n",
              "    </tr>\n",
              "    <tr>\n",
              "      <th>6</th>\n",
              "      <td>rotten_tomatoes</td>\n",
              "      <td>numeric</td>\n",
              "      <td>1.00</td>\n",
              "      <td>None</td>\n",
              "    </tr>\n",
              "    <tr>\n",
              "      <th>7</th>\n",
              "      <td>audience_score</td>\n",
              "      <td>currency</td>\n",
              "      <td>1.00</td>\n",
              "      <td>None</td>\n",
              "    </tr>\n",
              "  </tbody>\n",
              "</table>\n",
              "</div>"
            ],
            "text/plain": [
              "              name      type  confidence  unit\n",
              "0        movies_id    string        1.00  None\n",
              "1               id  currency        1.00  None\n",
              "2             year   numeric        1.00  year\n",
              "3          exclude      bool        1.00  None\n",
              "4             film    string        0.98  None\n",
              "5      lead_studio    string        0.98  None\n",
              "6  rotten_tomatoes   numeric        1.00  None\n",
              "7   audience_score  currency        1.00  None"
            ]
          },
          "execution_count": 7,
          "metadata": {},
          "output_type": "execute_result"
        }
      ],
      "source": [
        "rows = []\n",
        "for cr in result.column_results[:8]:\n",
        "    unit_info = cr.specific_unit if cr.specific_unit else None\n",
        "    rows.append({\n",
        "        \"name\": cr.normalized_name,\n",
        "        \"type\": cr.detected_type.value,\n",
        "        \"confidence\": round(cr.confidence, 2),\n",
        "        \"unit\": unit_info,\n",
        "    })\n",
        "import pandas as _pd\n",
        "_pd.DataFrame(rows)\n"
      ]
    },
    {
      "cell_type": "markdown",
      "metadata": {},
      "source": [
        "## Step 6: Save normalized output\n",
        "Write the normalized CSV to the example output directory.\n"
      ]
    },
    {
      "cell_type": "code",
      "execution_count": 8,
      "metadata": {},
      "outputs": [
        {
          "name": "stdout",
          "output_type": "stream",
          "text": [
            "Saved normalized dataset to: /Users/aaronsteiner/Documents/GitHub/PyDI/output/examples/normalization_demo/movies_normalized.csv\n"
          ]
        }
      ],
      "source": [
        "out_csv = out_dir / \"movies_normalized.csv\"\n",
        "normalized_df.to_csv(out_csv, index=False)\n",
        "print(\"Saved normalized dataset to:\", out_csv)\n"
      ]
    }
  ],
  "metadata": {
    "kernelspec": {
      "display_name": "env",
      "language": "python",
      "name": "python3"
    },
    "language_info": {
      "codemirror_mode": {
        "name": "ipython",
        "version": 3
      },
      "file_extension": ".py",
      "mimetype": "text/x-python",
      "name": "python",
      "nbconvert_exporter": "python",
      "pygments_lexer": "ipython3",
      "version": "3.12.8"
    }
  },
  "nbformat": 4,
  "nbformat_minor": 2
}
