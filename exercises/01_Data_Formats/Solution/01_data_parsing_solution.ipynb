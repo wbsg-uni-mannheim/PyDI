{
 "cells": [
  {
   "cell_type": "markdown",
   "id": "d97d91f5-c412-4597-91e0-832a864bfb8d",
   "metadata": {},
   "source": [
    "# Exercise - Data Exchange Formats with Python"
   ]
  },
  {
   "cell_type": "markdown",
   "id": "b8182751-1cca-406b-8822-b475e7ec5a7b",
   "metadata": {},
   "source": [
    "In the following three exercises, you are asked to write Python code for reading\n",
    "data from XML, JSON and RDF files and for querying the data using the XPath\n",
    "and SPARQL query languages. Each subsection is dedicated to one of the three\n",
    "data exchange formats. The tasks are rather basic and the goal is to refresh\n",
    "your knowledge in Python in general and in particular in parsing those formats."
   ]
  },
  {
   "cell_type": "markdown",
   "id": "c32cc711-282a-4517-bc73-8f198e25f2af",
   "metadata": {},
   "source": [
    "## 1 XML"
   ]
  },
  {
   "cell_type": "markdown",
   "id": "8df9eb40-0b64-48e9-8f7a-435b1d06cc9f",
   "metadata": {},
   "source": [
    "This subsection is dedicated to the XML format. In particular, you are asked\n",
    "to perform XPath queries on the Mondial dataset. This dataset includes world\n",
    "geographic information integrated from the CIA World Factbook, the International\n",
    "Atlas and the TERRA database, to name just the pre-dominant sources.\n",
    "\n",
    "Please inspect the documents in '/input' manually (using a text editor) in order to explore\n",
    "the structure.\n",
    "\n",
    "You can also have a look at the [w3school XPath tutorial 2](https://www.w3schools.com/xml/xpath_intro.asp) to solve the following tasks."
   ]
  },
  {
   "cell_type": "markdown",
   "id": "021285e4-b12a-4d96-b3ec-3aed51439939",
   "metadata": {},
   "source": [
    "### 1.1 Load the dataset and inspect the schema.\n",
    "\n",
    "We use the [pandas](https://pandas.pydata.org/) library to load and process XML files in Python.\n",
    "\n",
    "Pandas offers the function [read_xml](https://pandas.pydata.org/docs/reference/api/pandas.read_xml.html) to read XML documents into a pandas DataFrame object.\n",
    "\n",
    "In this first task, load the dataset from 'input/mondial-3.0.xml' and print the names of the nodes below the root node."
   ]
  },
  {
   "cell_type": "code",
   "execution_count": 2,
   "id": "f9cf701a-ae1f-4bcf-a791-8065be4f9b14",
   "metadata": {},
   "outputs": [
    {
     "data": {
      "text/plain": [
       "Index(['continent', 'country', 'organization', 'mountain', 'desert', 'island',\n",
       "       'river', 'sea', 'lake'],\n",
       "      dtype='object')"
      ]
     },
     "execution_count": 2,
     "metadata": {},
     "output_type": "execute_result"
    }
   ],
   "source": [
    "import pandas as pd\n",
    "\n",
    "# Load the file and return the columns. The columns of the dataframe represent nodes of the input XML.\n",
    "df_nodes = pd.read_xml(\"input/mondial-3.0.xml\", xpath = \"/*\")\n",
    "df_nodes.columns"
   ]
  },
  {
   "cell_type": "markdown",
   "id": "5d00525c-e4bd-4d1a-bc9a-da7c2de7cfc9",
   "metadata": {},
   "source": [
    "### 1.2 Basic XPath\n",
    "\n",
    "Adapt the solution of the previous task in the way that it prints\n",
    "the names of all countries which belong to the continent with the name Europe.\n",
    "\n",
    "Hints: \n",
    "- Have a look at the schema of the node country to see how it is linked to the continent.\n",
    "- The xpath parameter of [read_xml](https://pandas.pydata.org/docs/reference/api/pandas.read_xml.html) should return a collection of elements and not a single element. Select the 'name' attribute using the pandas syntax."
   ]
  },
  {
   "cell_type": "code",
   "execution_count": 10,
   "id": "9c18a2ea-b915-495c-9914-ea627c75edb1",
   "metadata": {},
   "outputs": [
    {
     "data": {
      "text/plain": [
       "0    \\n       Albania\\n     \n",
       "1    \\n       Andorra\\n     \n",
       "2    \\n       Austria\\n     \n",
       "3    \\n       Belarus\\n     \n",
       "4    \\n       Belgium\\n     \n",
       "Name: name, dtype: object"
      ]
     },
     "execution_count": 10,
     "metadata": {},
     "output_type": "execute_result"
    }
   ],
   "source": [
    "# Load the XML into a pandas dataframe\n",
    "df_europe = pd.read_xml(\"input/mondial-3.0.xml\",\n",
    "                        xpath = \"/mondial/country[encompassed/@continent=/mondial/continent[@name='Europe']/@id]\")\n",
    "df_europe['name'].head()"
   ]
  },
  {
   "cell_type": "markdown",
   "id": "ea3e5ed8-12ec-45a4-851e-717f493d0d93",
   "metadata": {},
   "source": [
    "### 1.3 Basic XPath\n",
    "\n",
    "Extend the XPath for the former task in order to retrieve only countries which are part of Europe and Asia."
   ]
  },
  {
   "cell_type": "code",
   "execution_count": 4,
   "id": "219da54a-cdb8-41f5-9cd9-fbad56c99ebd",
   "metadata": {},
   "outputs": [
    {
     "data": {
      "text/plain": [
       "0    \\n       Russia\\n     \n",
       "1    \\n       Turkey\\n     \n",
       "Name: name, dtype: object"
      ]
     },
     "execution_count": 4,
     "metadata": {},
     "output_type": "execute_result"
    }
   ],
   "source": [
    "# Load the XML into a pandas dataframe\n",
    "df_europe_and_asia = pd.read_xml(\"input/mondial-3.0.xml\",\n",
    "                                 xpath = \"/mondial/country[encompassed/@continent=/mondial/continent[@name='Europe']/@id and encompassed/@continent=/mondial/continent[@name='Asia']/@id]\")\n",
    "df_europe_and_asia['name']"
   ]
  },
  {
   "cell_type": "markdown",
   "id": "a7eb94ac-bfcd-427b-ab19-8c0abb15088d",
   "metadata": {},
   "source": [
    "## 2 JSON"
   ]
  },
  {
   "cell_type": "markdown",
   "id": "a89a2999-c60c-4b4f-a256-1b114a2f79bb",
   "metadata": {},
   "source": [
    "### 2.1 Load the dataset\n",
    "\n",
    "We use the [pandas](https://pandas.pydata.org/) library to load and process JSON files in Python.\n",
    "\n",
    "Pandas offers the function [read_json](https://pandas.pydata.org/docs/reference/api/pandas.read_json.html) to read JSON documents into a pandas DataFrame object.\n",
    "\n",
    "Load the dataset from 'input/mondial-3.0-europe-countries.json' and calculate the total number of inhabitants of all countries in the file.\n",
    "\n",
    "Hint:\n",
    "- Double-check the format of the JSON document before loading the file."
   ]
  },
  {
   "cell_type": "code",
   "execution_count": 5,
   "id": "5b8c32ae-12f3-456a-b2b4-bf19cb8fe5d1",
   "metadata": {},
   "outputs": [
    {
     "data": {
      "text/html": [
       "<div>\n",
       "<style scoped>\n",
       "    .dataframe tbody tr th:only-of-type {\n",
       "        vertical-align: middle;\n",
       "    }\n",
       "\n",
       "    .dataframe tbody tr th {\n",
       "        vertical-align: top;\n",
       "    }\n",
       "\n",
       "    .dataframe thead th {\n",
       "        text-align: right;\n",
       "    }\n",
       "</style>\n",
       "<table border=\"1\" class=\"dataframe\">\n",
       "  <thead>\n",
       "    <tr style=\"text-align: right;\">\n",
       "      <th></th>\n",
       "      <th>id</th>\n",
       "      <th>total_area</th>\n",
       "      <th>infant_mortality</th>\n",
       "      <th>datacode</th>\n",
       "      <th>name</th>\n",
       "      <th>indep_date</th>\n",
       "      <th>gdp_total</th>\n",
       "      <th>population_growth</th>\n",
       "      <th>inflation</th>\n",
       "      <th>government</th>\n",
       "      <th>gdp_agri</th>\n",
       "      <th>car_code</th>\n",
       "      <th>capital</th>\n",
       "      <th>population</th>\n",
       "      <th>gdp_serv</th>\n",
       "      <th>gdp_ind</th>\n",
       "    </tr>\n",
       "  </thead>\n",
       "  <tbody>\n",
       "    <tr>\n",
       "      <th>0</th>\n",
       "      <td>f0_136</td>\n",
       "      <td>28750.0</td>\n",
       "      <td>49.2</td>\n",
       "      <td>AL</td>\n",
       "      <td>Albania</td>\n",
       "      <td>28 11 1912</td>\n",
       "      <td>4100.0</td>\n",
       "      <td>1.34</td>\n",
       "      <td>16.0</td>\n",
       "      <td>emerging democracy</td>\n",
       "      <td>55.0</td>\n",
       "      <td>AL</td>\n",
       "      <td>f0_1461</td>\n",
       "      <td>3249136</td>\n",
       "      <td>NaN</td>\n",
       "      <td>NaN</td>\n",
       "    </tr>\n",
       "    <tr>\n",
       "      <th>1</th>\n",
       "      <td>f0_144</td>\n",
       "      <td>450.0</td>\n",
       "      <td>2.2</td>\n",
       "      <td>AN</td>\n",
       "      <td>Andorra</td>\n",
       "      <td>NaN</td>\n",
       "      <td>1000.0</td>\n",
       "      <td>2.96</td>\n",
       "      <td>NaN</td>\n",
       "      <td>parliamentary democracy that retains as i...</td>\n",
       "      <td>NaN</td>\n",
       "      <td>AND</td>\n",
       "      <td>f0_1464</td>\n",
       "      <td>72766</td>\n",
       "      <td>NaN</td>\n",
       "      <td>NaN</td>\n",
       "    </tr>\n",
       "    <tr>\n",
       "      <th>2</th>\n",
       "      <td>f0_149</td>\n",
       "      <td>83850.0</td>\n",
       "      <td>6.2</td>\n",
       "      <td>AU</td>\n",
       "      <td>Austria</td>\n",
       "      <td>12 11 1918</td>\n",
       "      <td>152000.0</td>\n",
       "      <td>0.41</td>\n",
       "      <td>2.3</td>\n",
       "      <td>federal republic</td>\n",
       "      <td>2.0</td>\n",
       "      <td>A</td>\n",
       "      <td>f0_1467</td>\n",
       "      <td>8023244</td>\n",
       "      <td>64.0</td>\n",
       "      <td>34.0</td>\n",
       "    </tr>\n",
       "    <tr>\n",
       "      <th>3</th>\n",
       "      <td>f0_157</td>\n",
       "      <td>207600.0</td>\n",
       "      <td>13.4</td>\n",
       "      <td>BO</td>\n",
       "      <td>Belarus</td>\n",
       "      <td>25 08 1991</td>\n",
       "      <td>49200.0</td>\n",
       "      <td>0.20</td>\n",
       "      <td>244.0</td>\n",
       "      <td>republic</td>\n",
       "      <td>21.0</td>\n",
       "      <td>BY</td>\n",
       "      <td>f0_1474</td>\n",
       "      <td>10415973</td>\n",
       "      <td>30.0</td>\n",
       "      <td>49.0</td>\n",
       "    </tr>\n",
       "    <tr>\n",
       "      <th>4</th>\n",
       "      <td>f0_162</td>\n",
       "      <td>30510.0</td>\n",
       "      <td>6.4</td>\n",
       "      <td>BE</td>\n",
       "      <td>Belgium</td>\n",
       "      <td>04 10 1830</td>\n",
       "      <td>197000.0</td>\n",
       "      <td>0.33</td>\n",
       "      <td>1.6</td>\n",
       "      <td>constitutional monarchy</td>\n",
       "      <td>2.0</td>\n",
       "      <td>B</td>\n",
       "      <td>f0_1477</td>\n",
       "      <td>10170241</td>\n",
       "      <td>70.0</td>\n",
       "      <td>28.0</td>\n",
       "    </tr>\n",
       "  </tbody>\n",
       "</table>\n",
       "</div>"
      ],
      "text/plain": [
       "       id  total_area  infant_mortality datacode     name  indep_date  \\\n",
       "0  f0_136     28750.0              49.2       AL  Albania  28 11 1912   \n",
       "1  f0_144       450.0               2.2       AN  Andorra         NaN   \n",
       "2  f0_149     83850.0               6.2       AU  Austria  12 11 1918   \n",
       "3  f0_157    207600.0              13.4       BO  Belarus  25 08 1991   \n",
       "4  f0_162     30510.0               6.4       BE  Belgium  04 10 1830   \n",
       "\n",
       "   gdp_total  population_growth  inflation  \\\n",
       "0     4100.0               1.34       16.0   \n",
       "1     1000.0               2.96        NaN   \n",
       "2   152000.0               0.41        2.3   \n",
       "3    49200.0               0.20      244.0   \n",
       "4   197000.0               0.33        1.6   \n",
       "\n",
       "                                          government  gdp_agri car_code  \\\n",
       "0                                 emerging democracy      55.0       AL   \n",
       "1       parliamentary democracy that retains as i...       NaN      AND   \n",
       "2                                   federal republic       2.0        A   \n",
       "3                                           republic      21.0       BY   \n",
       "4                            constitutional monarchy       2.0        B   \n",
       "\n",
       "   capital  population  gdp_serv  gdp_ind  \n",
       "0  f0_1461     3249136       NaN      NaN  \n",
       "1  f0_1464       72766       NaN      NaN  \n",
       "2  f0_1467     8023244      64.0     34.0  \n",
       "3  f0_1474    10415973      30.0     49.0  \n",
       "4  f0_1477    10170241      70.0     28.0  "
      ]
     },
     "execution_count": 5,
     "metadata": {},
     "output_type": "execute_result"
    }
   ],
   "source": [
    "# Load and inspect the dataset.\n",
    "df_countries = pd.read_json('input/mondial-3.0-europe-countries.json', lines=True)\n",
    "df_countries.head()"
   ]
  },
  {
   "cell_type": "code",
   "execution_count": 6,
   "id": "cc6ea38a-f597-47c4-b51b-4438c0306883",
   "metadata": {},
   "outputs": [
    {
     "data": {
      "text/plain": [
       "792002189"
      ]
     },
     "execution_count": 6,
     "metadata": {},
     "output_type": "execute_result"
    }
   ],
   "source": [
    "# Calculate the total population.\n",
    "df_countries['population'].sum()"
   ]
  }
 ],
 "metadata": {
  "kernelspec": {
   "display_name": "env",
   "language": "python",
   "name": "python3"
  },
  "language_info": {
   "codemirror_mode": {
    "name": "ipython",
    "version": 3
   },
   "file_extension": ".py",
   "mimetype": "text/x-python",
   "name": "python",
   "nbconvert_exporter": "python",
   "pygments_lexer": "ipython3",
   "version": "3.12.8"
  }
 },
 "nbformat": 4,
 "nbformat_minor": 5
}
