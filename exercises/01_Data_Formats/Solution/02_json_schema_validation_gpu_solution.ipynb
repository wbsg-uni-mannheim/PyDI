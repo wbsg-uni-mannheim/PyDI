{
 "cells": [
  {
   "cell_type": "markdown",
   "metadata": {},
   "source": [
    "# Exercise 2 (GPU) — JSON Schema and Data Validation — Solution\n",
    "\n",
    "We validate a small GPU product dataset using JSON Schema (up to Section 2.3).\n"
   ]
  },
  {
   "cell_type": "markdown",
   "metadata": {},
   "source": [
    "## 1. Setup and Data Loading\n",
    "Import libraries and load the GPU dataset.\n"
   ]
  },
  {
   "cell_type": "code",
   "execution_count": null,
   "id": "bacec94f",
   "metadata": {},
   "outputs": [],
   "source": [
    "import json\n",
    "import pandas as pd\n",
    "from pprint import pprint\n",
    "from jsonschema import validate, ValidationError, Draft7Validator"
   ]
  },
  {
   "cell_type": "markdown",
   "id": "0976f095",
   "metadata": {},
   "source": [
    "### 1.1 Load and Inspect GPU Sample Data\n"
   ]
  },
  {
   "cell_type": "code",
   "execution_count": 3,
   "id": "45946b88",
   "metadata": {},
   "outputs": [
    {
     "name": "stdout",
     "output_type": "stream",
     "text": [
      "Total records: 10\n",
      "First record keys: ['id', 'name', 'brand', 'model', 'chipset', 'memory_gb', 'memory_type', 'clock_speed_mhz', 'tdp_w', 'launch_date', 'price_usd', 'description']\n",
      "{'brand': 'NVIDIA',\n",
      " 'chipset': 'AD104',\n",
      " 'clock_speed_mhz': 2310,\n",
      " 'description': 'GeForce RTX 4070 Ti with 12GB GDDR6X, boost up to 2.6 GHz, '\n",
      "                '285W TDP. Great 1440p/4K performance. MSRP $799.',\n",
      " 'id': 'gpu-001',\n",
      " 'launch_date': '2023-01-05',\n",
      " 'memory_gb': 12,\n",
      " 'memory_type': 'GDDR6X',\n",
      " 'model': 'RTX 4070 Ti',\n",
      " 'name': 'NVIDIA GeForce RTX 4070 Ti',\n",
      " 'price_usd': 799.0,\n",
      " 'tdp_w': 285}\n"
     ]
    }
   ],
   "source": [
    "with open('../Task/input/gpu_products.json', 'r', encoding='utf-8') as f:\n",
    "    products_data = json.load(f)\n",
    "print(f'Total records: {len(products_data)}')\n",
    "print('First record keys:', list(products_data[0].keys()))\n",
    "pprint(products_data[0])\n"
   ]
  },
  {
   "cell_type": "markdown",
   "id": "868ef89a",
   "metadata": {},
   "source": [
    "## 2. Creating Basic JSON Schemas\n",
    "We define a schema compatible with the GPU dataset.\n"
   ]
  },
  {
   "cell_type": "markdown",
   "id": "1410381b",
   "metadata": {},
   "source": [
    "### 2.1 Define a GPU Product Schema\n",
    "Define the schema inline (then we will save it at the end).\n"
   ]
  },
  {
   "cell_type": "code",
   "execution_count": null,
   "id": "a7d8d0e7",
   "metadata": {},
   "outputs": [],
   "source": [
    "product_schema = {\n",
    "  '$schema': 'https://json-schema.org/draft/2020-12/schema',\n",
    "  'title': 'GPUProduct',\n",
    "  'description': 'Schema for a single discrete graphics card (GPU) product entry used in Exercise 02/03. Includes identification, specs, pricing and a free-text description.',\n",
    "  'type': 'object',\n",
    "  'properties': {\n",
    "    'id': { 'type': 'string', 'description': 'Stable unique identifier for this product record (e.g., \\'gpu-001\\').' },\n",
    "    'name': { 'type': 'string', 'description': 'Human-readable product title as seen on listings (e.g., \\'NVIDIA GeForce RTX 4070 Ti\\').' },\n",
    "    'brand': { 'type': 'string', 'enum': ['NVIDIA','AMD','Intel','Other'], 'description': 'GPU vendor/brand name.' },\n",
    "    'model': { 'type': 'string', 'description': 'Product model designation used in marketing (e.g., \\'RTX 4070 Ti\\', \\'RX 7800 XT\\').' },\n",
    "    'chipset': { 'type': 'string', 'description': 'GPU die/codename or family identifier (e.g., \\'AD104\\', \\'Navi 32\\').' },\n",
    "    'memory_gb': { 'type': 'integer', 'minimum': 1, 'description': 'On-board graphics memory capacity in gigabytes (GB).' },\n",
    "    'memory_type': { 'type': 'string', 'enum': ['GDDR6','GDDR6X','HBM2','HBM3'], 'description': 'Type of graphics memory technology.' },\n",
    "    'clock_speed_mhz': { 'type': 'integer', 'minimum': 1, 'description': 'Nominal boost or advertised GPU clock speed in megahertz (MHz).' },\n",
    "    'tdp_w': { 'type': 'integer', 'minimum': 1, 'description': 'Typical board power (TDP/TBP) in watts (W).' },\n",
    "    'launch_date': { 'type': 'string', 'format': 'date', 'description': 'Public launch or availability date in ISO format (YYYY-MM-DD).' },\n",
    "    'price_usd': { 'type': 'number', 'minimum': 0, 'description': 'MSRP or typical retail price in US dollars (USD).' },\n",
    "    'description': { 'type': 'string', 'description': 'Free-text product description used for information extraction demos.' }\n",
    "  },\n",
    "  'required': ['id','name','brand','model','description'],\n",
    "  'additionalProperties': True\n",
    "}\n",
    "from pprint import pprint\n",
    "pprint(product_schema)\n"
   ]
  },
  {
   "cell_type": "markdown",
   "id": "ed32b83b",
   "metadata": {},
   "source": [
    "### 2.2 Validate Valid Data\n",
    "Validate the first record and then all records.\n"
   ]
  },
  {
   "cell_type": "code",
   "execution_count": null,
   "id": "7735b365",
   "metadata": {},
   "outputs": [],
   "source": [
    "# Validate first record\n",
    "try:\n",
    "    validate(instance=products_data[0], schema=product_schema)\n",
    "    print('✓ First product is valid')\n",
    "except ValidationError as e:\n",
    "    print('✗ First product failed:', e.message)\n",
    "\n",
    "# Validate all\n",
    "errors = []\n",
    "for i, rec in enumerate(products_data):\n",
    "    try:\n",
    "        validate(instance=rec, schema=product_schema)\n",
    "    except ValidationError as e:\n",
    "        errors.append((i, e.message))\n",
    "\n",
    "if errors:\n",
    "    print(f'Found {len(errors)} errors in valid set (unexpected):')\n",
    "    for i, msg in errors[:5]:\n",
    "        print(f'  [{i}]', msg)\n",
    "else:\n",
    "    print('✓ All products passed validation')\n"
   ]
  },
  {
   "cell_type": "markdown",
   "id": "a3abe7b8",
   "metadata": {},
   "source": [
    "### 2.3 Test with Invalid Data\n",
    "Verify that invalid examples are caught by the schema.\n"
   ]
  },
  {
   "cell_type": "code",
   "execution_count": null,
   "id": "3519d510",
   "metadata": {},
   "outputs": [],
   "source": [
    "with open('../Task/input/gpu_products_invalid.json', 'r', encoding='utf-8') as f:\n",
    "    invalid_products = json.load(f)\n",
    "\n",
    "failures = 0\n",
    "for idx, rec in enumerate(invalid_products):\n",
    "    try:\n",
    "        validate(instance=rec, schema=product_schema)\n",
    "        print(f'[{idx}] ✗ Unexpectedly valid')\n",
    "    except ValidationError as e:\n",
    "        failures += 1\n",
    "        print(f'[{idx}] ✓ Correctly failed: {e.message}')\n",
    "\n",
    "print(f'Total invalid caught: {failures}/{len(invalid_products)}')\n"
   ]
  },
  {
   "cell_type": "markdown",
   "id": "99746313",
   "metadata": {},
   "source": [
    "### Save Schema\n",
    "Write the defined schema to the shared Task input directory for reuse.\n"
   ]
  },
  {
   "cell_type": "code",
   "execution_count": null,
   "id": "55a6ad75",
   "metadata": {},
   "outputs": [],
   "source": [
    "# Save schema to Task input directory\n",
    "with open('../Task/input/gpu_product_schema.json','w', encoding='utf-8') as f:\n",
    "    json.dump(product_schema, f, indent=2)\n",
    "print('Schema saved to ../Task/input/gpu_product_schema.json')\n"
   ]
  }
 ],
 "metadata": {
  "kernelspec": {
   "display_name": "env",
   "language": "python",
   "name": "python3"
  },
  "language_info": {
   "codemirror_mode": {
    "name": "ipython",
    "version": 3
   },
   "file_extension": ".py",
   "mimetype": "text/x-python",
   "name": "python",
   "nbconvert_exporter": "python",
   "pygments_lexer": "ipython3",
   "version": "3.12.8"
  }
 },
 "nbformat": 4,
 "nbformat_minor": 5
}
