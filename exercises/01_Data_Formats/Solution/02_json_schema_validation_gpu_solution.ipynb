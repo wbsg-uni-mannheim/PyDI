{
 "cells": [
  {
   "cell_type": "markdown",
   "metadata": {},
   "source": [
    "# Exercise 2 (GPU) — JSON Schema and Data Validation — Solution\n",
    "\n",
    "We validate a small GPU product dataset using JSON Schema.\n"
   ]
  },
  {
   "cell_type": "markdown",
   "metadata": {},
   "source": [
    "## 1. Setup and Data Loading\n",
    "Import libraries and load the GPU dataset.\n"
   ]
  },
  {
   "cell_type": "code",
   "execution_count": 1,
   "id": "bacec94f",
   "metadata": {},
   "outputs": [],
   "source": [
    "import json\n",
    "import pandas as pd\n",
    "from pprint import pprint\n",
    "from jsonschema import validate, ValidationError, Draft7Validator"
   ]
  },
  {
   "cell_type": "markdown",
   "id": "0976f095",
   "metadata": {},
   "source": [
    "### 1.1 Load and Inspect GPU Sample Data\n"
   ]
  },
  {
   "cell_type": "code",
   "execution_count": 2,
   "id": "45946b88",
   "metadata": {},
   "outputs": [
    {
     "name": "stdout",
     "output_type": "stream",
     "text": [
      "Total records: 10\n",
      "First record keys: ['id', 'name', 'brand', 'model', 'chipset', 'memory_gb', 'memory_type', 'clock_speed_mhz', 'tdp_w', 'launch_date', 'price_usd', 'description']\n",
      "{'brand': 'NVIDIA',\n",
      " 'chipset': 'AD104',\n",
      " 'clock_speed_mhz': 2310,\n",
      " 'description': 'GeForce RTX 4070 Ti with 12GB GDDR6X, boost up to 2.6 GHz, '\n",
      "                '285W TDP. Great 1440p/4K performance. MSRP $799.',\n",
      " 'id': 'gpu-001',\n",
      " 'launch_date': '2023-01-05',\n",
      " 'memory_gb': 12,\n",
      " 'memory_type': 'GDDR6X',\n",
      " 'model': 'RTX 4070 Ti',\n",
      " 'name': 'NVIDIA GeForce RTX 4070 Ti',\n",
      " 'price_usd': 799.0,\n",
      " 'tdp_w': 285}\n"
     ]
    }
   ],
   "source": [
    "with open('../Task/input/gpu_products.json', 'r', encoding='utf-8') as f:\n",
    "    products_data = json.load(f)\n",
    "print(f'Total records: {len(products_data)}')\n",
    "print('First record keys:', list(products_data[0].keys()))\n",
    "pprint(products_data[0])\n"
   ]
  },
  {
   "cell_type": "markdown",
   "id": "868ef89a",
   "metadata": {},
   "source": [
    "## 2. Creating Basic JSON Schemas\n",
    "We define a schema compatible with the GPU dataset.\n"
   ]
  },
  {
   "cell_type": "markdown",
   "id": "1410381b",
   "metadata": {},
   "source": [
    "### 2.1 Define a GPU Product Schema\n",
    "Define the schema inline (then we will save it at the end).\n"
   ]
  },
  {
   "cell_type": "code",
   "execution_count": 3,
   "id": "a7d8d0e7",
   "metadata": {},
   "outputs": [
    {
     "name": "stdout",
     "output_type": "stream",
     "text": [
      "{'$id': 'https://example.org/schemas/gpu_product.schema.json',\n",
      " '$schema': 'https://json-schema.org/draft/2020-12/schema',\n",
      " 'additionalProperties': True,\n",
      " 'description': 'Schema for a single discrete graphics card (GPU) product '\n",
      "                'entry used in Exercise 02/03. Includes identification, specs, '\n",
      "                'pricing and a free‑text description.',\n",
      " 'properties': {'brand': {'description': 'GPU vendor/brand name.',\n",
      "                          'enum': ['NVIDIA', 'AMD', 'Intel', 'Other'],\n",
      "                          'type': 'string'},\n",
      "                'chipset': {'description': 'GPU die/codename or family '\n",
      "                                           \"identifier (e.g., 'AD104', 'Navi \"\n",
      "                                           \"32').\",\n",
      "                            'type': 'string'},\n",
      "                'clock_speed_mhz': {'description': 'Nominal boost or '\n",
      "                                                   'advertised GPU clock speed '\n",
      "                                                   'in megahertz (MHz).',\n",
      "                                    'minimum': 1,\n",
      "                                    'type': 'integer'},\n",
      "                'description': {'description': 'Free‑text product description '\n",
      "                                               'used for information '\n",
      "                                               'extraction demos.',\n",
      "                                'type': 'string'},\n",
      "                'id': {'description': 'Stable unique identifier for this '\n",
      "                                      \"product record (e.g., 'gpu-001').\",\n",
      "                       'type': 'string'},\n",
      "                'launch_date': {'description': 'Public launch or availability '\n",
      "                                               'date in ISO format '\n",
      "                                               '(YYYY‑MM‑DD).',\n",
      "                                'format': 'date',\n",
      "                                'type': 'string'},\n",
      "                'memory_gb': {'description': 'On‑board graphics memory '\n",
      "                                             'capacity in gigabytes (GB).',\n",
      "                              'minimum': 1,\n",
      "                              'type': 'integer'},\n",
      "                'memory_type': {'description': 'Type of graphics memory '\n",
      "                                               'technology.',\n",
      "                                'enum': ['GDDR6', 'GDDR6X', 'HBM2', 'HBM3'],\n",
      "                                'type': 'string'},\n",
      "                'model': {'description': 'Product model designation used in '\n",
      "                                         \"marketing (e.g., 'RTX 4070 Ti', 'RX \"\n",
      "                                         \"7800 XT').\",\n",
      "                          'type': 'string'},\n",
      "                'name': {'description': 'Human‑readable product title as seen '\n",
      "                                        \"on listings (e.g., 'NVIDIA GeForce \"\n",
      "                                        \"RTX 4070 Ti').\",\n",
      "                         'type': 'string'},\n",
      "                'price_usd': {'description': 'MSRP or typical retail price in '\n",
      "                                             'US dollars (USD).',\n",
      "                              'minimum': 0,\n",
      "                              'type': 'number'},\n",
      "                'tdp_w': {'description': 'Typical board power (TDP/TBP) in '\n",
      "                                         'watts (W).',\n",
      "                          'minimum': 1,\n",
      "                          'type': 'integer'}},\n",
      " 'required': ['id', 'name', 'brand', 'model', 'description'],\n",
      " 'title': 'GPUProduct',\n",
      " 'type': 'object'}\n"
     ]
    }
   ],
   "source": [
    "product_schema = {\n",
    "  \"$schema\": \"https://json-schema.org/draft/2020-12/schema\",\n",
    "  \"$id\": \"https://example.org/schemas/gpu_product.schema.json\",\n",
    "  \"title\": \"GPUProduct\",\n",
    "  \"description\": \"Schema for a single discrete graphics card (GPU) product entry used in Exercise 02/03. Includes identification, specs, pricing and a free‑text description.\",\n",
    "  \"type\": \"object\",\n",
    "  \"properties\": {\n",
    "    \"id\": {\n",
    "      \"type\": \"string\",\n",
    "      \"description\": \"Stable unique identifier for this product record (e.g., 'gpu-001').\"\n",
    "    },\n",
    "    \"name\": {\n",
    "      \"type\": \"string\",\n",
    "      \"description\": \"Human‑readable product title as seen on listings (e.g., 'NVIDIA GeForce RTX 4070 Ti').\"\n",
    "    },\n",
    "    \"brand\": {\n",
    "      \"type\": \"string\",\n",
    "      \"enum\": [\"NVIDIA\", \"AMD\", \"Intel\", \"Other\"],\n",
    "      \"description\": \"GPU vendor/brand name.\"\n",
    "    },\n",
    "    \"model\": {\n",
    "      \"type\": \"string\",\n",
    "      \"description\": \"Product model designation used in marketing (e.g., 'RTX 4070 Ti', 'RX 7800 XT').\"\n",
    "    },\n",
    "    \"chipset\": {\n",
    "      \"type\": \"string\",\n",
    "      \"description\": \"GPU die/codename or family identifier (e.g., 'AD104', 'Navi 32').\"\n",
    "    },\n",
    "    \"memory_gb\": {\n",
    "      \"type\": \"integer\",\n",
    "      \"minimum\": 1,\n",
    "      \"description\": \"On‑board graphics memory capacity in gigabytes (GB).\"\n",
    "    },\n",
    "    \"memory_type\": {\n",
    "      \"type\": \"string\",\n",
    "      \"enum\": [\"GDDR6\", \"GDDR6X\", \"HBM2\", \"HBM3\"],\n",
    "      \"description\": \"Type of graphics memory technology.\"\n",
    "    },\n",
    "    \"clock_speed_mhz\": {\n",
    "      \"type\": \"integer\",\n",
    "      \"minimum\": 1,\n",
    "      \"description\": \"Nominal boost or advertised GPU clock speed in megahertz (MHz).\"\n",
    "    },\n",
    "    \"tdp_w\": {\n",
    "      \"type\": \"integer\",\n",
    "      \"minimum\": 1,\n",
    "      \"description\": \"Typical board power (TDP/TBP) in watts (W).\"\n",
    "    },\n",
    "    \"launch_date\": {\n",
    "      \"type\": \"string\",\n",
    "      \"format\": \"date\",\n",
    "      \"description\": \"Public launch or availability date in ISO format (YYYY‑MM‑DD).\"\n",
    "    },\n",
    "    \"price_usd\": {\n",
    "      \"type\": \"number\",\n",
    "      \"minimum\": 0,\n",
    "      \"description\": \"MSRP or typical retail price in US dollars (USD).\"\n",
    "    },\n",
    "    \"description\": {\n",
    "      \"type\": \"string\",\n",
    "      \"description\": \"Free‑text product description used for information extraction demos.\"\n",
    "    }\n",
    "  },\n",
    "  \"required\": [\"id\", \"name\", \"brand\", \"model\", \"description\"],\n",
    "  \"additionalProperties\": True\n",
    "}\n",
    "\n",
    "\n",
    "pprint(product_schema)\n"
   ]
  },
  {
   "cell_type": "markdown",
   "id": "ed32b83b",
   "metadata": {},
   "source": [
    "### 2.2 Validate Valid Data\n",
    "Validate the first record and then all records.\n"
   ]
  },
  {
   "cell_type": "code",
   "execution_count": 11,
   "id": "7735b365",
   "metadata": {},
   "outputs": [
    {
     "name": "stdout",
     "output_type": "stream",
     "text": [
      "✓ First product is valid\n",
      "✓ All products passed validation\n"
     ]
    }
   ],
   "source": [
    "# Validate first record\n",
    "try:\n",
    "    validate(instance=products_data[0], schema=product_schema)\n",
    "    print('✓ First product is valid')\n",
    "except ValidationError as e:\n",
    "    print('✗ First product failed:', e.message)\n",
    "\n",
    "# Validate all\n",
    "errors = []\n",
    "for i, rec in enumerate(products_data):\n",
    "    try:\n",
    "        validate(instance=rec, schema=product_schema)\n",
    "    except ValidationError as e:\n",
    "        errors.append((i, e.message))\n",
    "\n",
    "if errors:\n",
    "    print(f'Found {len(errors)} errors in valid set (unexpected):')\n",
    "    for i, msg in errors[:5]:\n",
    "        print(f'  [{i}]', msg)\n",
    "else:\n",
    "    print('✓ All products passed validation')\n"
   ]
  },
  {
   "cell_type": "markdown",
   "id": "a3abe7b8",
   "metadata": {},
   "source": [
    "### 2.3 Test with Invalid Data\n",
    "Verify that invalid examples are caught by the schema.\n"
   ]
  },
  {
   "cell_type": "code",
   "execution_count": 12,
   "id": "3519d510",
   "metadata": {},
   "outputs": [
    {
     "name": "stdout",
     "output_type": "stream",
     "text": [
      "[0] ✓ Correctly failed: 0 is less than the minimum of 1\n",
      "[1] ✓ Correctly failed: -50 is less than the minimum of 0\n",
      "[2] ✓ Correctly failed: 'brand' is a required property\n",
      "[3] ✓ Correctly failed: 770 is not of type 'string'\n",
      "[4] ✓ Correctly failed: 0 is less than the minimum of 1\n",
      "Total invalid caught: 5/5\n"
     ]
    }
   ],
   "source": [
    "with open('../Task/input/gpu_products_invalid.json', 'r', encoding='utf-8') as f:\n",
    "    invalid_products = json.load(f)\n",
    "\n",
    "failures = 0\n",
    "for idx, rec in enumerate(invalid_products):\n",
    "    try:\n",
    "        validate(instance=rec, schema=product_schema)\n",
    "        print(f'[{idx}] ✗ Unexpectedly valid')\n",
    "    except ValidationError as e:\n",
    "        failures += 1\n",
    "        print(f'[{idx}] ✓ Correctly failed: {e.message}')\n",
    "\n",
    "print(f'Total invalid caught: {failures}/{len(invalid_products)}')\n"
   ]
  },
  {
   "cell_type": "markdown",
   "id": "99746313",
   "metadata": {},
   "source": [
    "### Save Schema\n",
    "Write the defined schema to the shared Task input directory for reuse.\n"
   ]
  },
  {
   "cell_type": "code",
   "execution_count": 13,
   "id": "55a6ad75",
   "metadata": {},
   "outputs": [
    {
     "name": "stdout",
     "output_type": "stream",
     "text": [
      "Schema saved to ../Task/input/gpu_product_schema.json\n"
     ]
    }
   ],
   "source": [
    "# Save schema to Task input directory\n",
    "with open('../Task/input/gpu_product_schema.json','w', encoding='utf-8') as f:\n",
    "    json.dump(product_schema, f, indent=2)\n",
    "print('Schema saved to ../Task/input/gpu_product_schema.json')\n"
   ]
  }
 ],
 "metadata": {
  "kernelspec": {
   "display_name": "env",
   "language": "python",
   "name": "python3"
  },
  "language_info": {
   "codemirror_mode": {
    "name": "ipython",
    "version": 3
   },
   "file_extension": ".py",
   "mimetype": "text/x-python",
   "name": "python",
   "nbconvert_exporter": "python",
   "pygments_lexer": "ipython3",
   "version": "3.12.8"
  }
 },
 "nbformat": 4,
 "nbformat_minor": 5
}
