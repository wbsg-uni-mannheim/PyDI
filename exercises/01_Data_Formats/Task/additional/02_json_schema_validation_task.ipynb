{
 "cells": [
  {
   "cell_type": "markdown",
   "metadata": {},
   "source": [
    "# Exercise - JSON Schema and Data Validation"
   ]
  },
  {
   "cell_type": "markdown",
   "metadata": {},
   "source": [
    "In this exercise, you will learn about JSON Schema, a powerful tool for describing and validating JSON data structures. JSON Schema is essential for data integration tasks as it ensures data quality, defines clear contracts between systems, and helps catch data inconsistencies early in the pipeline.\n",
    "\n",
    "You will work with product catalog data and customer information to understand how to create schemas, validate data, and handle validation errors."
   ]
  },
  {
   "cell_type": "markdown",
   "metadata": {},
   "source": [
    "## 1 Introduction to JSON Schema"
   ]
  },
  {
   "cell_type": "markdown",
   "metadata": {},
   "source": [
    "JSON Schema is a vocabulary that allows you to annotate and validate JSON documents. It provides a clear, human and machine-readable documentation of your JSON data format.\n",
    "\n",
    "Key benefits:\n",
    "- **Data Validation**: Ensure data conforms to expected structure\n",
    "- **Documentation**: Self-documenting data contracts\n",
    "- **Code Generation**: Auto-generate data models\n",
    "- **API Design**: Define request/response formats\n",
    "\n",
    "We'll use the [jsonschema](https://python-jsonschema.readthedocs.io/) library, which implements JSON Schema validation for Python."
   ]
  },
  {
   "cell_type": "markdown",
   "metadata": {},
   "source": [
    "### 1.1 Installation and Basic Setup\n",
    "\n",
    "First, let's install the required library and import the necessary modules."
   ]
  },
  {
   "cell_type": "code",
   "execution_count": 2,
   "metadata": {},
   "outputs": [],
   "source": [
    "import json\n",
    "import pandas as pd\n",
    "from jsonschema import validate, ValidationError, Draft7Validator\n",
    "from pprint import pprint"
   ]
  },
  {
   "cell_type": "markdown",
   "metadata": {},
   "source": [
    "### 1.2 Load and Inspect Sample Data\n",
    "\n",
    "Load the sample product data and examine its structure to understand what we need to validate."
   ]
  },
  {
   "cell_type": "code",
   "execution_count": 3,
   "metadata": {},
   "outputs": [],
   "source": [
    "# Load the products dataset\n",
    "with open('input/products.json', 'r') as f:\n",
    "    products_data = json.load(f)\n",
    "\n",
    "# Display the first product to understand the structure\n"
   ]
  },
  {
   "cell_type": "markdown",
   "metadata": {},
   "source": [
    "## 2 Creating Basic JSON Schemas"
   ]
  },
  {
   "cell_type": "markdown",
   "metadata": {},
   "source": [
    "### 2.1 Define a Product Schema\n",
    "\n",
    "Based on the sample data, create a JSON schema that validates:\n",
    "- Required fields: id, name, category, price\n",
    "- Data types: id (integer), name (string), category (string), price (number)\n",
    "- Constraints: price must be positive"
   ]
  },
  {
   "cell_type": "code",
   "execution_count": null,
   "metadata": {},
   "outputs": [],
   "source": [
    "# Define the product schema\n",
    "product_schema = {\n",
    "    # TODO: Complete the schema definition\n",
    "}\n",
    "\n",
    "print(\"Product Schema:\")\n",
    "pprint(product_schema)"
   ]
  },
  {
   "cell_type": "markdown",
   "metadata": {},
   "source": [
    "### 2.2 Validate Valid Data\n",
    "\n",
    "Test your schema against valid product data to ensure it works correctly."
   ]
  },
  {
   "cell_type": "code",
   "execution_count": null,
   "metadata": {},
   "outputs": [],
   "source": [
    "# Validate the first product against the schema\n",
    "try:\n",
    "    # TODO: Add validation code\n",
    "    pass\n",
    "except ValidationError as e:\n",
    "    print(f\"Validation failed: {e.message}\")"
   ]
  },
  {
   "cell_type": "markdown",
   "metadata": {},
   "source": [
    "### 2.3 Test with Invalid Data\n",
    "\n",
    "Load the invalid products dataset and see how your schema catches validation errors."
   ]
  },
  {
   "cell_type": "code",
   "execution_count": 4,
   "metadata": {},
   "outputs": [],
   "source": [
    "# Load invalid products data\n",
    "with open('input/products_invalid.json', 'r') as f:\n",
    "    invalid_products = json.load(f)\n",
    "\n",
    "# Validate each invalid product and collect errors\n",
    "validation_results = []\n",
    "\n",
    "for i, product in enumerate(invalid_products):\n",
    "    # TODO: Add validation logic and error collection\n",
    "    pass\n",
    "\n",
    "# Display validation results\n",
    "for result in validation_results:\n",
    "    print(f\"Product {result['index']}: {'Valid' if result['valid'] else 'Invalid'}\")\n",
    "    if not result['valid']:\n",
    "        print(f\"  Error: {result['error']}\")\n",
    "    print()"
   ]
  },
  {
   "cell_type": "markdown",
   "metadata": {},
   "source": [
    "## 3 Advanced Schema Features"
   ]
  },
  {
   "cell_type": "markdown",
   "metadata": {},
   "source": [
    "### 3.1 Complex Data Types and Nested Objects\n",
    "\n",
    "Extend your product schema to handle more complex data:\n",
    "- Add an optional `specifications` object with nested properties\n",
    "- Add a `tags` array of strings\n",
    "- Add an optional `supplier` object with required `name` and `contact` fields"
   ]
  },
  {
   "cell_type": "code",
   "execution_count": null,
   "metadata": {},
   "outputs": [],
   "source": [
    "# Extended product schema with nested objects and arrays\n",
    "extended_product_schema = {\n",
    "    # TODO: Extend the basic schema with complex types\n",
    "}\n",
    "\n",
    "print(\"Extended Product Schema:\")\n",
    "pprint(extended_product_schema)"
   ]
  },
  {
   "cell_type": "markdown",
   "metadata": {},
   "source": [
    "### 3.2 String Patterns and Enums\n",
    "\n",
    "Add validation for:\n",
    "- Product ID must follow pattern: \"PROD-\" followed by 4 digits\n",
    "- Category must be one of: [\"electronics\", \"clothing\", \"books\", \"home\", \"sports\"]\n",
    "- Optional email field in supplier contact must be valid email format"
   ]
  },
  {
   "cell_type": "code",
   "execution_count": null,
   "metadata": {},
   "outputs": [],
   "source": [
    "# Product schema with pattern and enum validation\n",
    "pattern_schema = {\n",
    "    # TODO: Add pattern and enum constraints\n",
    "}\n",
    "\n",
    "# Test with different data examples\n",
    "test_cases = [\n",
    "    {\"id\": \"PROD-1234\", \"name\": \"Test Product\", \"category\": \"electronics\", \"price\": 99.99},\n",
    "    {\"id\": \"INVALID-ID\", \"name\": \"Bad Product\", \"category\": \"electronics\", \"price\": 50.00},\n",
    "    {\"id\": \"PROD-5678\", \"name\": \"Another Product\", \"category\": \"invalid_category\", \"price\": 25.00}\n",
    "]\n",
    "\n",
    "# TODO: Validate each test case and report results\n"
   ]
  },
  {
   "cell_type": "markdown",
   "metadata": {},
   "source": [
    "### 3.3 Conditional Validation\n",
    "\n",
    "Create a schema that uses conditional validation:\n",
    "- If category is \"electronics\", then `warranty_years` field is required\n",
    "- If category is \"clothing\", then `size` field is required\n",
    "- If price > 1000, then `premium_support` field is required"
   ]
  },
  {
   "cell_type": "code",
   "execution_count": null,
   "metadata": {},
   "outputs": [],
   "source": [
    "# Schema with conditional validation\n",
    "conditional_schema = {\n",
    "    # TODO: Implement conditional validation using if-then-else\n",
    "}\n",
    "\n",
    "# Test conditional validation\n",
    "conditional_test_cases = [\n",
    "    # Electronics without warranty\n",
    "    {\"id\": \"PROD-1111\", \"name\": \"Laptop\", \"category\": \"electronics\", \"price\": 899.99},\n",
    "    # Electronics with warranty\n",
    "    {\"id\": \"PROD-2222\", \"name\": \"Phone\", \"category\": \"electronics\", \"price\": 699.99, \"warranty_years\": 2},\n",
    "    # Expensive item without premium support\n",
    "    {\"id\": \"PROD-3333\", \"name\": \"Diamond Ring\", \"category\": \"jewelry\", \"price\": 5000.00}\n",
    "]\n",
    "\n",
    "# TODO: Test conditional validation\n"
   ]
  },
  {
   "cell_type": "markdown",
   "metadata": {},
   "source": [
    "## 4 Schema Composition and References"
   ]
  },
  {
   "cell_type": "markdown",
   "metadata": {},
   "source": [
    "### 4.1 Using Schema References\n",
    "\n",
    "Create reusable schema definitions using `$ref` to avoid duplication. Define:\n",
    "- A common `contact` schema\n",
    "- A common `address` schema\n",
    "- Use these in both product supplier and customer schemas"
   ]
  },
  {
   "cell_type": "code",
   "execution_count": null,
   "metadata": {},
   "outputs": [],
   "source": [
    "# Define reusable schema components\n",
    "schema_with_refs = {\n",
    "    \"$schema\": \"https://json-schema.org/draft/2019-09/schema\",\n",
    "    \"$defs\": {\n",
    "        # TODO: Define reusable schemas here\n",
    "    },\n",
    "    # TODO: Main schema that references the definitions\n",
    "}\n",
    "\n",
    "print(\"Schema with References:\")\n",
    "pprint(schema_with_refs)"
   ]
  },
  {
   "cell_type": "markdown",
   "metadata": {},
   "source": [
    "### 4.2 Customer Data Validation\n",
    "\n",
    "Create a customer schema using the reusable components and validate customer data."
   ]
  },
  {
   "cell_type": "code",
   "execution_count": null,
   "metadata": {},
   "outputs": [],
   "source": [
    "# Load customer data\n",
    "with open('input/customers.json', 'r') as f:\n",
    "    customers_data = json.load(f)\n",
    "\n",
    "# Customer schema\n",
    "customer_schema = {\n",
    "    # TODO: Define customer schema using references\n",
    "}\n",
    "\n",
    "# Validate customers\n",
    "# TODO: Validate customer data\n"
   ]
  },
  {
   "cell_type": "markdown",
   "metadata": {},
   "source": [
    "## 5 Bulk Validation and Error Reporting"
   ]
  },
  {
   "cell_type": "markdown",
   "metadata": {},
   "source": [
    "### 5.1 Validate Large Datasets\n",
    "\n",
    "Create a function to validate large datasets efficiently and generate comprehensive error reports."
   ]
  },
  {
   "cell_type": "code",
   "execution_count": null,
   "metadata": {},
   "outputs": [],
   "source": [
    "def validate_dataset(data, schema, dataset_name=\"dataset\"):\n",
    "    \"\"\"Validate a list of records and return detailed results.\"\"\"\n",
    "    # TODO: Implement bulk validation function\n",
    "    pass\n",
    "\n",
    "def generate_validation_report(validation_results):\n",
    "    \"\"\"Generate a summary report of validation results.\"\"\"\n",
    "    # TODO: Implement report generation\n",
    "    pass\n",
    "\n",
    "# Test with products dataset\n",
    "# TODO: Use functions to validate and report on products data\n"
   ]
  },
  {
   "cell_type": "markdown",
   "metadata": {},
   "source": [
    "### 5.2 Data Cleaning Based on Validation\n",
    "\n",
    "Use validation results to clean and fix data issues automatically where possible."
   ]
  },
  {
   "cell_type": "code",
   "execution_count": null,
   "metadata": {},
   "outputs": [],
   "source": [
    "def clean_product_data(products, validation_results):\n",
    "    \"\"\"Clean product data based on validation errors.\"\"\"\n",
    "    cleaned_products = []\n",
    "    \n",
    "    # TODO: Implement data cleaning logic\n",
    "    # Examples:\n",
    "    # - Convert string prices to numbers\n",
    "    # - Remove invalid records\n",
    "    # - Fix common formatting issues\n",
    "    \n",
    "    return cleaned_products\n",
    "\n",
    "# TODO: Clean invalid products data and re-validate\n"
   ]
  },
  {
   "cell_type": "markdown",
   "metadata": {},
   "source": [
    "## 6 Integration with Data Pipelines"
   ]
  },
  {
   "cell_type": "markdown",
   "metadata": {},
   "source": [
    "### 6.1 Schema Evolution and Versioning\n",
    "\n",
    "Demonstrate how to handle schema changes over time while maintaining backwards compatibility."
   ]
  },
  {
   "cell_type": "code",
   "execution_count": null,
   "metadata": {},
   "outputs": [],
   "source": [
    "# Version 1 of product schema\n",
    "product_schema_v1 = {\n",
    "    # TODO: Define v1 schema\n",
    "}\n",
    "\n",
    "# Version 2 with additional optional fields\n",
    "product_schema_v2 = {\n",
    "    # TODO: Define v2 schema with new fields\n",
    "}\n",
    "\n",
    "# Function to validate with fallback\n",
    "def validate_with_version_fallback(data, schemas):\n",
    "    \"\"\"Try validation with multiple schema versions.\"\"\"\n",
    "    # TODO: Implement version fallback logic\n",
    "    pass\n",
    "\n",
    "# TODO: Test with different data versions\n"
   ]
  },
  {
   "cell_type": "markdown",
   "metadata": {},
   "source": [
    "### 6.2 Performance Considerations\n",
    "\n",
    "Explore performance optimization for validating large datasets."
   ]
  },
  {
   "cell_type": "code",
   "execution_count": null,
   "metadata": {},
   "outputs": [],
   "source": [
    "import time\n",
    "from jsonschema import Draft7Validator\n",
    "\n",
    "def benchmark_validation_methods(data, schema, iterations=1000):\n",
    "    \"\"\"Benchmark different validation approaches.\"\"\"\n",
    "    results = {}\n",
    "    \n",
    "    # Method 1: Basic validation\n",
    "    # TODO: Benchmark basic validate() function\n",
    "    \n",
    "    # Method 2: Pre-compiled validator\n",
    "    # TODO: Benchmark with pre-compiled Draft7Validator\n",
    "    \n",
    "    # Method 3: Validation with early stopping\n",
    "    # TODO: Benchmark with check_schema and iter_errors\n",
    "    \n",
    "    return results\n",
    "\n",
    "# TODO: Run benchmarks and compare performance\n"
   ]
  },
  {
   "cell_type": "markdown",
   "metadata": {},
   "source": [
    "## 7 Best Practices and Real-World Applications"
   ]
  },
  {
   "cell_type": "markdown",
   "metadata": {},
   "source": [
    "\n",
    "- Start with required fields, add optional ones gradually\n",
    "- Use clear, descriptive field names and add descriptions\n",
    "- Define appropriate constraints (min/max, patterns, enums)\n",
    "- Plan for schema evolution with versioning\n",
    "- Use references to avoid duplication\n",
    "- Consider performance implications for large datasets"
   ]
  }
 ],
 "metadata": {
  "kernelspec": {
   "display_name": "env",
   "language": "python",
   "name": "python3"
  },
  "language_info": {
   "codemirror_mode": {
    "name": "ipython",
    "version": 3
   },
   "file_extension": ".py",
   "mimetype": "text/x-python",
   "name": "python",
   "nbconvert_exporter": "python",
   "pygments_lexer": "ipython3",
   "version": "3.12.8"
  }
 },
 "nbformat": 4,
 "nbformat_minor": 4
}
