{
 "cells": [
  {
   "cell_type": "markdown",
   "id": "b8a7556e-ad26-486d-b2e7-2a08b6ae21bf",
   "metadata": {},
   "source": [
    "*This tutorial is based on the LangGraph course on Langchain Academy*\n",
    "\n",
    "**Goal:** Provide an introductory understanding of building Agentic systems with LangGraph.\n",
    "\n",
    "\n",
    "**Links:**\n",
    "* [LG Academy Repo](https://github.com/langchain-ai/langchain-academy)\n",
    "* [LG Python Documentation](https://langchain-ai.github.io/langgraph/)\n",
    "* [LangGraph](https://www.langchain.com/langgraph)\n",
    "\n",
    "\n",
    "### **What is LangGraph?**\n",
    "> LangGraph is a library for building stateful, multi-actor applications with LLMs, used to create agent and multi-agent workflows. As a very low-level framework, it provides fine-grained control over both the flow and state of your application, crucial for creating reliable agents. Additionally, LangGraph includes built-in persistence, enabling advanced human-in-the-loop and memory features.\n",
    "\n",
    "\n",
    "1. **Cycles and Branching** - Implement loops and conditionals in applications\n",
    "2. **Persistence** - Automatically save state after each step in the graph. Pause and resume the graph execution at any point to support error recovery, human-in-the-loop workflows, time travel and more\n",
    "3. **Human-in-the-Loop** - Interrupt graph execution to approve or edit next action planned by the agent\n",
    "4. **Streaming Support** - Stream outputs as they are produced by each node (including token streaming)\n",
    "5. **Integration with LangChain** - LangGraph integrates seamlessly with LangChain and LangSmith\n",
    "\n",
    "*You can also check out this [course](https://academy.langchain.com/courses/take/intro-to-langgraph/) that this tutorial is based on.*\n",
    "\n",
    "For more examples any many implementations of different agentic workflows that you can use as starting point for your projects, please check out the LangGraph [tutorials](https://langchain-ai.github.io/langgraph/tutorials/) and [how-to guides](https://langchain-ai.github.io/langgraph/how-tos/)."
   ]
  },
  {
   "cell_type": "markdown",
   "id": "23b3e9b1-0824-42fb-a8ad-6ea7080c1707",
   "metadata": {},
   "source": [
    "### Groq and Tavily API Keys\n",
    "\n",
    "Next, we need an API key from [groq.com](https://groq.com/) to use a powerful opensource LLMs for free. Groq offers a free tier allowing for API access with rate limits You can register here if you do not have an account yet: https://huggingface.co/login\n",
    "\n",
    "After registering, you can create your key [here](https://console.groq.com/keys)\n",
    "\n",
    "![image.png](images\\groc_limits.png)\n",
    "\n",
    "Apart from groq, we will use a web search tool ([Tavily](https://tavily.com/)) that abstracts away the parsing of HTML code and gives us 1000 free searches per month.\n",
    "\n",
    "After registering, you can create your key [here](https://app.tavily.com/home)."
   ]
  },
  {
   "cell_type": "markdown",
   "id": "9a0d1bd2-1eff-41de-96b7-9ae4be4def90",
   "metadata": {},
   "source": [
    "Once you have your keys, you have two options to use them in this notebook:\n",
    "\n",
    "1. For directly inputting the tokens via copy/pasting:"
   ]
  },
  {
   "cell_type": "code",
   "execution_count": 1,
   "id": "7a96ba59-654e-41e0-b0d4-b28370f18e33",
   "metadata": {},
   "outputs": [],
   "source": [
    "# import getpass\n",
    "# import os\n",
    "\n",
    "# if not os.getenv(\"GROQ_API_KEY\"):\n",
    "#     os.environ[\"GROQ_API_KEY\"] = getpass.getpass(\"Enter your token: \")\n",
    "\n",
    "# if not os.getenv(\"TAVILY_API_KEY\"):\n",
    "#     os.environ[\"TAVILY_API_KEY\"] = getpass.getpass(\"Enter your token: \")"
   ]
  },
  {
   "cell_type": "markdown",
   "id": "2ee23486-d55d-4a01-a3c1-d827d86435ce",
   "metadata": {},
   "source": [
    "2. For loading the tokens from an .env file:"
   ]
  },
  {
   "cell_type": "code",
   "execution_count": 5,
   "id": "c56113f9-9163-4f19-92be-2e652a929713",
   "metadata": {},
   "outputs": [
    {
     "name": "stdout",
     "output_type": "stream",
     "text": [
      "Groq API Key loaded successfully\n",
      "Tavily API Key loaded successfully\n"
     ]
    }
   ],
   "source": [
    "from dotenv import load_dotenv\n",
    "import os\n",
    "\n",
    "load_dotenv()\n",
    "\n",
    "if os.getenv(\"GROQ_API_KEY\"):\n",
    "    print('Groq API Key loaded successfully')\n",
    "else:\n",
    "    print('Groq API Key loading failed, please make sure the .env file exists and the spelling is correct')\n",
    "\n",
    "if os.getenv(\"TAVILY_API_KEY\"):\n",
    "    print('Tavily API Key loaded successfully')\n",
    "else:\n",
    "    print('Tavily API Key loading failed, please make sure the .env file exists and the spelling is correct')"
   ]
  },
  {
   "cell_type": "markdown",
   "id": "8bbde2d6-bf1e-46ac-b6a7-e1bc86c4221d",
   "metadata": {},
   "source": [
    "### Installing relevant packages"
   ]
  },
  {
   "cell_type": "code",
   "execution_count": 7,
   "id": "645427c7-a88d-4496-8f91-5ab721e01141",
   "metadata": {},
   "outputs": [],
   "source": [
    "#%pip install -qU langchain-groq\n",
    "#%pip install -qU langgraph"
   ]
  },
  {
   "cell_type": "markdown",
   "id": "f4e5c121-49cb-4808-b9a3-9b18822b5528",
   "metadata": {},
   "source": [
    "### Preparing the model\n",
    "\n",
    "In this exercise we will use a much more powerful model compared to last time. The Llama3.3 model hosted by Groq with 70B parameters. As agentic workflows require strong reasoning skills as well as an understanding of tools and their execution, smaller models will be insufficient."
   ]
  },
  {
   "cell_type": "code",
   "execution_count": 2,
   "id": "21f8c935-783b-48c4-8a14-3282b3738cd2",
   "metadata": {},
   "outputs": [],
   "source": [
    "import re\n",
    "import httpx\n",
    "import os\n",
    "\n",
    "from langchain_groq import ChatGroq\n",
    "from langchain_openai import ChatOpenAI\n",
    "\n",
    "def create_chat_model():\n",
    "    \"\"\"\n",
    "    return ChatGroq(\n",
    "        model=\"llama-3.3-70b-versatile\",\n",
    "        temperature=0,\n",
    "        max_tokens=None,\n",
    "        timeout=None,\n",
    "        max_retries=2,\n",
    "    )\n",
    "    \"\"\"\n",
    "    \n",
    "    return ChatOpenAI(model=\"gpt-4o\", temperature=0) \n",
    "chat_model = create_chat_model()    \n"
   ]
  },
  {
   "cell_type": "markdown",
   "id": "5117ffac-94eb-4667-96a9-b7f09e42fae4",
   "metadata": {},
   "source": [
    "## A simple ReAct Agent without LangGraph\n",
    "\n",
    "Let's first implement a simple ReAct agent without LangGraph"
   ]
  },
  {
   "cell_type": "code",
   "execution_count": 7,
   "id": "fa44b3ef-04bb-4394-86fd-08be9c448dc8",
   "metadata": {},
   "outputs": [],
   "source": [
    "from langchain.schema import HumanMessage, SystemMessage, AIMessage\n",
    "\n",
    "class Agent:\n",
    "    # Initilializes the agent and prepares the system message if available\n",
    "    def __init__(self, system=\"\"):\n",
    "        self.system = system\n",
    "        self.messages = []\n",
    "        if self.system:\n",
    "            self.messages.append(SystemMessage(content=system))\n",
    "    \n",
    "    # Logic when calling the agent\n",
    "    def __call__(self, message):\n",
    "        self.messages.append(HumanMessage(content=message))\n",
    "        result = self.execute()\n",
    "        self.messages.append(AIMessage(content=result))\n",
    "        return result\n",
    "\n",
    "    # invoking the LLM with the collected messages and returning the completion\n",
    "    def execute(self):\n",
    "        completion = chat_model.invoke(self.messages)\n",
    "        return completion.content"
   ]
  },
  {
   "cell_type": "code",
   "execution_count": 8,
   "id": "6ad14372-160e-44b7-9c8b-a8efb6dba7d8",
   "metadata": {},
   "outputs": [],
   "source": [
    "# The Prompt contains a lot of instruction on how the model should behave\n",
    "# Most prominently it forces it into the ReAct schema of Thought, Action and Observation\n",
    "# This is the perfect system message for initializing the agent\n",
    "\n",
    "prompt = \"\"\"\n",
    "You run in a loop of Thought, Action, PAUSE, Observation.\n",
    "At the end of the loop you output an Answer\n",
    "Use Thought to describe your thoughts about the question you have been asked.\n",
    "Use Action to run exactly one of the actions available to you - then return PAUSE.\n",
    "Observation will be the result of running those actions.\n",
    "\n",
    "Your available actions are:\n",
    "\n",
    "calculate:\n",
    "e.g. calculate: 4 * 7 / 3\n",
    "Runs a calculation and returns the number - uses Python, so be sure to use floating point syntax if necessary\n",
    "\n",
    "average_dog_weight:\n",
    "e.g. average_dog_weight: Collie\n",
    "returns average weight of a dog when given the breed\n",
    "\n",
    "Example session:\n",
    "\n",
    "Question: How much does a Bulldog weigh?\n",
    "Thought: I should look up the dogs weight using average_dog_weight\n",
    "Action: average_dog_weight: Bulldog\n",
    "PAUSE\n",
    "\n",
    "You will be called again with this:\n",
    "\n",
    "Observation: A Bulldog weighs 51 lbs\n",
    "\n",
    "You then output:\n",
    "\n",
    "Answer: A bulldog weights 51 lbs\n",
    "\"\"\".strip()"
   ]
  },
  {
   "cell_type": "markdown",
   "id": "11f0b8eb-9223-4e3c-8b85-45226d59db60",
   "metadata": {},
   "source": [
    "### Preparing the Tools\n",
    "\n",
    "For this example, the tools will be two python functions that are available to the LLM. One to calcuate a number, the other to get the average weight of a specific dog breed"
   ]
  },
  {
   "cell_type": "code",
   "execution_count": 9,
   "id": "164c2b06-f83a-413e-8bb6-238c91e873bd",
   "metadata": {},
   "outputs": [],
   "source": [
    "def calculate(what):\n",
    "    return eval(what)\n",
    "\n",
    "def average_dog_weight(name:str) -> str:\n",
    "    if name in \"Scottish Terrier\": \n",
    "        return(\"Scottish Terriers average 20 lbs\")\n",
    "    elif name in \"Border Collie\":\n",
    "        return(\"a Border Collies average weight is 37 lbs\")\n",
    "    elif name in \"Toy Poodle\":\n",
    "        return(\"a toy poodles average weight is 7 lbs\")\n",
    "    else:\n",
    "        return(\"An average dog weights 50 lbs\")\n",
    "\n",
    "# prepare a dictionary for the tools\n",
    "known_actions = {\n",
    "    \"calculate\": calculate,\n",
    "    \"average_dog_weight\": average_dog_weight\n",
    "}"
   ]
  },
  {
   "cell_type": "markdown",
   "id": "c456d359-e358-4555-a835-f717341b32fd",
   "metadata": {},
   "source": [
    "### Putting it all together\n",
    "\n",
    "Create the agent, run the tools, return the observation and get the final output"
   ]
  },
  {
   "cell_type": "code",
   "execution_count": 10,
   "id": "7d760770-0338-4da4-a4ca-62d5c0d3a9a4",
   "metadata": {},
   "outputs": [],
   "source": [
    "abot = Agent(prompt)"
   ]
  },
  {
   "cell_type": "code",
   "execution_count": 11,
   "id": "92d15bef-cd46-470c-9147-e4ec908187a9",
   "metadata": {},
   "outputs": [
    {
     "name": "stdout",
     "output_type": "stream",
     "text": [
      "Thought: I should look up the dog's weight using average_dog_weight to find the average weight of a toy poodle.\n",
      "Action: average_dog_weight: toy poodle\n",
      "PAUSE\n"
     ]
    }
   ],
   "source": [
    "result = abot(\"How much does a toy poodle weigh?\")\n",
    "print(result)"
   ]
  },
  {
   "cell_type": "code",
   "execution_count": 13,
   "id": "b86d719d-e6ac-4518-896c-f5718298ad7e",
   "metadata": {},
   "outputs": [
    {
     "data": {
      "text/plain": [
       "'a toy poodles average weight is 7 lbs'"
      ]
     },
     "execution_count": 13,
     "metadata": {},
     "output_type": "execute_result"
    }
   ],
   "source": [
    "result = average_dog_weight(\"Toy Poodle\")\n",
    "result"
   ]
  },
  {
   "cell_type": "code",
   "execution_count": 14,
   "id": "3d945af6-5760-4068-a87c-3686b8f7d4ff",
   "metadata": {},
   "outputs": [],
   "source": [
    "next_prompt = \"Observation: {}\".format(result)"
   ]
  },
  {
   "cell_type": "code",
   "execution_count": 15,
   "id": "f8d66016-02cd-463c-9754-d7469cee8adc",
   "metadata": {},
   "outputs": [
    {
     "data": {
      "text/plain": [
       "'Answer: A toy poodle weighs 7 lbs.'"
      ]
     },
     "execution_count": 15,
     "metadata": {},
     "output_type": "execute_result"
    }
   ],
   "source": [
    "abot(next_prompt)"
   ]
  },
  {
   "cell_type": "code",
   "execution_count": 16,
   "id": "1317c8a1-d572-4f0d-8a7a-8f5a0ed816de",
   "metadata": {},
   "outputs": [
    {
     "data": {
      "text/plain": [
       "[SystemMessage(content='You run in a loop of Thought, Action, PAUSE, Observation.\\nAt the end of the loop you output an Answer\\nUse Thought to describe your thoughts about the question you have been asked.\\nUse Action to run exactly one of the actions available to you - then return PAUSE.\\nObservation will be the result of running those actions.\\n\\nYour available actions are:\\n\\ncalculate:\\ne.g. calculate: 4 * 7 / 3\\nRuns a calculation and returns the number - uses Python, so be sure to use floating point syntax if necessary\\n\\naverage_dog_weight:\\ne.g. average_dog_weight: Collie\\nreturns average weight of a dog when given the breed\\n\\nExample session:\\n\\nQuestion: How much does a Bulldog weigh?\\nThought: I should look up the dogs weight using average_dog_weight\\nAction: average_dog_weight: Bulldog\\nPAUSE\\n\\nYou will be called again with this:\\n\\nObservation: A Bulldog weighs 51 lbs\\n\\nYou then output:\\n\\nAnswer: A bulldog weights 51 lbs', additional_kwargs={}, response_metadata={}),\n",
       " HumanMessage(content='How much does a toy poodle weigh?', additional_kwargs={}, response_metadata={}),\n",
       " AIMessage(content=\"Thought: I should look up the dog's weight using average_dog_weight to find the average weight of a toy poodle.\\nAction: average_dog_weight: toy poodle\\nPAUSE\", additional_kwargs={}, response_metadata={}),\n",
       " HumanMessage(content='Observation: a toy poodles average weight is 7 lbs', additional_kwargs={}, response_metadata={}),\n",
       " AIMessage(content='Answer: A toy poodle weighs 7 lbs.', additional_kwargs={}, response_metadata={})]"
      ]
     },
     "execution_count": 16,
     "metadata": {},
     "output_type": "execute_result"
    }
   ],
   "source": [
    "# inspect the message history\n",
    "abot.messages"
   ]
  },
  {
   "cell_type": "markdown",
   "id": "5e063722-c9e5-4602-8a13-3e6bede838c7",
   "metadata": {},
   "source": [
    "Now let's make it more interesting"
   ]
  },
  {
   "cell_type": "code",
   "execution_count": 17,
   "id": "166c6d0e-86cb-4c7d-9e1d-1a4277abfea2",
   "metadata": {},
   "outputs": [],
   "source": [
    "abot = Agent(prompt)"
   ]
  },
  {
   "cell_type": "code",
   "execution_count": 18,
   "id": "d891daeb-9faf-4132-806e-72d2dbf7ca8e",
   "metadata": {},
   "outputs": [
    {
     "data": {
      "text/plain": [
       "'Thought: To find the combined weight of the two dogs, I need to look up the average weight of a Border Collie and a Scottish Terrier. I can use the average_dog_weight action to get the average weight of each breed and then add them together.\\n\\nAction: average_dog_weight: Border Collie\\nPAUSE'"
      ]
     },
     "execution_count": 18,
     "metadata": {},
     "output_type": "execute_result"
    }
   ],
   "source": [
    "question = \"\"\"I have 2 dogs, a border collie and a scottish terrier. \\\n",
    "What is their combined weight\"\"\"\n",
    "abot(question)"
   ]
  },
  {
   "cell_type": "code",
   "execution_count": 19,
   "id": "57f4f2a3-64de-4ebd-82fb-a1c8e29cd329",
   "metadata": {},
   "outputs": [
    {
     "name": "stdout",
     "output_type": "stream",
     "text": [
      "Observation: a Border Collies average weight is 37 lbs\n"
     ]
    }
   ],
   "source": [
    "next_prompt = \"Observation: {}\".format(average_dog_weight(\"Border Collie\"))\n",
    "print(next_prompt)"
   ]
  },
  {
   "cell_type": "code",
   "execution_count": 20,
   "id": "aac781ed-6d00-46a4-b5e1-509873597905",
   "metadata": {},
   "outputs": [
    {
     "data": {
      "text/plain": [
       "'Thought: Now that I have the average weight of a Border Collie, I need to find the average weight of a Scottish Terrier. I can use the average_dog_weight action again to get this information.\\n\\nAction: average_dog_weight: Scottish Terrier\\nPAUSE'"
      ]
     },
     "execution_count": 20,
     "metadata": {},
     "output_type": "execute_result"
    }
   ],
   "source": [
    "abot(next_prompt)"
   ]
  },
  {
   "cell_type": "code",
   "execution_count": 21,
   "id": "ef60d4cb-4d9f-49f3-9763-8cf1fde68c0f",
   "metadata": {},
   "outputs": [
    {
     "name": "stdout",
     "output_type": "stream",
     "text": [
      "Observation: Scottish Terriers average 20 lbs\n"
     ]
    }
   ],
   "source": [
    "next_prompt = \"Observation: {}\".format(average_dog_weight(\"Scottish Terrier\"))\n",
    "print(next_prompt)"
   ]
  },
  {
   "cell_type": "code",
   "execution_count": 22,
   "id": "acf07ead-ce9f-44a4-94c5-6262c8e668f8",
   "metadata": {},
   "outputs": [
    {
     "data": {
      "text/plain": [
       "'Thought: I now have the average weights of both breeds. To find the combined weight, I need to add the weights of the Border Collie and the Scottish Terrier together. I can use the calculate action to do this.\\n\\nAction: calculate: 37 + 20\\nPAUSE'"
      ]
     },
     "execution_count": 22,
     "metadata": {},
     "output_type": "execute_result"
    }
   ],
   "source": [
    "abot(next_prompt)"
   ]
  },
  {
   "cell_type": "code",
   "execution_count": 23,
   "id": "831e8dc0-0fae-4777-9f5b-661cc3362e6b",
   "metadata": {},
   "outputs": [
    {
     "name": "stdout",
     "output_type": "stream",
     "text": [
      "Observation: 57\n"
     ]
    }
   ],
   "source": [
    "next_prompt = \"Observation: {}\".format(eval(\"37 + 20\"))\n",
    "print(next_prompt)"
   ]
  },
  {
   "cell_type": "code",
   "execution_count": 24,
   "id": "483ac57b-8890-40ae-9035-63bc31c93596",
   "metadata": {},
   "outputs": [
    {
     "data": {
      "text/plain": [
       "'Thought: The calculation has given me the combined weight of the two dogs.\\n\\nAnswer: The combined weight of the Border Collie and the Scottish Terrier is 57 lbs.'"
      ]
     },
     "execution_count": 24,
     "metadata": {},
     "output_type": "execute_result"
    }
   ],
   "source": [
    "abot(next_prompt)"
   ]
  },
  {
   "cell_type": "markdown",
   "id": "4a3f7084-13d3-4b20-85b5-c735f44e6739",
   "metadata": {},
   "source": [
    "We see that it works and the Agent can reason its way to the correct answer while using the tools available. But this was a very manual endeavour, let's make it automatic:"
   ]
  },
  {
   "cell_type": "code",
   "execution_count": 25,
   "id": "7b69cdf2-c3a0-4b83-86dc-e5e9dec221f0",
   "metadata": {},
   "outputs": [
    {
     "name": "stderr",
     "output_type": "stream",
     "text": [
      "<>:2: SyntaxWarning: invalid escape sequence '\\w'\n",
      "<>:2: SyntaxWarning: invalid escape sequence '\\w'\n",
      "C:\\Users\\aasteine\\AppData\\Local\\Temp\\ipykernel_19372\\2297634647.py:2: SyntaxWarning: invalid escape sequence '\\w'\n",
      "  action_re = re.compile('^Action: (\\w+): (.*)$')\n"
     ]
    }
   ],
   "source": [
    "# python regular expression to parse the action\n",
    "action_re = re.compile('^Action: (\\w+): (.*)$')   "
   ]
  },
  {
   "cell_type": "code",
   "execution_count": 26,
   "id": "c85440a5-d9d6-4511-8423-ebd4aa7aa0a8",
   "metadata": {},
   "outputs": [],
   "source": [
    "# We prepare a function that loops the thought, action, observation cycle max 5 times\n",
    "# It automatically parses actions and uses the relevant tools\n",
    "def query(question, max_turns=5):\n",
    "    i = 0\n",
    "    bot = Agent(prompt)\n",
    "    next_prompt = question\n",
    "    while i < max_turns:\n",
    "        i += 1\n",
    "        result = bot(next_prompt)\n",
    "        print(result)\n",
    "        actions = [\n",
    "            action_re.match(a) \n",
    "            for a in result.split('\\n') \n",
    "            if action_re.match(a)\n",
    "        ]\n",
    "        if actions:\n",
    "            # There is an action to run\n",
    "            action, action_input = actions[0].groups()\n",
    "            if action not in known_actions:\n",
    "                raise Exception(\"Unknown action: {}: {}\".format(action, action_input))\n",
    "            print(\" -- running {} {}\".format(action, action_input))\n",
    "            observation = known_actions[action](action_input)\n",
    "            print(\"Observation:\", observation)\n",
    "            next_prompt = \"Observation: {}\".format(observation)\n",
    "        else:\n",
    "            return"
   ]
  },
  {
   "cell_type": "code",
   "execution_count": 27,
   "id": "e751d120-c1e7-4576-92ff-add0966c1907",
   "metadata": {},
   "outputs": [
    {
     "name": "stdout",
     "output_type": "stream",
     "text": [
      "Thought: To find the combined weight of the two dogs, I need to look up the average weight of a Border Collie and a Scottish Terrier. I can use the average_dog_weight action to get the average weight of each breed and then add them together.\n",
      "\n",
      "Action: average_dog_weight: Border Collie\n",
      "PAUSE\n",
      " -- running average_dog_weight Border Collie\n",
      "Observation: a Border Collies average weight is 37 lbs\n",
      "Thought: Now that I have the average weight of a Border Collie, I need to find the average weight of a Scottish Terrier. I can use the average_dog_weight action again to get this information.\n",
      "\n",
      "Action: average_dog_weight: Scottish Terrier\n",
      "PAUSE\n",
      " -- running average_dog_weight Scottish Terrier\n",
      "Observation: Scottish Terriers average 20 lbs\n",
      "Thought: I now have the average weights of both breeds. To find the combined weight, I need to add the weights of the Border Collie and the Scottish Terrier together. I can use the calculate action to do this.\n",
      "\n",
      "Action: calculate: 37 + 20\n",
      "PAUSE\n",
      " -- running calculate 37 + 20\n",
      "Observation: 57\n",
      "Thought: The calculation has given me the combined weight of the two dogs.\n",
      "\n",
      "Answer: The combined weight of the Border Collie and the Scottish Terrier is 57 lbs.\n"
     ]
    }
   ],
   "source": [
    "question = \"\"\"I have 2 dogs, a border collie and a scottish terrier. \\\n",
    "What is their combined weight\"\"\"\n",
    "query(question)"
   ]
  },
  {
   "cell_type": "markdown",
   "id": "ae9eb6ff",
   "metadata": {},
   "source": [
    "# The Simplest Graph\n",
    "\n",
    "Let's build a simple graph with 3 nodes and one conditional edge. \n",
    "\n",
    "![Screenshot 2024-08-20 at 3.11.22 PM.png](https://cdn.prod.website-files.com/65b8cd72835ceeacd4449a53/66dba5f465f6e9a2482ad935_simple-graph1.png)"
   ]
  },
  {
   "cell_type": "markdown",
   "id": "099e706d",
   "metadata": {},
   "source": [
    "## State\n",
    "\n",
    "First, define the [State](https://langchain-ai.github.io/langgraph/concepts/low_level/#state) of the graph. \n",
    "\n",
    "The State schema serves as the input schema for all Nodes and Edges in the graph.\n",
    "\n",
    "Let's use the `TypedDict` class from python's `typing` module as our schema, which provides type hints for the keys."
   ]
  },
  {
   "cell_type": "code",
   "execution_count": 28,
   "id": "cbc684d7",
   "metadata": {},
   "outputs": [],
   "source": [
    "from typing_extensions import TypedDict\n",
    "\n",
    "class State(TypedDict):\n",
    "    graph_state: str"
   ]
  },
  {
   "cell_type": "markdown",
   "id": "a29ff415",
   "metadata": {},
   "source": [
    "## Nodes\n",
    "\n",
    "[Nodes](https://langchain-ai.github.io/langgraph/concepts/low_level/#nodes) are just python functions.\n",
    "\n",
    "The first positional argument is the state, as defined above.\n",
    "\n",
    "Because the state is a `TypedDict` with schema as defined above, each node can access the key, `graph_state`, with `state['graph_state']`.\n",
    "\n",
    "Each node returns a new value of the state key `graph_state`.\n",
    "  \n",
    "By default, the new value returned by each node [will override](https://langchain-ai.github.io/langgraph/concepts/low_level/#reducers) the prior state value."
   ]
  },
  {
   "cell_type": "code",
   "execution_count": 29,
   "id": "2b185647",
   "metadata": {},
   "outputs": [],
   "source": [
    "def node_1(state):\n",
    "    print(\"---Node 1---\")\n",
    "    return {\"graph_state\": state['graph_state'] +\" I am\"}\n",
    "\n",
    "def node_2(state):\n",
    "    print(\"---Node 2---\")\n",
    "    return {\"graph_state\": state['graph_state'] +\" happy!\"}\n",
    "\n",
    "def node_3(state):\n",
    "    print(\"---Node 3---\")\n",
    "    return {\"graph_state\": state['graph_state'] +\" sad!\"}"
   ]
  },
  {
   "cell_type": "markdown",
   "id": "a7966188",
   "metadata": {},
   "source": [
    "## Edges\n",
    "\n",
    "[Edges](https://langchain-ai.github.io/langgraph/concepts/low_level/#edges) connect the nodes.\n",
    "\n",
    "Normal Edges are used if you want to *always* go from, for example, `node_1` to `node_2`.\n",
    "\n",
    "[Conditional Edges](https://langchain-ai.github.io/langgraph/concepts/low_level/#conditional-edges) are used if you want to *optionally* route between nodes.\n",
    " \n",
    "Conditional edges are implemented as functions that return the next node to visit based upon some logic."
   ]
  },
  {
   "cell_type": "code",
   "execution_count": 30,
   "id": "5e2a5c42",
   "metadata": {},
   "outputs": [],
   "source": [
    "import random\n",
    "from typing import Literal\n",
    "\n",
    "def decide_mood(state) -> Literal[\"node_2\", \"node_3\"]:\n",
    "    \n",
    "    # Often, we will use state to decide on the next node to visit\n",
    "    user_input = state['graph_state'] \n",
    "    \n",
    "    # Here, let's just do a 50 / 50 split between nodes 2, 3\n",
    "    if random.random() < 0.5:\n",
    "\n",
    "        # 50% of the time, we return Node 2\n",
    "        return \"node_2\"\n",
    "    \n",
    "    # 50% of the time, we return Node 3\n",
    "    return \"node_3\""
   ]
  },
  {
   "cell_type": "markdown",
   "id": "31993a25",
   "metadata": {},
   "source": [
    "## Graph Construction\n",
    "\n",
    "Now, we build the graph from our [components](\n",
    "https://langchain-ai.github.io/langgraph/concepts/low_level/) defined above.\n",
    "\n",
    "The [StateGraph class](https://langchain-ai.github.io/langgraph/concepts/low_level/#stategraph) is the graph class that we can use.\n",
    " \n",
    "First, we initialize a StateGraph with the `State` class we defined above.\n",
    " \n",
    "Then, we add our nodes and edges.\n",
    "\n",
    "We use the [`START` Node, a special node](https://langchain-ai.github.io/langgraph/concepts/low_level/#start-node) that sends user input to the graph, to indicate where to start our graph.\n",
    " \n",
    "The [`END` Node](https://langchain-ai.github.io/langgraph/concepts/low_level/#end-node) is a special node that represents a terminal node. \n",
    "\n",
    "Finally, we [compile our graph](https://langchain-ai.github.io/langgraph/concepts/low_level/#compiling-your-graph) to perform a few basic checks on the graph structure. \n",
    "\n",
    "We can visualize the graph as a [Mermaid diagram](https://github.com/mermaid-js/mermaid)."
   ]
  },
  {
   "cell_type": "code",
   "execution_count": 31,
   "id": "1df52221",
   "metadata": {},
   "outputs": [
    {
     "data": {
      "image/png": "[encoded data removed]",
      "text/plain": [
       "<IPython.core.display.Image object>"
      ]
     },
     "metadata": {},
     "output_type": "display_data"
    }
   ],
   "source": [
    "from IPython.display import Image, display\n",
    "from langgraph.graph import StateGraph, START, END\n",
    "\n",
    "# Build graph\n",
    "builder = StateGraph(State)\n",
    "builder.add_node(\"node_1\", node_1)\n",
    "builder.add_node(\"node_2\", node_2)\n",
    "builder.add_node(\"node_3\", node_3)\n",
    "\n",
    "# Logic\n",
    "builder.add_edge(START, \"node_1\")\n",
    "builder.add_conditional_edges(\"node_1\", decide_mood)\n",
    "builder.add_edge(\"node_2\", END)\n",
    "builder.add_edge(\"node_3\", END)\n",
    "\n",
    "# Add\n",
    "graph = builder.compile()\n",
    "\n",
    "# View\n",
    "display(Image(graph.get_graph().draw_mermaid_png()))"
   ]
  },
  {
   "cell_type": "markdown",
   "id": "e6f86064",
   "metadata": {},
   "source": [
    "## Graph Invocation\n",
    "\n",
    "The compiled graph implements the [runnable](https://python.langchain.com/docs/concepts/runnables/) protocol.\n",
    "\n",
    "This provides a standard way to execute LangChain components. \n",
    " \n",
    "`invoke` is one of the standard methods in this interface.\n",
    "\n",
    "The input is a dictionary `{\"graph_state\": \"Hi, this is lance.\"}`, which sets the initial value for our graph state dict.\n",
    "\n",
    "When `invoke` is called, the graph starts execution from the `START` node.\n",
    "\n",
    "It progresses through the defined nodes (`node_1`, `node_2`, `node_3`) in order.\n",
    "\n",
    "The conditional edge will traverse from node `1` to node `2` or `3` using a 50/50 decision rule. \n",
    "\n",
    "Each node function receives the current state and returns a new value, which overrides the graph state.\n",
    "\n",
    "The execution continues until it reaches the `END` node."
   ]
  },
  {
   "cell_type": "code",
   "execution_count": 32,
   "id": "107267c4",
   "metadata": {},
   "outputs": [
    {
     "name": "stdout",
     "output_type": "stream",
     "text": [
      "---Node 1---\n",
      "---Node 3---\n",
      "{'graph_state': 'Hi, this is Aaron. I am sad!'}\n",
      "-------------------------\n",
      "---Node 1---\n",
      "---Node 3---\n",
      "{'graph_state': 'Hi, this is Aaron. I am sad!'}\n",
      "-------------------------\n",
      "---Node 1---\n",
      "---Node 3---\n",
      "{'graph_state': 'Hi, this is Aaron. I am sad!'}\n",
      "-------------------------\n",
      "---Node 1---\n",
      "---Node 2---\n",
      "{'graph_state': 'Hi, this is Aaron. I am happy!'}\n",
      "-------------------------\n",
      "---Node 1---\n",
      "---Node 2---\n",
      "{'graph_state': 'Hi, this is Aaron. I am happy!'}\n",
      "-------------------------\n"
     ]
    }
   ],
   "source": [
    "for i in range(5):\n",
    "    print(graph.invoke({\"graph_state\" : \"Hi, this is Aaron.\"}))\n",
    "    print(\"-------------------------\")"
   ]
  },
  {
   "cell_type": "markdown",
   "id": "fc1b7f84",
   "metadata": {},
   "source": [
    "### Now lets use that approach to recreate our dog example\n",
    "\n",
    "We need to recreate our function with a docstring "
   ]
  },
  {
   "cell_type": "code",
   "execution_count": 131,
   "id": "dd43a51d",
   "metadata": {},
   "outputs": [],
   "source": [
    "def average_dog_weight(name:str) -> str:\n",
    "    \"\"\"Returns the average weight of a dog breed as a string.\n",
    "    \n",
    "    Arg:\n",
    "        name (str): The name of the dog breed to look up\n",
    "        \n",
    "    Returns:\n",
    "        str: A string describing the average weight of the specified dog breed.\n",
    "            Returns default weight of 50 lbs if breed is not found.\n",
    "            \n",
    "    Examples:\n",
    "        >>> average_dog_weight(\"Border Collie\")\n",
    "        'a Border Collies average weight is 37 lbs'\n",
    "        >>> average_dog_weight(\"Scottish Terrier\") \n",
    "        'Scottish Terriers average 20 lbs'\n",
    "    \"\"\"\n",
    "    if name in \"Scottish Terrier\": \n",
    "        return(\"Scottish Terriers average 20 lbs\")\n",
    "    elif name in \"Border Collie\":\n",
    "        return(\"a Border Collies average weight is 37 lbs\")\n",
    "    elif name in \"Toy Poodle\":\n",
    "        return(\"a toy poodles average weight is 7 lbs\")\n",
    "    else:\n",
    "        return(\"An average dog weights 50 lbs\")\n",
    "    \n",
    "def add(a: int, b: int) -> int:\n",
    "    \"\"\"Adds two integers together and returns their sum.\n",
    "    \n",
    "    Arg:\n",
    "        a (int): First integer to add\n",
    "        b (int): Second integer to add\n",
    "        \n",
    "    Returns:\n",
    "        int: The sum of a and b\n",
    "        \n",
    "    Examples:\n",
    "        >>> add(2, 3)\n",
    "        5\n",
    "        >>> add(-1, 1)\n",
    "        0\n",
    "    \"\"\"\n",
    "    return a+b"
   ]
  },
  {
   "cell_type": "code",
   "execution_count": 132,
   "id": "1e4b6910",
   "metadata": {},
   "outputs": [],
   "source": [
    "llm = create_chat_model()\n",
    "llm_with_tools = llm.bind_tools([average_dog_weight, add])"
   ]
  },
  {
   "cell_type": "code",
   "execution_count": 133,
   "id": "b4e08e28",
   "metadata": {},
   "outputs": [
    {
     "data": {
      "image/png": "[encoded data removed]",
      "text/plain": [
       "<IPython.core.display.Image object>"
      ]
     },
     "metadata": {},
     "output_type": "display_data"
    }
   ],
   "source": [
    "from IPython.display import Image, display\n",
    "from langgraph.graph import StateGraph, START, END\n",
    "from langgraph.graph import MessagesState\n",
    "from langgraph.prebuilt import ToolNode\n",
    "from langgraph.prebuilt import tools_condition\n",
    "\n",
    "# Node\n",
    "def tool_calling_llm(state: MessagesState):\n",
    "    return {\"messages\": [llm_with_tools.invoke(state[\"messages\"])]}\n",
    "\n",
    "# Build graph\n",
    "builder = StateGraph(MessagesState)\n",
    "builder.add_node(\"tool_calling_llm\", tool_calling_llm)\n",
    "builder.add_node(\"tools\", ToolNode([average_dog_weight, add]))\n",
    "builder.add_edge(START, \"tool_calling_llm\")\n",
    "builder.add_conditional_edges(\n",
    "    \"tool_calling_llm\",\n",
    "    # If the latest message (result) from assistant is a tool call -> tools_condition routes to tools\n",
    "    # If the latest message (result) from assistant is a not a tool call -> tools_condition routes to END\n",
    "    tools_condition,\n",
    ")\n",
    "builder.add_edge(\"tools\", END)\n",
    "graph = builder.compile()\n",
    "\n",
    "# View\n",
    "display(Image(graph.get_graph().draw_mermaid_png()))"
   ]
  },
  {
   "cell_type": "code",
   "execution_count": 4,
   "id": "7bb812ca",
   "metadata": {},
   "outputs": [
    {
     "ename": "NameError",
     "evalue": "name 'graph' is not defined",
     "output_type": "error",
     "traceback": [
      "\u001b[31m---------------------------------------------------------------------------\u001b[39m",
      "\u001b[31mNameError\u001b[39m                                 Traceback (most recent call last)",
      "\u001b[36mCell\u001b[39m\u001b[36m \u001b[39m\u001b[32mIn[4]\u001b[39m\u001b[32m, line 3\u001b[39m\n\u001b[32m      1\u001b[39m \u001b[38;5;28;01mfrom\u001b[39;00m\u001b[38;5;250m \u001b[39m\u001b[34;01mlangchain_core\u001b[39;00m\u001b[34;01m.\u001b[39;00m\u001b[34;01mmessages\u001b[39;00m\u001b[38;5;250m \u001b[39m\u001b[38;5;28;01mimport\u001b[39;00m HumanMessage\n\u001b[32m      2\u001b[39m messages = [HumanMessage(content=\u001b[33m\"\u001b[39m\u001b[33mHow much does a toy poodle weigh?\u001b[39m\u001b[33m\"\u001b[39m)]\n\u001b[32m----> \u001b[39m\u001b[32m3\u001b[39m messages = \u001b[43mgraph\u001b[49m.invoke({\u001b[33m\"\u001b[39m\u001b[33mmessages\u001b[39m\u001b[33m\"\u001b[39m: messages})\n\u001b[32m      4\u001b[39m \u001b[38;5;28;01mfor\u001b[39;00m m \u001b[38;5;129;01min\u001b[39;00m messages[\u001b[33m'\u001b[39m\u001b[33mmessages\u001b[39m\u001b[33m'\u001b[39m]:\n\u001b[32m      5\u001b[39m     m.pretty_print()\n",
      "\u001b[31mNameError\u001b[39m: name 'graph' is not defined"
     ]
    }
   ],
   "source": [
    "from langchain_core.messages import HumanMessage\n",
    "messages = [HumanMessage(content=\"How much does a toy poodle weigh?\")]\n",
    "messages = graph.invoke({\"messages\": messages})\n",
    "for m in messages['messages']:\n",
    "    m.pretty_print()"
   ]
  },
  {
   "cell_type": "code",
   "execution_count": 135,
   "id": "113c79ea",
   "metadata": {},
   "outputs": [
    {
     "name": "stdout",
     "output_type": "stream",
     "text": [
      "================================\u001b[1m Human Message \u001b[0m=================================\n",
      "\n",
      "Hello how are you doing?\n",
      "==================================\u001b[1m Ai Message \u001b[0m==================================\n",
      "\n",
      "I'm doing well, thank you for asking. Is there something I can help you with, or would you like to know more about a specific dog breed or perhaps perform some calculations?\n"
     ]
    }
   ],
   "source": [
    "messages = [HumanMessage(content=\"Hello how are you doing?\")]\n",
    "messages = graph.invoke({\"messages\": messages})\n",
    "for m in messages['messages']:\n",
    "    m.pretty_print()"
   ]
  },
  {
   "cell_type": "code",
   "execution_count": 136,
   "id": "87bcd293",
   "metadata": {},
   "outputs": [
    {
     "name": "stdout",
     "output_type": "stream",
     "text": [
      "================================\u001b[1m Human Message \u001b[0m=================================\n",
      "\n",
      "I have 2 dogs, a border collie and a scottish terrier. What is their combined weight\n",
      "==================================\u001b[1m Ai Message \u001b[0m==================================\n",
      "Tool Calls:\n",
      "  average_dog_weight (call_ekkj)\n",
      " Call ID: call_ekkj\n",
      "  Args:\n",
      "    name: Border Collie\n",
      "  average_dog_weight (call_28hn)\n",
      " Call ID: call_28hn\n",
      "  Args:\n",
      "    name: Scottish Terrier\n",
      "  add (call_k603)\n",
      " Call ID: call_k603\n",
      "  Args:\n",
      "    a: 37\n",
      "    b: 20\n",
      "=================================\u001b[1m Tool Message \u001b[0m=================================\n",
      "Name: average_dog_weight\n",
      "\n",
      "a Border Collies average weight is 37 lbs\n",
      "=================================\u001b[1m Tool Message \u001b[0m=================================\n",
      "Name: average_dog_weight\n",
      "\n",
      "Scottish Terriers average 20 lbs\n",
      "=================================\u001b[1m Tool Message \u001b[0m=================================\n",
      "Name: add\n",
      "\n",
      "57\n"
     ]
    }
   ],
   "source": [
    "messages = [HumanMessage(content=\"I have 2 dogs, a border collie and a scottish terrier. What is their combined weight\")]\n",
    "messages = graph.invoke({\"messages\": messages})\n",
    "for m in messages['messages']:\n",
    "    m.pretty_print()"
   ]
  },
  {
   "cell_type": "markdown",
   "id": "390ace7c",
   "metadata": {},
   "source": [
    "Notice that due to how we constructed our graph, the LLM does not get to see the tool output again, so it can't answer the question in a nice manner - we just get the tool output. To resolve this we want to connect the tool output back to the llm."
   ]
  },
  {
   "cell_type": "code",
   "execution_count": 137,
   "id": "74bcbc94",
   "metadata": {},
   "outputs": [
    {
     "data": {
      "image/png": "[encoded data removed]",
      "text/plain": [
       "<IPython.core.display.Image object>"
      ]
     },
     "metadata": {},
     "output_type": "display_data"
    }
   ],
   "source": [
    "# Node\n",
    "def tool_calling_llm(state: MessagesState):\n",
    "    return {\"messages\": [llm_with_tools.invoke(state[\"messages\"])]}\n",
    "\n",
    "# Build graph\n",
    "builder = StateGraph(MessagesState)\n",
    "builder.add_node(\"tool_calling_llm\", tool_calling_llm)\n",
    "builder.add_node(\"tools\", ToolNode([average_dog_weight, add]))\n",
    "builder.add_edge(START, \"tool_calling_llm\")\n",
    "builder.add_conditional_edges(\n",
    "    \"tool_calling_llm\",\n",
    "    # If the latest message (result) from assistant is a tool call -> tools_condition routes to tools\n",
    "    # If the latest message (result) from assistant is a not a tool call -> tools_condition routes to END\n",
    "    tools_condition,\n",
    ")\n",
    "builder.add_edge(\"tools\", \"tool_calling_llm\")\n",
    "\n",
    "graph = builder.compile()\n",
    "\n",
    "# View\n",
    "display(Image(graph.get_graph().draw_mermaid_png()))"
   ]
  },
  {
   "cell_type": "code",
   "execution_count": 138,
   "id": "3407191e",
   "metadata": {},
   "outputs": [
    {
     "name": "stdout",
     "output_type": "stream",
     "text": [
      "================================\u001b[1m Human Message \u001b[0m=================================\n",
      "\n",
      "I have 2 dogs, a border collie and a scottish terrier. What is their combined weight\n",
      "==================================\u001b[1m Ai Message \u001b[0m==================================\n",
      "Tool Calls:\n",
      "  average_dog_weight (call_epm2)\n",
      " Call ID: call_epm2\n",
      "  Args:\n",
      "    name: Border Collie\n",
      "  average_dog_weight (call_13ee)\n",
      " Call ID: call_13ee\n",
      "  Args:\n",
      "    name: Scottish Terrier\n",
      "  add (call_6zap)\n",
      " Call ID: call_6zap\n",
      "  Args:\n",
      "    a: 37\n",
      "    b: 20\n",
      "=================================\u001b[1m Tool Message \u001b[0m=================================\n",
      "Name: average_dog_weight\n",
      "\n",
      "a Border Collies average weight is 37 lbs\n",
      "=================================\u001b[1m Tool Message \u001b[0m=================================\n",
      "Name: average_dog_weight\n",
      "\n",
      "Scottish Terriers average 20 lbs\n",
      "=================================\u001b[1m Tool Message \u001b[0m=================================\n",
      "Name: add\n",
      "\n",
      "57\n",
      "==================================\u001b[1m Ai Message \u001b[0m==================================\n",
      "\n",
      "The combined weight of your Border Collie and Scottish Terrier is 57 lbs.\n"
     ]
    }
   ],
   "source": [
    "messages = [HumanMessage(content=\"I have 2 dogs, a border collie and a scottish terrier. What is their combined weight\")]\n",
    "messages = graph.invoke({\"messages\": messages})\n",
    "for m in messages['messages']:\n",
    "    m.pretty_print()"
   ]
  },
  {
   "cell_type": "markdown",
   "id": "77ca7b12",
   "metadata": {},
   "source": [
    "Let's look at this on LangSmith https://smith.langchain.com\n",
    "\n",
    "![images/Langsmith.png](images/Langsmith.png)\n",
    " \n"
   ]
  },
  {
   "cell_type": "code",
   "execution_count": null,
   "id": "fab398e3",
   "metadata": {},
   "outputs": [
    {
     "name": "stdout",
     "output_type": "stream",
     "text": [
      "================================\u001b[1m Human Message \u001b[0m=================================\n",
      "\n",
      "Ah I forgot my Husky. Please add its weight.\n",
      "==================================\u001b[1m Ai Message \u001b[0m==================================\n",
      "Tool Calls:\n",
      "  average_dog_weight (call_xp0p)\n",
      " Call ID: call_xp0p\n",
      "  Args:\n",
      "    name: Siberian Husky\n",
      "  add (call_cn6q)\n",
      " Call ID: call_cn6q\n",
      "  Args:\n",
      "    a: 50\n",
      "    b: 23\n",
      "=================================\u001b[1m Tool Message \u001b[0m=================================\n",
      "Name: average_dog_weight\n",
      "\n",
      "An average dog weights 50 lbs\n",
      "=================================\u001b[1m Tool Message \u001b[0m=================================\n",
      "Name: add\n",
      "\n",
      "73\n",
      "==================================\u001b[1m Ai Message \u001b[0m==================================\n",
      "\n",
      "The average weight of a Siberian Husky is 23 lbs, so if we add that to the default weight of 50 lbs, we get 73 lbs.\n"
     ]
    }
   ],
   "source": [
    "messages = [HumanMessage(content=\"Ah I forgot my Husky. Please add its weight.\")]\n",
    "messages = graph.invoke({\"messages\": messages})\n",
    "for m in messages['messages']:\n",
    "    m.pretty_print()"
   ]
  },
  {
   "cell_type": "markdown",
   "id": "395dcb4b",
   "metadata": {},
   "source": [
    "We can tell that our model does not remember our previous query about the two dogs that we already asked it about.\n",
    "\n",
    "### Let's add memory\n",
    "  \n",
    "As the husky example shows, our current graph does not have any notion of what came before in our previous invocation."
   ]
  },
  {
   "cell_type": "code",
   "execution_count": 43,
   "id": "898dd643",
   "metadata": {},
   "outputs": [],
   "source": [
    "from langgraph.checkpoint.memory import MemorySaver\n",
    "memory = MemorySaver()\n",
    "react_graph_memory = builder.compile(checkpointer=memory)"
   ]
  },
  {
   "cell_type": "markdown",
   "id": "ef7f1f1c",
   "metadata": {},
   "source": [
    "When we use memory, we need to specify a `thread_id`.\n",
    "\n",
    "This `thread_id` will store our collection of graph states.\n",
    "\n",
    "Here is a cartoon:\n",
    "\n",
    "* The checkpointer write the state at every step of the graph\n",
    "* These checkpoints are saved in a thread \n",
    "* We can access that thread in the future using the `thread_id`\n",
    "\n",
    "![state.jpg](https://cdn.prod.website-files.com/65b8cd72835ceeacd4449a53/66e0e9f526b41a4ed9e2d28b_agent-memory2.png)\n"
   ]
  },
  {
   "cell_type": "code",
   "execution_count": 44,
   "id": "5e8ff75c",
   "metadata": {},
   "outputs": [
    {
     "name": "stdout",
     "output_type": "stream",
     "text": [
      "================================\u001b[1m Human Message \u001b[0m=================================\n",
      "\n",
      "I have 2 dogs, a border collie and a scottish terrier. What is their combined weight\n",
      "==================================\u001b[1m Ai Message \u001b[0m==================================\n",
      "Tool Calls:\n",
      "  average_dog_weight (call_3j22)\n",
      " Call ID: call_3j22\n",
      "  Args:\n",
      "    name: Border Collie\n",
      "  average_dog_weight (call_2h4d)\n",
      " Call ID: call_2h4d\n",
      "  Args:\n",
      "    name: Scottish Terrier\n",
      "  add (call_897q)\n",
      " Call ID: call_897q\n",
      "  Args:\n",
      "    a: 37\n",
      "    b: 20\n",
      "=================================\u001b[1m Tool Message \u001b[0m=================================\n",
      "Name: average_dog_weight\n",
      "\n",
      "a Border Collies average weight is 37 lbs\n",
      "=================================\u001b[1m Tool Message \u001b[0m=================================\n",
      "Name: average_dog_weight\n",
      "\n",
      "Scottish Terriers average 20 lbs\n",
      "=================================\u001b[1m Tool Message \u001b[0m=================================\n",
      "Name: add\n",
      "\n",
      "57\n",
      "==================================\u001b[1m Ai Message \u001b[0m==================================\n",
      "\n",
      "The combined weight of your Border Collie and Scottish Terrier is 57 lbs.\n"
     ]
    }
   ],
   "source": [
    "# Specify a thread\n",
    "config = {\"configurable\": {\"thread_id\": \"1\"}}\n",
    "\n",
    "# Specify an input\n",
    "messages = [HumanMessage(content=\"I have 2 dogs, a border collie and a scottish terrier. What is their combined weight\")]\n",
    "\n",
    "# Run\n",
    "messages = react_graph_memory.invoke({\"messages\": messages},config)\n",
    "for m in messages['messages']:\n",
    "    m.pretty_print()"
   ]
  },
  {
   "cell_type": "code",
   "execution_count": 45,
   "id": "08fbb67a",
   "metadata": {},
   "outputs": [
    {
     "name": "stdout",
     "output_type": "stream",
     "text": [
      "================================\u001b[1m Human Message \u001b[0m=================================\n",
      "\n",
      "I have 2 dogs, a border collie and a scottish terrier. What is their combined weight\n",
      "==================================\u001b[1m Ai Message \u001b[0m==================================\n",
      "Tool Calls:\n",
      "  average_dog_weight (call_3j22)\n",
      " Call ID: call_3j22\n",
      "  Args:\n",
      "    name: Border Collie\n",
      "  average_dog_weight (call_2h4d)\n",
      " Call ID: call_2h4d\n",
      "  Args:\n",
      "    name: Scottish Terrier\n",
      "  add (call_897q)\n",
      " Call ID: call_897q\n",
      "  Args:\n",
      "    a: 37\n",
      "    b: 20\n",
      "=================================\u001b[1m Tool Message \u001b[0m=================================\n",
      "Name: average_dog_weight\n",
      "\n",
      "a Border Collies average weight is 37 lbs\n",
      "=================================\u001b[1m Tool Message \u001b[0m=================================\n",
      "Name: average_dog_weight\n",
      "\n",
      "Scottish Terriers average 20 lbs\n",
      "=================================\u001b[1m Tool Message \u001b[0m=================================\n",
      "Name: add\n",
      "\n",
      "57\n",
      "==================================\u001b[1m Ai Message \u001b[0m==================================\n",
      "\n",
      "The combined weight of your Border Collie and Scottish Terrier is 57 lbs.\n",
      "================================\u001b[1m Human Message \u001b[0m=================================\n",
      "\n",
      "Ah I forgot my Husky. Please add its weight.\n",
      "==================================\u001b[1m Ai Message \u001b[0m==================================\n",
      "Tool Calls:\n",
      "  average_dog_weight (call_4w2h)\n",
      " Call ID: call_4w2h\n",
      "  Args:\n",
      "    name: Husky\n",
      "  add (call_rasc)\n",
      " Call ID: call_rasc\n",
      "  Args:\n",
      "    a: 57\n",
      "    b: 50\n",
      "=================================\u001b[1m Tool Message \u001b[0m=================================\n",
      "Name: average_dog_weight\n",
      "\n",
      "An average dog weights 50 lbs\n",
      "=================================\u001b[1m Tool Message \u001b[0m=================================\n",
      "Name: add\n",
      "\n",
      "107\n",
      "==================================\u001b[1m Ai Message \u001b[0m==================================\n",
      "\n",
      "The combined weight of your Border Collie, Scottish Terrier, and Husky is 107 lbs.\n"
     ]
    }
   ],
   "source": [
    "messages = [HumanMessage(content=\"Ah I forgot my Husky. Please add its weight.\")]\n",
    "messages = react_graph_memory.invoke({\"messages\": messages}, config)\n",
    "for m in messages['messages']:\n",
    "    m.pretty_print()"
   ]
  },
  {
   "cell_type": "markdown",
   "id": "be902cc1",
   "metadata": {},
   "source": [
    "To allow us to create more complicated graphs we need to take a closer look at state management.\n",
    " \n",
    "## State Management and Reducers\n",
    " \n",
    "By default we simply override the state of our graph."
   ]
  },
  {
   "cell_type": "code",
   "execution_count": 46,
   "id": "c85a6953",
   "metadata": {},
   "outputs": [
    {
     "data": {
      "image/png": "[encoded data removed]",
      "text/plain": [
       "<IPython.core.display.Image object>"
      ]
     },
     "metadata": {},
     "output_type": "display_data"
    }
   ],
   "source": [
    "from typing_extensions import TypedDict\n",
    "from IPython.display import Image, display\n",
    "from langgraph.graph import StateGraph, START, END\n",
    "\n",
    "class State(TypedDict):\n",
    "    foo: int\n",
    "\n",
    "def node_1(state):\n",
    "    print(\"---Node 1---\")\n",
    "    return {\"foo\": state['foo'] + 1}\n",
    "\n",
    "# Build graph\n",
    "builder = StateGraph(State)\n",
    "builder.add_node(\"node_1\", node_1)\n",
    "\n",
    "# Logic\n",
    "builder.add_edge(START, \"node_1\")\n",
    "builder.add_edge(\"node_1\", END)\n",
    "\n",
    "# Add\n",
    "graph = builder.compile()\n",
    "\n",
    "# View\n",
    "display(Image(graph.get_graph().draw_mermaid_png()))"
   ]
  },
  {
   "cell_type": "code",
   "execution_count": 47,
   "id": "ae6e2658",
   "metadata": {},
   "outputs": [
    {
     "name": "stdout",
     "output_type": "stream",
     "text": [
      "---Node 1---\n",
      "{'foo': 2}\n",
      "---Node 1---\n",
      "{'foo': 2}\n"
     ]
    }
   ],
   "source": [
    "print(graph.invoke({\"foo\" : 1}))\n",
    "# Note that even if we call this multiple times the value does not increase.\n",
    "print(graph.invoke({\"foo\" : 1}))"
   ]
  },
  {
   "cell_type": "markdown",
   "id": "8010813e",
   "metadata": {},
   "source": [
    "## Branching\n",
    "\n",
    "Let's look at a case where our nodes branch."
   ]
  },
  {
   "cell_type": "code",
   "execution_count": 48,
   "id": "4f24b034",
   "metadata": {},
   "outputs": [
    {
     "data": {
      "image/png": "[encoded data removed]",
      "text/plain": [
       "<IPython.core.display.Image object>"
      ]
     },
     "metadata": {},
     "output_type": "display_data"
    }
   ],
   "source": [
    "class State(TypedDict):\n",
    "    foo: int\n",
    "\n",
    "def node_1(state):\n",
    "    print(\"---Node 1---\")\n",
    "    return {\"foo\": state['foo'] + 1}\n",
    "\n",
    "def node_2(state):\n",
    "    print(\"---Node 2---\")\n",
    "    return {\"foo\": state['foo'] + 1}\n",
    "\n",
    "def node_3(state):\n",
    "    print(\"---Node 3---\")\n",
    "    return {\"foo\": state['foo'] + 1}\n",
    "\n",
    "# Build graph\n",
    "builder = StateGraph(State)\n",
    "builder.add_node(\"node_1\", node_1)\n",
    "builder.add_node(\"node_2\", node_2)\n",
    "builder.add_node(\"node_3\", node_3)\n",
    "\n",
    "# Logic\n",
    "builder.add_edge(START, \"node_1\")\n",
    "builder.add_edge(\"node_1\", \"node_2\")\n",
    "builder.add_edge(\"node_1\", \"node_3\")\n",
    "builder.add_edge(\"node_2\", END)\n",
    "builder.add_edge(\"node_3\", END)\n",
    "\n",
    "# Add\n",
    "graph = builder.compile()\n",
    "\n",
    "# View\n",
    "display(Image(graph.get_graph().draw_mermaid_png()))"
   ]
  },
  {
   "cell_type": "code",
   "execution_count": 49,
   "id": "8405ae91",
   "metadata": {},
   "outputs": [
    {
     "name": "stdout",
     "output_type": "stream",
     "text": [
      "---Node 1---\n",
      "---Node 2---\n",
      "---Node 3---\n",
      "InvalidUpdateError occurred: At key 'foo': Can receive only one value per step. Use an Annotated key to handle multiple values.\n",
      "For troubleshooting, visit: https://python.langchain.com/docs/troubleshooting/errors/INVALID_CONCURRENT_GRAPH_UPDATE\n"
     ]
    }
   ],
   "source": [
    "from langgraph.errors import InvalidUpdateError\n",
    "try:\n",
    "    graph.invoke({\"foo\" : 1})\n",
    "except InvalidUpdateError as e:\n",
    "    print(f\"InvalidUpdateError occurred: {e}\")\n"
   ]
  },
  {
   "cell_type": "markdown",
   "id": "3b6a232e",
   "metadata": {},
   "source": [
    "We see a problem! \n",
    "\n",
    "Node 1 branches to nodes 2 and 3.\n",
    "\n",
    "Nodes 2 and 3 run in parallel, which means they run in the same step of the graph.\n",
    "\n",
    "They both attempt to overwrite the state *within the same step*. \n",
    "\n",
    "This is ambiguous for the graph! Which state should it keep? "
   ]
  },
  {
   "cell_type": "markdown",
   "id": "12680052",
   "metadata": {},
   "source": [
    "## Reducers\n",
    "\n",
    "[Reducers](https://langchain-ai.github.io/langgraph/concepts/low_level/#reducers) give us a general way to address this problem.\n",
    "\n",
    "They specify how to perform updates.\n",
    "\n",
    "We can use the `Annotated` type to specify a reducer function. \n",
    "\n",
    "For example, in this case let's append the value returned from each node rather than overwriting them.\n",
    "\n",
    "We just need a reducer that can perform this: `operator.add` is a function from Python's built-in operator module.\n",
    "\n",
    "When `operator.add` is applied to lists, it performs list concatenation."
   ]
  },
  {
   "cell_type": "code",
   "execution_count": 50,
   "id": "86df75e4",
   "metadata": {},
   "outputs": [
    {
     "data": {
      "image/png": "[encoded data removed]",
      "text/plain": [
       "<IPython.core.display.Image object>"
      ]
     },
     "metadata": {},
     "output_type": "display_data"
    }
   ],
   "source": [
    "from operator import add\n",
    "from typing import Annotated\n",
    "\n",
    "class State(TypedDict):\n",
    "    foo: Annotated[list[int], add]\n",
    "\n",
    "def node_1(state):\n",
    "    print(\"---Node 1---\")\n",
    "    return {\"foo\": [state['foo'][0] + 1]}\n",
    "\n",
    "# Build graph\n",
    "builder = StateGraph(State)\n",
    "builder.add_node(\"node_1\", node_1)\n",
    "\n",
    "# Logic\n",
    "builder.add_edge(START, \"node_1\")\n",
    "builder.add_edge(\"node_1\", END)\n",
    "\n",
    "# Add\n",
    "graph = builder.compile()\n",
    "\n",
    "# View\n",
    "display(Image(graph.get_graph().draw_mermaid_png()))"
   ]
  },
  {
   "cell_type": "code",
   "execution_count": 51,
   "id": "cc9aa117",
   "metadata": {},
   "outputs": [
    {
     "name": "stdout",
     "output_type": "stream",
     "text": [
      "---Node 1---\n"
     ]
    },
    {
     "data": {
      "text/plain": [
       "{'foo': [1, 2]}"
      ]
     },
     "execution_count": 51,
     "metadata": {},
     "output_type": "execute_result"
    }
   ],
   "source": [
    "graph.invoke({\"foo\" : [1]})"
   ]
  },
  {
   "cell_type": "markdown",
   "id": "f33b2be9",
   "metadata": {},
   "source": [
    "Now, our state key `foo` is a list.\n",
    "\n",
    "This `operator.add` reducer function will append updates from each node to this list. "
   ]
  },
  {
   "cell_type": "code",
   "execution_count": 52,
   "id": "81d1654e",
   "metadata": {},
   "outputs": [
    {
     "data": {
      "image/png": "[encoded data removed]",
      "text/plain": [
       "<IPython.core.display.Image object>"
      ]
     },
     "metadata": {},
     "output_type": "display_data"
    }
   ],
   "source": [
    "def node_1(state):\n",
    "    print(\"---Node 1---\")\n",
    "    return {\"foo\": [state['foo'][-1] + 1]}\n",
    "\n",
    "def node_2(state):\n",
    "    print(\"---Node 2---\")\n",
    "    return {\"foo\": [state['foo'][-1] + 1]}\n",
    "\n",
    "def node_3(state):\n",
    "    print(\"---Node 3---\")\n",
    "    return {\"foo\": [state['foo'][-1] + 1]}\n",
    "\n",
    "# Build graph\n",
    "builder = StateGraph(State)\n",
    "builder.add_node(\"node_1\", node_1)\n",
    "builder.add_node(\"node_2\", node_2)\n",
    "builder.add_node(\"node_3\", node_3)\n",
    "\n",
    "# Logic\n",
    "builder.add_edge(START, \"node_1\")\n",
    "builder.add_edge(\"node_1\", \"node_2\")\n",
    "builder.add_edge(\"node_1\", \"node_3\")\n",
    "builder.add_edge(\"node_2\", END)\n",
    "builder.add_edge(\"node_3\", END)\n",
    "\n",
    "# Add\n",
    "graph = builder.compile()\n",
    "\n",
    "# View\n",
    "display(Image(graph.get_graph().draw_mermaid_png()))"
   ]
  },
  {
   "cell_type": "code",
   "execution_count": 53,
   "id": "50f643f1",
   "metadata": {},
   "outputs": [
    {
     "name": "stdout",
     "output_type": "stream",
     "text": [
      "---Node 1---\n",
      "---Node 2---\n",
      "---Node 3---\n"
     ]
    },
    {
     "data": {
      "text/plain": [
       "{'foo': [1, 2, 3, 3]}"
      ]
     },
     "execution_count": 53,
     "metadata": {},
     "output_type": "execute_result"
    }
   ],
   "source": [
    "graph.invoke({\"foo\" : [1]})"
   ]
  },
  {
   "cell_type": "markdown",
   "id": "b3716869",
   "metadata": {},
   "source": [
    "Combining reducers and memory allows us to form ever longer chains, but we need to manage these to avoid token usage and therefore latency and cost to grow beyond a reasonable point.\n",
    "## Messages"
   ]
  },
  {
   "cell_type": "code",
   "execution_count": 54,
   "id": "83a892bb",
   "metadata": {},
   "outputs": [],
   "source": [
    "from typing import Annotated\n",
    "from langgraph.graph import MessagesState\n",
    "from langchain_core.messages import AnyMessage\n",
    "from langgraph.graph.message import add_messages\n",
    "\n",
    "# Define a custom TypedDict that includes a list of messages with add_messages reducer\n",
    "class CustomMessagesState(TypedDict):\n",
    "    messages: Annotated[list[AnyMessage], add_messages]\n",
    "    added_key_1: str\n",
    "    added_key_2: str\n",
    "    # etc\n",
    "\n",
    "# Use MessagesState, which includes the messages key with add_messages reducer\n",
    "class ExtendedMessagesState(MessagesState):\n",
    "    # Add any keys needed beyond messages, which is pre-built \n",
    "    added_key_1: str\n",
    "    added_key_2: str\n",
    "    # etc"
   ]
  },
  {
   "cell_type": "code",
   "execution_count": 55,
   "id": "750199ab",
   "metadata": {},
   "outputs": [
    {
     "data": {
      "text/plain": [
       "[AIMessage(content='Hello! How can I assist you?', additional_kwargs={}, response_metadata={}, name='Model', id='1d7c81fd-b581-4ea9-b5e2-b000396621ae'),\n",
       " HumanMessage(content=\"I'm looking for information on marine biology.\", additional_kwargs={}, response_metadata={}, name='Lance', id='37f3a810-0f22-4b98-8745-7dbf5702fa89'),\n",
       " AIMessage(content='Sure, I can help with that. What specifically are you interested in?', additional_kwargs={}, response_metadata={}, name='Model', id='36489929-0aeb-4e86-bf8c-970600f7c09c')]"
      ]
     },
     "execution_count": 55,
     "metadata": {},
     "output_type": "execute_result"
    }
   ],
   "source": [
    "from langgraph.graph.message import add_messages\n",
    "from langchain_core.messages import AIMessage, HumanMessage\n",
    "\n",
    "# Initial state\n",
    "initial_messages = [AIMessage(content=\"Hello! How can I assist you?\", name=\"Model\"),\n",
    "                    HumanMessage(content=\"I'm looking for information on marine biology.\", name=\"Lance\")\n",
    "                   ]\n",
    "\n",
    "# New message to add\n",
    "new_message = AIMessage(content=\"Sure, I can help with that. What specifically are you interested in?\", name=\"Model\")\n",
    "\n",
    "# Test\n",
    "add_messages(initial_messages , new_message)"
   ]
  },
  {
   "cell_type": "markdown",
   "id": "9039b4ed",
   "metadata": {},
   "source": [
    "So we can see that `add_messages` allows us to append messages to the `messages` key in our state.\n",
    "\n",
    "### Re-writing\n",
    "\n",
    "Let's show some useful tricks when working with the `add_messages` reducer.\n",
    "\n",
    "If we pass a message with the same ID as an existing one in our `messages` list, it will get overwritten!"
   ]
  },
  {
   "cell_type": "code",
   "execution_count": 56,
   "id": "be945550",
   "metadata": {},
   "outputs": [
    {
     "data": {
      "text/plain": [
       "[AIMessage(content='Hello! How can I assist you?', additional_kwargs={}, response_metadata={}, name='Model', id='1'),\n",
       " HumanMessage(content=\"I'm looking for information on whales, specifically\", additional_kwargs={}, response_metadata={}, name='Lance', id='2')]"
      ]
     },
     "execution_count": 56,
     "metadata": {},
     "output_type": "execute_result"
    }
   ],
   "source": [
    "# Initial state\n",
    "initial_messages = [AIMessage(content=\"Hello! How can I assist you?\", name=\"Model\", id=\"1\"),\n",
    "                    HumanMessage(content=\"I'm looking for information on marine biology.\", name=\"Lance\", id=\"2\")\n",
    "                   ]\n",
    "\n",
    "# New message to add\n",
    "new_message = HumanMessage(content=\"I'm looking for information on whales, specifically\", name=\"Lance\", id=\"2\")\n",
    "\n",
    "# Test\n",
    "add_messages(initial_messages , new_message)"
   ]
  },
  {
   "cell_type": "markdown",
   "id": "b584b505",
   "metadata": {},
   "source": [
    "### Removal\n",
    "\n",
    "`add_messages` also [enables message removal](https://langchain-ai.github.io/langgraph/how-tos/memory/delete-messages/). \n",
    "\n",
    "For this, we simply use [RemoveMessage](https://api.python.langchain.com/en/latest/messages/langchain_core.messages.modifier.RemoveMessage.html) from `langchain_core`."
   ]
  },
  {
   "cell_type": "code",
   "execution_count": 57,
   "id": "2ec3adc3",
   "metadata": {},
   "outputs": [
    {
     "name": "stdout",
     "output_type": "stream",
     "text": [
      "[RemoveMessage(content='', additional_kwargs={}, response_metadata={}, id='1'), RemoveMessage(content='', additional_kwargs={}, response_metadata={}, id='2')]\n"
     ]
    }
   ],
   "source": [
    "from langchain_core.messages import RemoveMessage\n",
    "\n",
    "# Message list\n",
    "messages = [AIMessage(\"Hi.\", name=\"Bot\", id=\"1\")]\n",
    "messages.append(HumanMessage(\"Hi.\", name=\"Lance\", id=\"2\"))\n",
    "messages.append(AIMessage(\"So you said you were researching ocean mammals?\", name=\"Bot\", id=\"3\"))\n",
    "messages.append(HumanMessage(\"Yes, I know about whales. But what others should I learn about?\", name=\"Lance\", id=\"4\"))\n",
    "\n",
    "# Isolate messages to delete\n",
    "delete_messages = [RemoveMessage(id=m.id) for m in messages[:-2]]\n",
    "print(delete_messages)"
   ]
  },
  {
   "cell_type": "code",
   "execution_count": 58,
   "id": "fcb3c34b",
   "metadata": {},
   "outputs": [
    {
     "data": {
      "text/plain": [
       "[AIMessage(content='So you said you were researching ocean mammals?', additional_kwargs={}, response_metadata={}, name='Bot', id='3'),\n",
       " HumanMessage(content='Yes, I know about whales. But what others should I learn about?', additional_kwargs={}, response_metadata={}, name='Lance', id='4')]"
      ]
     },
     "execution_count": 58,
     "metadata": {},
     "output_type": "execute_result"
    }
   ],
   "source": [
    "add_messages(messages , delete_messages)"
   ]
  },
  {
   "cell_type": "markdown",
   "id": "94682ab8",
   "metadata": {},
   "source": [
    "Now we can apply this to our messages with LLMs. We likely want to limit the length of a message chain to both reduce latency and cost by removing the overall token usage."
   ]
  },
  {
   "cell_type": "code",
   "execution_count": 59,
   "id": "5a1a15c6",
   "metadata": {},
   "outputs": [
    {
     "data": {
      "image/png": "[encoded data removed]",
      "text/plain": [
       "<IPython.core.display.Image object>"
      ]
     },
     "metadata": {},
     "output_type": "display_data"
    }
   ],
   "source": [
    "llm = create_chat_model()\n",
    "\n",
    "from IPython.display import Image, display\n",
    "from langgraph.graph import MessagesState\n",
    "from langgraph.graph import StateGraph, START, END\n",
    "\n",
    "# Node\n",
    "def chat_model_node(state: MessagesState):\n",
    "    return {\"messages\": llm.invoke(state[\"messages\"])}\n",
    "\n",
    "# Build graph\n",
    "builder = StateGraph(MessagesState)\n",
    "builder.add_node(\"chat_model\", chat_model_node)\n",
    "builder.add_edge(START, \"chat_model\")\n",
    "builder.add_edge(\"chat_model\", END)\n",
    "graph = builder.compile()\n",
    "\n",
    "# View\n",
    "display(Image(graph.get_graph().draw_mermaid_png()))"
   ]
  },
  {
   "cell_type": "code",
   "execution_count": 60,
   "id": "29a39b21",
   "metadata": {},
   "outputs": [
    {
     "name": "stdout",
     "output_type": "stream",
     "text": [
      "==================================\u001b[1m Ai Message \u001b[0m==================================\n",
      "Name: Bot\n",
      "\n",
      "Hi.\n",
      "================================\u001b[1m Human Message \u001b[0m=================================\n",
      "Name: Lance\n",
      "\n",
      "Hi.\n",
      "==================================\u001b[1m Ai Message \u001b[0m==================================\n",
      "Name: Bot\n",
      "\n",
      "So you said you were researching ocean mammals?\n",
      "================================\u001b[1m Human Message \u001b[0m=================================\n",
      "Name: Lance\n",
      "\n",
      "Yes, I know about whales. But what others should I learn about?\n",
      "==================================\u001b[1m Ai Message \u001b[0m==================================\n",
      "\n",
      "There are many fascinating ocean mammals beyond whales. Here are a few you might find interesting:\n",
      "\n",
      "1. **Dolphins**: Highly intelligent and social creatures, dolphins are known for their playful behavior and ability to communicate with each other using clicks and whistles.\n",
      "2. **Seals and Sea Lions**: These fin-footed mammals are adapted to life on land and in the water. They're skilled swimmers and can be found in oceans around the world.\n",
      "3. **Walruses**: With their distinctive tusks and blubbery bodies, walruses are well-suited to life in the Arctic and sub-Arctic oceans.\n",
      "4. **Manatees**: Also known as sea cows, manatees are large, gentle creatures that graze on seaweed and seagrass in shallow waters.\n",
      "5. **Dugongs**: Similar to manatees, dugongs are found in warm, shallow waters and feed on seagrass and other marine plants.\n",
      "6. **Otters**: While not exclusively ocean mammals, some species of otters, like the sea otter, are well-adapted to life in the marine environment.\n",
      "7. **Porpoises**: Similar to dolphins, porpoises are small, toothed cetaceans that are found in oceans around the world.\n",
      "\n",
      "These are just a few examples, but there are many more ocean mammals to learn about. Which one of these catches your interest?\n"
     ]
    }
   ],
   "source": [
    "output = graph.invoke({'messages': messages})\n",
    "for m in output['messages']:\n",
    "    m.pretty_print()"
   ]
  },
  {
   "cell_type": "markdown",
   "id": "69181550",
   "metadata": {},
   "source": [
    "### The simplest method of reducing the number of messages sent is just sending k many messages"
   ]
  },
  {
   "cell_type": "code",
   "execution_count": 61,
   "id": "300db21c",
   "metadata": {},
   "outputs": [
    {
     "data": {
      "image/png": "[encoded data removed]",
      "text/plain": [
       "<IPython.core.display.Image object>"
      ]
     },
     "metadata": {},
     "output_type": "display_data"
    }
   ],
   "source": [
    "from langchain_core.messages import RemoveMessage\n",
    "\n",
    "k = -2\n",
    "\n",
    "# Nodes\n",
    "def filter_messages(state: MessagesState):\n",
    "    # Delete all but the 2 most recent messages\n",
    "    delete_messages = [RemoveMessage(id=m.id) for m in state[\"messages\"][:k]]\n",
    "    return {\"messages\": delete_messages}\n",
    "\n",
    "def chat_model_node(state: MessagesState):    \n",
    "    return {\"messages\": [llm.invoke(state[\"messages\"])]}\n",
    "\n",
    "# Build graph\n",
    "builder = StateGraph(MessagesState)\n",
    "builder.add_node(\"filter\", filter_messages)\n",
    "builder.add_node(\"chat_model\", chat_model_node)\n",
    "builder.add_edge(START, \"filter\")\n",
    "builder.add_edge(\"filter\", \"chat_model\")\n",
    "builder.add_edge(\"chat_model\", END)\n",
    "graph = builder.compile()\n",
    "\n",
    "# View\n",
    "display(Image(graph.get_graph().draw_mermaid_png()))"
   ]
  },
  {
   "cell_type": "code",
   "execution_count": 62,
   "id": "43aaf5ca",
   "metadata": {},
   "outputs": [
    {
     "name": "stdout",
     "output_type": "stream",
     "text": [
      "==================================\u001b[1m Ai Message \u001b[0m==================================\n",
      "Name: Bot\n",
      "\n",
      "So you said you were researching ocean mammals?\n",
      "================================\u001b[1m Human Message \u001b[0m=================================\n",
      "Name: Lance\n",
      "\n",
      "Yes, I know about whales. But what others should I learn about?\n",
      "==================================\u001b[1m Ai Message \u001b[0m==================================\n",
      "\n",
      "There are many fascinating ocean mammals beyond whales. Here are a few you might find interesting:\n",
      "\n",
      "1. **Dolphins**: Highly intelligent and social creatures, dolphins are known for their playful nature and ability to communicate with each other using clicks and whistles.\n",
      "2. **Seals and Sea Lions**: These fin-footed mammals are adapted to life in the water, with flippers and a streamlined body. They're found in oceans around the world and are known for their agility and playful behavior.\n",
      "3. **Walruses**: With their distinctive tusks and blubbery bodies, walruses are well-suited to life in the Arctic and sub-Arctic oceans. They're skilled divers and can be found in large herds.\n",
      "4. **Manatees**: Also known as sea cows, manatees are large, gentle creatures that graze on seaweed and seagrass in shallow waters. They're found in warm, coastal waters around the world.\n",
      "5. **Dugongs**: Similar to manatees, dugongs are large, herbivorous mammals that live in shallow waters in the Pacific and Indian Oceans. They're known for their distinctive snout and ability to eat large amounts of seaweed.\n",
      "6. **Otters**: While not exclusively ocean mammals, sea otters are found in coastal waters and are known for their playful, curious nature. They're skilled swimmers and use tools to crack open shells and eat their prey.\n",
      "7. **Porpoises**: Similar to dolphins, porpoises are small, toothed cetaceans that are found in oceans around the world. They're shy and elusive, but can be seen in small groups in certain areas.\n",
      "\n",
      "These are just a few examples of the many ocean mammals that exist. Each has its own unique characteristics, habits, and habitats, and there's always more to learn about these fascinating creatures.\n",
      "\n",
      "Is there a particular aspect of ocean mammals you'd like to learn more about (e.g. their behavior, habitats, conservation status)?\n"
     ]
    }
   ],
   "source": [
    "# Message list with a preamble\n",
    "messages = [AIMessage(\"Hi.\", name=\"Bot\", id=\"1\")]\n",
    "messages.append(HumanMessage(\"Hi.\", name=\"Lance\", id=\"2\"))\n",
    "messages.append(AIMessage(\"So you said you were researching ocean mammals?\", name=\"Bot\", id=\"3\"))\n",
    "messages.append(HumanMessage(\"Yes, I know about whales. But what others should I learn about?\", name=\"Lance\", id=\"4\"))\n",
    "\n",
    "# Invoke\n",
    "output = graph.invoke({'messages': messages})\n",
    "for m in output['messages']:\n",
    "    m.pretty_print()"
   ]
  },
  {
   "cell_type": "code",
   "execution_count": 63,
   "id": "e49a7c8c",
   "metadata": {},
   "outputs": [
    {
     "name": "stdout",
     "output_type": "stream",
     "text": [
      "==================================\u001b[1m Ai Message \u001b[0m==================================\n",
      "Name: Bot\n",
      "\n",
      "Hi.\n",
      "================================\u001b[1m Human Message \u001b[0m=================================\n",
      "Name: Lance\n",
      "\n",
      "Hi.\n",
      "==================================\u001b[1m Ai Message \u001b[0m==================================\n",
      "Name: Bot\n",
      "\n",
      "So you said you were researching ocean mammals?\n",
      "================================\u001b[1m Human Message \u001b[0m=================================\n",
      "Name: Lance\n",
      "\n",
      "Yes, I know about whales. But what others should I learn about?\n",
      "==================================\u001b[1m Ai Message \u001b[0m==================================\n",
      "\n",
      "There are many fascinating ocean mammals beyond whales. Here are a few you might find interesting:\n",
      "\n",
      "1. **Dolphins**: Highly intelligent and social creatures, dolphins are known for their playful nature and ability to communicate with each other using clicks and whistles.\n",
      "2. **Seals and Sea Lions**: These fin-footed mammals are adapted to life in the water, with flippers and a streamlined body. They're found in oceans around the world and are known for their agility and playful behavior.\n",
      "3. **Walruses**: With their distinctive tusks and blubbery bodies, walruses are well-suited to life in the Arctic and sub-Arctic oceans. They're skilled divers and can be found in large herds.\n",
      "4. **Manatees**: Also known as sea cows, manatees are large, gentle creatures that graze on seaweed and seagrass in shallow waters. They're found in warm, coastal waters around the world.\n",
      "5. **Dugongs**: Similar to manatees, dugongs are large, herbivorous mammals that live in shallow waters in the Pacific and Indian Oceans. They're known for their distinctive snout and ability to eat large amounts of seaweed.\n",
      "6. **Otters**: While not exclusively ocean mammals, sea otters are found in coastal waters and are known for their playful, curious nature. They're skilled swimmers and use tools to crack open shells and eat their prey.\n",
      "7. **Porpoises**: Similar to dolphins, porpoises are small, toothed cetaceans that are found in oceans around the world. They're shy and elusive, but can be seen in small groups in certain areas.\n",
      "\n",
      "These are just a few examples of the many ocean mammals that exist. Each has its own unique characteristics, habits, and habitats, and there's always more to learn about these fascinating creatures.\n",
      "\n",
      "Is there a particular aspect of ocean mammals you'd like to learn more about (e.g. their behavior, habitats, conservation status)?\n",
      "================================\u001b[1m Human Message \u001b[0m=================================\n",
      "Name: Lance\n",
      "\n",
      "Tell me more about Narwhals!\n"
     ]
    }
   ],
   "source": [
    "messages.append(output['messages'][-1])\n",
    "messages.append(HumanMessage(f\"Tell me more about Narwhals!\", name=\"Lance\"))\n",
    "for m in messages:\n",
    "    m.pretty_print()"
   ]
  },
  {
   "cell_type": "code",
   "execution_count": 64,
   "id": "b98c0ffb",
   "metadata": {},
   "outputs": [
    {
     "name": "stdout",
     "output_type": "stream",
     "text": [
      "==================================\u001b[1m Ai Message \u001b[0m==================================\n",
      "\n",
      "There are many fascinating ocean mammals beyond whales. Here are a few you might find interesting:\n",
      "\n",
      "1. **Dolphins**: Highly intelligent and social creatures, dolphins are known for their playful nature and ability to communicate with each other using clicks and whistles.\n",
      "2. **Seals and Sea Lions**: These fin-footed mammals are adapted to life in the water, with flippers and a streamlined body. They're found in oceans around the world and are known for their agility and playful behavior.\n",
      "3. **Walruses**: With their distinctive tusks and blubbery bodies, walruses are well-suited to life in the Arctic and sub-Arctic oceans. They're skilled divers and can be found in large herds.\n",
      "4. **Manatees**: Also known as sea cows, manatees are large, gentle creatures that graze on seaweed and seagrass in shallow waters. They're found in warm, coastal waters around the world.\n",
      "5. **Dugongs**: Similar to manatees, dugongs are large, herbivorous mammals that live in shallow waters in the Pacific and Indian Oceans. They're known for their distinctive snout and ability to eat large amounts of seaweed.\n",
      "6. **Otters**: While not exclusively ocean mammals, sea otters are found in coastal waters and are known for their playful, curious nature. They're skilled swimmers and use tools to crack open shells and eat their prey.\n",
      "7. **Porpoises**: Similar to dolphins, porpoises are small, toothed cetaceans that are found in oceans around the world. They're shy and elusive, but can be seen in small groups in certain areas.\n",
      "\n",
      "These are just a few examples of the many ocean mammals that exist. Each has its own unique characteristics, habits, and habitats, and there's always more to learn about these fascinating creatures.\n",
      "\n",
      "Is there a particular aspect of ocean mammals you'd like to learn more about (e.g. their behavior, habitats, conservation status)?\n",
      "================================\u001b[1m Human Message \u001b[0m=================================\n",
      "Name: Lance\n",
      "\n",
      "Tell me more about Narwhals!\n",
      "==================================\u001b[1m Ai Message \u001b[0m==================================\n",
      "\n",
      "Narwhals are indeed one of the most fascinating and unique creatures in the ocean. Here are some interesting facts about these \"unicorns of the sea\":\n",
      "\n",
      "**What is a Narwhal?**\n",
      "A narwhal (Monodon monoceros) is a type of whale that belongs to the family Monodontidae. They are closely related to belugas and are found in the Arctic waters of Canada, Greenland, and Russia.\n",
      "\n",
      "**The Famous Tusk**\n",
      "Narwhals are known for their distinctive tusk, which is actually a modified tooth that can grow up to 10 feet (3 meters) long. The tusk is usually found on male narwhals, but some females may also have a smaller tusk. The tusk is spirally twisted and can be up to 1/3 of the narwhal's body length. Scientists believe that the tusk may be used for:\n",
      "\n",
      "* Sensing the environment: The tusk is highly sensitive and may help narwhals detect changes in their surroundings, such as the presence of prey or predators.\n",
      "* Attracting mates: The tusk may play a role in mating and social behavior, with males using their tusks to attract females or establish dominance.\n",
      "* Breaking ice: Narwhals may use their tusks to break through ice and create breathing holes in the frozen Arctic waters.\n",
      "\n",
      "**Habitat and Behavior**\n",
      "Narwhals live in the Arctic waters, where they feed on arctic cod, shrimp, and other marine animals. They are skilled divers and can dive to depths of up to 1,500 meters (4,900 feet) in search of food. Narwhals are social creatures and are often found in small groups, called \"pods\".\n",
      "\n",
      "**Conservation Status**\n",
      "Narwhals are listed as \"Vulnerable\" on the IUCN Red List, due to climate change, habitat loss, and hunting. The Arctic ice is melting at an alarming rate, which affects the narwhals' habitat and food supply. Additionally, narwhals are hunted by Inuit communities for their meat, skin, and tusks.\n",
      "\n",
      "**Interesting Facts**\n",
      "\n",
      "* Narwhals can live up to 50 years in the wild.\n",
      "* They are one of the most elusive and difficult-to-study whales, due to their remote and icy habitat.\n",
      "* Narwhals have a unique way of communicating, using a series of clicks, whistles, and body language.\n",
      "* They are able to slow down their heart rate and reduce their metabolism to conserve energy in cold water.\n",
      "\n",
      "**Mythology and Cultural Significance**\n",
      "Narwhals have been a source of fascination and mythology for centuries. In medieval times, narwhal tusks were believed to be the horns of unicorns, and were highly valued for their supposed magical powers. In Inuit culture, narwhals are considered a symbol of good luck and prosperity.\n",
      "\n",
      "Overall, narwhals are an fascinating and enigmatic creature, with many secrets still waiting to be uncovered. Their unique tusk and elusive nature have captivated humans for centuries, and continue to inspire scientific research and conservation efforts.\n",
      "\n",
      "Would you like to know more about narwhal conservation or their cultural significance?\n"
     ]
    }
   ],
   "source": [
    "# Invoke, using message filtering\n",
    "output = graph.invoke({'messages': messages})\n",
    "for m in output['messages']:\n",
    "    m.pretty_print()"
   ]
  },
  {
   "cell_type": "markdown",
   "id": "264da04f",
   "metadata": {},
   "source": [
    "#### Summary \n",
    " \n",
    "Just trimming our conversation might not always be a great idea therefore we can use an LLM to summarize our conversation and reduce token usage that way"
   ]
  },
  {
   "cell_type": "code",
   "execution_count": 65,
   "id": "e9e2b180",
   "metadata": {},
   "outputs": [],
   "source": [
    "from langgraph.graph import MessagesState\n",
    "class State(MessagesState):\n",
    "    summary: str\n",
    "    \n",
    "from langchain_core.messages import SystemMessage, HumanMessage, RemoveMessage\n",
    "\n",
    "# Define the logic to call the model\n",
    "def call_model(state: State):\n",
    "    \n",
    "    # Get summary if it exists\n",
    "    summary = state.get(\"summary\", \"\")\n",
    "\n",
    "    # If there is summary, then we add it\n",
    "    if summary:\n",
    "        \n",
    "        # Add summary to system message\n",
    "        system_message = f\"Summary of conversation earlier: {summary}\"\n",
    "\n",
    "        # Append summary to any newer messages\n",
    "        messages = [SystemMessage(content=system_message)] + state[\"messages\"]\n",
    "    \n",
    "    else:\n",
    "        messages = state[\"messages\"]\n",
    "    \n",
    "    response = llm.invoke(messages)\n",
    "    return {\"messages\": response}"
   ]
  },
  {
   "cell_type": "markdown",
   "id": "3a0fdf92",
   "metadata": {},
   "source": [
    "We'll define a node to produce a summary.\n",
    "\n",
    "Note, here we'll use `RemoveMessage` to filter our state after we've produced the summary."
   ]
  },
  {
   "cell_type": "code",
   "execution_count": 66,
   "id": "373f232a",
   "metadata": {},
   "outputs": [],
   "source": [
    "def summarize_conversation(state: State):\n",
    "    \n",
    "    # First, we get any existing summary\n",
    "    summary = state.get(\"summary\", \"\")\n",
    "\n",
    "    # Create our summarization prompt \n",
    "    if summary:\n",
    "        \n",
    "        # A summary already exists\n",
    "        summary_message = (\n",
    "            f\"This is summary of the conversation to date: {summary}\\n\\n\"\n",
    "            \"Extend the summary by taking into account the new messages above:\"\n",
    "        )\n",
    "        \n",
    "    else:\n",
    "        summary_message = \"Create a summary of the conversation above:\"\n",
    "\n",
    "    # Add prompt to our history\n",
    "    messages = state[\"messages\"] + [HumanMessage(content=summary_message)]\n",
    "    response = llm.invoke(messages)\n",
    "    \n",
    "    # Delete all but the 2 most recent messages\n",
    "    delete_messages = [RemoveMessage(id=m.id) for m in state[\"messages\"][:-2]]\n",
    "    return {\"summary\": response.content, \"messages\": delete_messages}\n",
    "\n",
    "# Determine whether to end or summarize the conversation\n",
    "def should_continue(state: State):\n",
    "    \n",
    "    \"\"\"Return the next node to execute.\"\"\"\n",
    "    \n",
    "    messages = state[\"messages\"]\n",
    "    \n",
    "    # If there are more than six messages, then we summarize the conversation\n",
    "    if len(messages) > 6:\n",
    "        return \"summarize_conversation\"\n",
    "    \n",
    "    # Otherwise we can just end\n",
    "    return END"
   ]
  },
  {
   "cell_type": "markdown",
   "id": "d2814919",
   "metadata": {},
   "source": [
    "We can also add memory to this."
   ]
  },
  {
   "cell_type": "code",
   "execution_count": 67,
   "id": "47cb76be",
   "metadata": {},
   "outputs": [
    {
     "data": {
      "image/png": "[encoded data removed]",
      "text/plain": [
       "<IPython.core.display.Image object>"
      ]
     },
     "metadata": {},
     "output_type": "display_data"
    }
   ],
   "source": [
    "from IPython.display import Image, display\n",
    "from langgraph.checkpoint.memory import MemorySaver\n",
    "from langgraph.graph import StateGraph, START\n",
    "\n",
    "# Define a new graph\n",
    "workflow = StateGraph(State)\n",
    "workflow.add_node(\"conversation\", call_model)\n",
    "workflow.add_node(summarize_conversation)\n",
    "\n",
    "# Set the entrypoint as conversation\n",
    "workflow.add_edge(START, \"conversation\")\n",
    "workflow.add_conditional_edges(\"conversation\", should_continue)\n",
    "workflow.add_edge(\"summarize_conversation\", END)\n",
    "\n",
    "# Compile\n",
    "memory = MemorySaver()\n",
    "graph = workflow.compile(checkpointer=memory)\n",
    "display(Image(graph.get_graph().draw_mermaid_png()))"
   ]
  },
  {
   "cell_type": "code",
   "execution_count": 68,
   "id": "9b318a9f",
   "metadata": {},
   "outputs": [
    {
     "name": "stdout",
     "output_type": "stream",
     "text": [
      "==================================\u001b[1m Ai Message \u001b[0m==================================\n",
      "\n",
      "Hi Lance, it's nice to meet you. Is there something I can help you with or would you like to chat?\n",
      "==================================\u001b[1m Ai Message \u001b[0m==================================\n",
      "\n",
      "Your name is Lance. You told me that when you said \"hi\" earlier.\n",
      "==================================\u001b[1m Ai Message \u001b[0m==================================\n",
      "\n",
      "A 49ers fan, eh? That's great, Lance! The San Francisco 49ers have a rich history in the NFL, with five Super Bowl wins. Who's your favorite player, past or present?\n"
     ]
    }
   ],
   "source": [
    "# Create a thread\n",
    "config = {\"configurable\": {\"thread_id\": \"1\"}}\n",
    "\n",
    "# Start conversation\n",
    "input_message = HumanMessage(content=\"hi! I'm Lance\")\n",
    "output = graph.invoke({\"messages\": [input_message]}, config) \n",
    "for m in output['messages'][-1:]:\n",
    "    m.pretty_print()\n",
    "\n",
    "input_message = HumanMessage(content=\"what's my name?\")\n",
    "output = graph.invoke({\"messages\": [input_message]}, config) \n",
    "for m in output['messages'][-1:]:\n",
    "    m.pretty_print()\n",
    "\n",
    "input_message = HumanMessage(content=\"i like the 49ers!\")\n",
    "output = graph.invoke({\"messages\": [input_message]}, config) \n",
    "for m in output['messages'][-1:]:\n",
    "    m.pretty_print()"
   ]
  },
  {
   "cell_type": "code",
   "execution_count": 69,
   "id": "14c0a752",
   "metadata": {},
   "outputs": [
    {
     "data": {
      "text/plain": [
       "''"
      ]
     },
     "execution_count": 69,
     "metadata": {},
     "output_type": "execute_result"
    }
   ],
   "source": [
    "# At this stage we will not have a summary, as our graph only summarizes after 6 messages\n",
    "graph.get_state(config).values.get(\"summary\",\"\")"
   ]
  },
  {
   "cell_type": "code",
   "execution_count": 70,
   "id": "0c9937e7",
   "metadata": {},
   "outputs": [
    {
     "name": "stdout",
     "output_type": "stream",
     "text": [
      "==================================\u001b[1m Ai Message \u001b[0m==================================\n",
      "\n",
      "Nick Bosa is an excellent choice, Lance. He's a talented defensive end and a key player for the 49ers. As for being the highest-paid defensive player, that's close, but not quite accurate. Nick Bosa did sign a massive contract extension with the 49ers in 2023, but I think Aaron Donald of the Los Angeles Rams currently holds the title of highest-paid defensive player in the NFL. However, Bosa's contract is certainly one of the most lucrative for a defensive player, and he's definitely worth every penny given his impressive performance on the field!\n"
     ]
    }
   ],
   "source": [
    "input_message = HumanMessage(content=\"i like Nick Bosa, isn't he the highest paid defensive player?\")\n",
    "output = graph.invoke({\"messages\": [input_message]}, config) \n",
    "for m in output['messages'][-1:]:\n",
    "    m.pretty_print()"
   ]
  },
  {
   "cell_type": "code",
   "execution_count": 71,
   "id": "dfc07c91",
   "metadata": {},
   "outputs": [
    {
     "data": {
      "text/plain": [
       "\"Here's a summary of our conversation:\\n\\n* You introduced yourself as Lance and we started chatting.\\n* I recalled your name and confirmed it when you asked.\\n* You mentioned that you're a fan of the San Francisco 49ers.\\n* You expressed your admiration for Nick Bosa, a defensive end for the 49ers, and asked if he's the highest-paid defensive player (I clarified that while he has a lucrative contract, Aaron Donald currently holds that title).\""
      ]
     },
     "execution_count": 71,
     "metadata": {},
     "output_type": "execute_result"
    }
   ],
   "source": [
    "graph.get_state(config).values.get(\"summary\",\"\")"
   ]
  },
  {
   "cell_type": "markdown",
   "id": "f0dae1d8",
   "metadata": {},
   "source": [
    "At this stage we have only used in-memory databases. For more persistence, you could also add a more permanent database like SQLite"
   ]
  },
  {
   "cell_type": "markdown",
   "id": "c5aadd9c",
   "metadata": {},
   "source": [
    "## Streaming tokens\n",
    "\n",
    "We often want to stream more than graph state.\n",
    "\n",
    "In particular, with chat model calls it is common to stream the tokens as they are generated.\n",
    "\n",
    "We can do this [using the `.astream_events` method](https://langchain-ai.github.io/langgraph/how-tos/streaming-from-final-node/#stream-outputs-from-the-final-node), which streams back events as they happen inside nodes!\n",
    "\n",
    "Each event is a dict with a few keys:\n",
    " \n",
    "* `event`: This is the type of event that is being emitted. \n",
    "* `name`: This is the name of event.\n",
    "* `data`: This is the data associated with the event.\n",
    "* `metadata`: Contains`langgraph_node`, the node emitting the event.\n",
    "\n",
    "Let's have a look."
   ]
  },
  {
   "cell_type": "code",
   "execution_count": 5,
   "id": "8d1f23eb",
   "metadata": {},
   "outputs": [
    {
     "ename": "NameError",
     "evalue": "name 'graph' is not defined",
     "output_type": "error",
     "traceback": [
      "\u001b[31m---------------------------------------------------------------------------\u001b[39m",
      "\u001b[31mNameError\u001b[39m                                 Traceback (most recent call last)",
      "\u001b[36mCell\u001b[39m\u001b[36m \u001b[39m\u001b[32mIn[5]\u001b[39m\u001b[32m, line 4\u001b[39m\n\u001b[32m      2\u001b[39m config = {\u001b[33m\"\u001b[39m\u001b[33mconfigurable\u001b[39m\u001b[33m\"\u001b[39m: {\u001b[33m\"\u001b[39m\u001b[33mthread_id\u001b[39m\u001b[33m\"\u001b[39m: \u001b[33m\"\u001b[39m\u001b[33m4\u001b[39m\u001b[33m\"\u001b[39m}}\n\u001b[32m      3\u001b[39m input_message = HumanMessage(content=\u001b[33m\"\u001b[39m\u001b[33mWhat is the capitol of germany? Tell me its history\u001b[39m\u001b[33m\"\u001b[39m)\n\u001b[32m----> \u001b[39m\u001b[32m4\u001b[39m \u001b[38;5;28;01masync\u001b[39;00m \u001b[38;5;28;01mfor\u001b[39;00m event \u001b[38;5;129;01min\u001b[39;00m \u001b[43mgraph\u001b[49m.astream_events({\u001b[33m\"\u001b[39m\u001b[33mmessages\u001b[39m\u001b[33m\"\u001b[39m: [input_message]}, config, version=\u001b[33m\"\u001b[39m\u001b[33mv2\u001b[39m\u001b[33m\"\u001b[39m):\n\u001b[32m      5\u001b[39m     \u001b[38;5;66;03m# Get chat model tokens from a particular node \u001b[39;00m\n\u001b[32m      6\u001b[39m     \u001b[38;5;28;01mif\u001b[39;00m event[\u001b[33m\"\u001b[39m\u001b[33mevent\u001b[39m\u001b[33m\"\u001b[39m] == \u001b[33m\"\u001b[39m\u001b[33mon_chat_model_stream\u001b[39m\u001b[33m\"\u001b[39m \u001b[38;5;129;01mand\u001b[39;00m event[\u001b[33m'\u001b[39m\u001b[33mmetadata\u001b[39m\u001b[33m'\u001b[39m].get(\u001b[33m'\u001b[39m\u001b[33mlanggraph_node\u001b[39m\u001b[33m'\u001b[39m,\u001b[33m'\u001b[39m\u001b[33m'\u001b[39m) == node_to_stream:\n\u001b[32m      7\u001b[39m         \u001b[38;5;28mprint\u001b[39m(event[\u001b[33m\"\u001b[39m\u001b[33mdata\u001b[39m\u001b[33m\"\u001b[39m].get(\u001b[33m\"\u001b[39m\u001b[33mchunk\u001b[39m\u001b[33m\"\u001b[39m).content, end=\u001b[33m\"\u001b[39m\u001b[33m\"\u001b[39m)\n",
      "\u001b[31mNameError\u001b[39m: name 'graph' is not defined"
     ]
    }
   ],
   "source": [
    "node_to_stream = 'conversation'\n",
    "config = {\"configurable\": {\"thread_id\": \"4\"}}\n",
    "input_message = HumanMessage(content=\"What is the capitol of germany? Tell me its history\")\n",
    "async for event in graph.astream_events({\"messages\": [input_message]}, config, version=\"v2\"):\n",
    "    # Get chat model tokens from a particular node \n",
    "    if event[\"event\"] == \"on_chat_model_stream\" and event['metadata'].get('langgraph_node','') == node_to_stream:\n",
    "        print(event[\"data\"].get(\"chunk\").content, end=\"\")"
   ]
  },
  {
   "cell_type": "markdown",
   "id": "9cbba59d",
   "metadata": {},
   "source": [
    "## Human in the Loop\n",
    " \n",
    "In many cases we likely don't want the agent to be able to perform an action without a user having checked the action plan beforehand. Think of terminal commands, customer service emails etc. In these cases we want to make sure that, for example, the agent did actually answer the question the customer asked in their email or that the terminal command the agent wants to run is actually safe to run and does not have any unwanted side effects."
   ]
  },
  {
   "cell_type": "code",
   "execution_count": 6,
   "id": "43cf1fd9",
   "metadata": {},
   "outputs": [
    {
     "ename": "NameError",
     "evalue": "name 'graph' is not defined",
     "output_type": "error",
     "traceback": [
      "\u001b[31m---------------------------------------------------------------------------\u001b[39m",
      "\u001b[31mNameError\u001b[39m                                 Traceback (most recent call last)",
      "\u001b[36mCell\u001b[39m\u001b[36m \u001b[39m\u001b[32mIn[6]\u001b[39m\u001b[32m, line 8\u001b[39m\n\u001b[32m      5\u001b[39m thread = {\u001b[33m\"\u001b[39m\u001b[33mconfigurable\u001b[39m\u001b[33m\"\u001b[39m: {\u001b[33m\"\u001b[39m\u001b[33mthread_id\u001b[39m\u001b[33m\"\u001b[39m: \u001b[33m\"\u001b[39m\u001b[33m3\u001b[39m\u001b[33m\"\u001b[39m}}\n\u001b[32m      7\u001b[39m \u001b[38;5;66;03m# Run the graph until the first interruption\u001b[39;00m\n\u001b[32m----> \u001b[39m\u001b[32m8\u001b[39m \u001b[38;5;28;01mfor\u001b[39;00m event \u001b[38;5;129;01min\u001b[39;00m \u001b[43mgraph\u001b[49m.stream(initial_input, thread, stream_mode=\u001b[33m\"\u001b[39m\u001b[33mvalues\u001b[39m\u001b[33m\"\u001b[39m):\n\u001b[32m      9\u001b[39m     event[\u001b[33m'\u001b[39m\u001b[33mmessages\u001b[39m\u001b[33m'\u001b[39m][-\u001b[32m1\u001b[39m].pretty_print()\n\u001b[32m     11\u001b[39m \u001b[38;5;66;03m# Get user feedback\u001b[39;00m\n",
      "\u001b[31mNameError\u001b[39m: name 'graph' is not defined"
     ]
    }
   ],
   "source": [
    "# Input\n",
    "initial_input = {\"messages\": HumanMessage(content=\"Multiply 2 and 3\")}\n",
    "\n",
    "# Thread\n",
    "thread = {\"configurable\": {\"thread_id\": \"3\"}}\n",
    "\n",
    "# Run the graph until the first interruption\n",
    "for event in graph.stream(initial_input, thread, stream_mode=\"values\"):\n",
    "    event['messages'][-1].pretty_print()\n",
    "\n",
    "# Get user feedback\n",
    "user_approval = input(\"Do you want to call the tool? (yes/no): \")\n",
    "\n",
    "# Check approval\n",
    "if user_approval.lower() == \"yes\":\n",
    "    \n",
    "    # If approved, continue the graph execution\n",
    "    for event in graph.stream(None, thread, stream_mode=\"values\"):\n",
    "        event['messages'][-1].pretty_print()\n",
    "        \n",
    "else:\n",
    "    print(\"Operation cancelled by user.\")"
   ]
  },
  {
   "cell_type": "markdown",
   "id": "e701c04b",
   "metadata": {},
   "source": [
    "### Dummy Node\n",
    " \n",
    "Another way we can quite easily add human feedback to our graph is by adding a node that takes in human input and injects that input into the state as if it were a regular node."
   ]
  },
  {
   "cell_type": "code",
   "execution_count": 76,
   "id": "62e7cb40",
   "metadata": {},
   "outputs": [],
   "source": [
    "def multiply(a: int, b: int) -> int:\n",
    "    \"\"\"Multiply a and b.\n",
    "\n",
    "    Args:\n",
    "        a: first int\n",
    "        b: second int\n",
    "    \"\"\"\n",
    "    return a * b\n",
    "\n",
    "def add(a: int, b: int) -> int:\n",
    "    \"\"\"Adds a and b.\n",
    "\n",
    "    Args:\n",
    "        a: first int\n",
    "        b: second int\n",
    "    \"\"\"\n",
    "    return a + b\n",
    "\n",
    "def divide(a: int, b: int) -> float:\n",
    "    \"\"\"Divide a by b.\n",
    "\n",
    "    Args:\n",
    "        a: first int\n",
    "        b: second int\n",
    "    \"\"\"\n",
    "    return a / b\n",
    "\n",
    "tools = [add, multiply, divide]\n",
    "llm = create_chat_model()\n",
    "llm_with_tools = llm.bind_tools(tools)"
   ]
  },
  {
   "cell_type": "code",
   "execution_count": 77,
   "id": "583178eb",
   "metadata": {},
   "outputs": [
    {
     "data": {
      "image/png": "[encoded data removed]",
      "text/plain": [
       "<IPython.core.display.Image object>"
      ]
     },
     "metadata": {},
     "output_type": "display_data"
    }
   ],
   "source": [
    "# System message\n",
    "sys_msg = SystemMessage(content=\"You are a helpful assistant tasked with performing arithmetic on a set of inputs.\")\n",
    "\n",
    "# no-op node that should be interrupted on\n",
    "def human_feedback(state: MessagesState):\n",
    "    pass\n",
    "\n",
    "# Assistant node\n",
    "def assistant(state: MessagesState):\n",
    "   return {\"messages\": [llm_with_tools.invoke([sys_msg] + state[\"messages\"])]}\n",
    "\n",
    "# Graph\n",
    "builder = StateGraph(MessagesState)\n",
    "\n",
    "# Define nodes: these do the work\n",
    "builder.add_node(\"assistant\", assistant)\n",
    "builder.add_node(\"tools\", ToolNode(tools))\n",
    "builder.add_node(\"human_feedback\", human_feedback)\n",
    "\n",
    "# Define edges: these determine the control flow\n",
    "builder.add_edge(START, \"human_feedback\")\n",
    "builder.add_edge(\"human_feedback\", \"assistant\")\n",
    "builder.add_conditional_edges(\n",
    "    \"assistant\",\n",
    "    # If the latest message (result) from assistant is a tool call -> tools_condition routes to tools\n",
    "    # If the latest message (result) from assistant is a not a tool call -> tools_condition routes to END\n",
    "    tools_condition,\n",
    ")\n",
    "builder.add_edge(\"tools\", \"human_feedback\")\n",
    "\n",
    "memory = MemorySaver()\n",
    "graph = builder.compile(interrupt_before=[\"human_feedback\"], checkpointer=memory)\n",
    "display(Image(graph.get_graph().draw_mermaid_png()))"
   ]
  },
  {
   "cell_type": "markdown",
   "id": "79e1eeb3",
   "metadata": {},
   "source": [
    "We will get feedback from the user.\n",
    "\n",
    "We use `.update_state` to update the state of the graph with the human response we get, as before.\n",
    "\n",
    "We use the `as_node=\"human_feedback\"` parameter to apply this state update as the specified node, `human_feedback`."
   ]
  },
  {
   "cell_type": "code",
   "execution_count": 78,
   "id": "5240b813",
   "metadata": {},
   "outputs": [
    {
     "name": "stdout",
     "output_type": "stream",
     "text": [
      "================================\u001b[1m Human Message \u001b[0m=================================\n",
      "\n",
      "Multiply 2 and 3\n",
      "================================\u001b[1m Human Message \u001b[0m=================================\n",
      "\n",
      "No do 4*5\n",
      "==================================\u001b[1m Ai Message \u001b[0m==================================\n",
      "Tool Calls:\n",
      "  multiply (call_tfge)\n",
      " Call ID: call_tfge\n",
      "  Args:\n",
      "    a: 4\n",
      "    b: 5\n",
      "=================================\u001b[1m Tool Message \u001b[0m=================================\n",
      "Name: multiply\n",
      "\n",
      "20\n"
     ]
    }
   ],
   "source": [
    "# Input\n",
    "initial_input = {\"messages\": \"Multiply 2 and 3\"}\n",
    "\n",
    "# Thread\n",
    "thread = {\"configurable\": {\"thread_id\": \"5\"}}\n",
    "\n",
    "# Run the graph until the first interruption\n",
    "for event in graph.stream(initial_input, thread, stream_mode=\"values\"):\n",
    "    event[\"messages\"][-1].pretty_print()\n",
    "    \n",
    "# Get user input\n",
    "user_input = input(\"Tell me how you want to update the state: \")\n",
    "\n",
    "# We now update the state as if we are the human_feedback node\n",
    "graph.update_state(thread, {\"messages\": user_input}, as_node=\"human_feedback\")\n",
    "\n",
    "# Continue the graph execution\n",
    "for event in graph.stream(None, thread, stream_mode=\"values\"):\n",
    "    event[\"messages\"][-1].pretty_print()"
   ]
  },
  {
   "cell_type": "markdown",
   "id": "a37151c0",
   "metadata": {},
   "source": [
    "# Lets now build a multi Agent Research Assistant\n",
    "\n",
    "## Review\n",
    "\n",
    "We've covered a few major LangGraph themes:\n",
    "\n",
    "* Memory\n",
    "* Human-in-the-loop\n",
    "* Controllability\n",
    "\n",
    "Now, we'll bring these ideas together to tackle one of AI's most popular applications: research automation. \n",
    "\n",
    "Research is often laborious work offloaded to analysts. AI has considerable potential to assist with this.\n",
    "\n",
    "However, research demands customization: raw LLM outputs are often poorly suited for real-world decision-making workflows. \n",
    "\n",
    "Customized, AI-based [research and report generation](https://jxnl.co/writing/2024/06/05/predictions-for-the-future-of-rag/#reports-over-rag) workflows are a promising way to address this.\n",
    "\n",
    "## Goal\n",
    "\n",
    "Our goal is to build a lightweight, multi-agent system around chat models that customizes the research process.\n",
    "\n",
    "`Source Selection` \n",
    "* Users can choose any set of input sources for their research.\n",
    "  \n",
    "`Planning` \n",
    "* Users provide a topic, and the system generates a team of AI analysts, each focusing on one sub-topic.\n",
    "* `Human-in-the-loop` will be used to refine these sub-topics before research begins.\n",
    "  \n",
    "`LLM Utilization`\n",
    "* Each analyst will conduct in-depth interviews with an expert AI using the selected sources.\n",
    "* The interview will be a multi-turn conversation to extract detailed insights as shown in the [STORM](https://github.com/langchain-ai/langgraph/blob/main/examples/storm/storm.ipynb) paper.\n",
    "* These interviews will be captured in a using `sub-graphs` with their internal state. \n",
    "   \n",
    "`Research Process`\n",
    "* Experts will gather information to answer analyst questions in `parallel`.\n",
    "* And all interviews will be conducted simultaneously through `map-reduce`.\n",
    "\n",
    "`Output Format` \n",
    "* The gathered insights from each interview will be synthesized into a final report.\n",
    "* We'll use customizable prompts for the report, allowing for a flexible output format. \n",
    "\n",
    "![Screenshot 2024-08-26 at 7.26.33 PM.png](https://cdn.prod.website-files.com/65b8cd72835ceeacd4449a53/66dbb164d61c93d48e604091_research-assistant1.png)"
   ]
  },
  {
   "cell_type": "markdown",
   "id": "e1c5407a",
   "metadata": {},
   "source": [
    "## Generate Analysts: Human-In-The-Loop\n",
    "\n",
    "Create analysts and review them using human-in-the-loop."
   ]
  },
  {
   "cell_type": "code",
   "execution_count": 103,
   "id": "f4a67d76",
   "metadata": {},
   "outputs": [],
   "source": [
    "# To avoid rate limits we will use OpenAi here\n",
    "from langchain_openai import ChatOpenAI\n",
    "llm = ChatOpenAI(model=\"gpt-4o\", temperature=0) "
   ]
  },
  {
   "cell_type": "code",
   "execution_count": 104,
   "id": "d1fe148e",
   "metadata": {},
   "outputs": [],
   "source": [
    "from typing import List\n",
    "from typing_extensions import TypedDict\n",
    "from pydantic import BaseModel, Field\n",
    "\n",
    "class Analyst(BaseModel):\n",
    "    affiliation: str = Field(\n",
    "        description=\"Primary affiliation of the analyst.\",\n",
    "    )\n",
    "    name: str = Field(\n",
    "        description=\"Name of the analyst.\"\n",
    "    )\n",
    "    role: str = Field(\n",
    "        description=\"Role of the analyst in the context of the topic.\",\n",
    "    )\n",
    "    description: str = Field(\n",
    "        description=\"Description of the analyst focus, concerns, and motives.\",\n",
    "    )\n",
    "    @property\n",
    "    def persona(self) -> str:\n",
    "        return f\"Name: {self.name}\\nRole: {self.role}\\nAffiliation: {self.affiliation}\\nDescription: {self.description}\\n\"\n",
    "\n",
    "class Perspectives(BaseModel):\n",
    "    analysts: List[Analyst] = Field(\n",
    "        description=\"Comprehensive list of analysts with their roles and affiliations.\",\n",
    "    )\n",
    "\n",
    "class GenerateAnalystsState(TypedDict):\n",
    "    topic: str # Research topic\n",
    "    max_analysts: int # Number of analysts\n",
    "    human_analyst_feedback: str # Human feedback\n",
    "    analysts: List[Analyst] # Analyst asking questions"
   ]
  },
  {
   "cell_type": "code",
   "execution_count": 105,
   "id": "db558215",
   "metadata": {},
   "outputs": [
    {
     "data": {
      "image/png": "[encoded data removed]",
      "text/plain": [
       "<IPython.core.display.Image object>"
      ]
     },
     "metadata": {},
     "output_type": "display_data"
    }
   ],
   "source": [
    "from IPython.display import Image, display\n",
    "from langgraph.graph import START, END, StateGraph\n",
    "from langgraph.checkpoint.memory import MemorySaver\n",
    "from langchain_core.messages import AIMessage, HumanMessage, SystemMessage\n",
    "\n",
    "analyst_instructions=\"\"\"You are tasked with creating a set of AI analyst personas. Follow these instructions carefully:\n",
    "\n",
    "1. First, review the research topic:\n",
    "{topic}\n",
    "        \n",
    "2. Examine any editorial feedback that has been optionally provided to guide creation of the analysts: \n",
    "        \n",
    "{human_analyst_feedback}\n",
    "    \n",
    "3. Determine the most interesting themes based upon documents and / or feedback above.\n",
    "                    \n",
    "4. Pick the top {max_analysts} themes.\n",
    "\n",
    "5. Assign one analyst to each theme.\"\"\"\n",
    "\n",
    "def create_analysts(state: GenerateAnalystsState):\n",
    "    \n",
    "    \"\"\" Create analysts \"\"\"\n",
    "    \n",
    "    topic=state['topic']\n",
    "    max_analysts=state['max_analysts']\n",
    "    human_analyst_feedback=state.get('human_analyst_feedback', '')\n",
    "        \n",
    "    # Enforce structured output\n",
    "    structured_llm = llm.with_structured_output(Perspectives)\n",
    "\n",
    "    # System message\n",
    "    system_message = analyst_instructions.format(topic=topic,\n",
    "                                                            human_analyst_feedback=human_analyst_feedback, \n",
    "                                                            max_analysts=max_analysts)\n",
    "\n",
    "    # Generate question \n",
    "    analysts = structured_llm.invoke([SystemMessage(content=system_message)]+[HumanMessage(content=\"Generate the set of analysts.\")])\n",
    "    \n",
    "    # Write the list of analysis to state\n",
    "    return {\"analysts\": analysts.analysts}\n",
    "\n",
    "def human_feedback(state: GenerateAnalystsState):\n",
    "    \"\"\" No-op node that should be interrupted on \"\"\"\n",
    "    pass\n",
    "\n",
    "def should_continue(state: GenerateAnalystsState):\n",
    "    \"\"\" Return the next node to execute \"\"\"\n",
    "\n",
    "    # Check if human feedback\n",
    "    human_analyst_feedback=state.get('human_analyst_feedback', None)\n",
    "    if human_analyst_feedback:\n",
    "        return \"create_analysts\"\n",
    "    \n",
    "    # Otherwise end\n",
    "    return END\n",
    "\n",
    "# Add nodes and edges \n",
    "builder = StateGraph(GenerateAnalystsState)\n",
    "builder.add_node(\"create_analysts\", create_analysts)\n",
    "builder.add_node(\"human_feedback\", human_feedback)\n",
    "builder.add_edge(START, \"create_analysts\")\n",
    "builder.add_edge(\"create_analysts\", \"human_feedback\")\n",
    "builder.add_conditional_edges(\"human_feedback\", should_continue, [\"create_analysts\", END])\n",
    "\n",
    "# Compile\n",
    "memory = MemorySaver()\n",
    "graph = builder.compile(interrupt_before=['human_feedback'], checkpointer=memory)\n",
    "\n",
    "# View\n",
    "display(Image(graph.get_graph(xray=1).draw_mermaid_png()))"
   ]
  },
  {
   "cell_type": "code",
   "execution_count": 106,
   "id": "7227afa8",
   "metadata": {},
   "outputs": [
    {
     "name": "stdout",
     "output_type": "stream",
     "text": [
      "Name: Dr. Emily Carter\n",
      "Affiliation: AI Research Institute\n",
      "Role: Generalist Agent Development Specialist\n",
      "Description: Dr. Carter focuses on the development of generalist agents, exploring how these agents can be designed to perform a wide range of tasks across different domains. Her work involves understanding the underlying architectures that enable such versatility and the potential applications of these agents in real-world scenarios.\n",
      "--------------------------------------------------\n",
      "Name: Mr. John Smith\n",
      "Affiliation: Benchmarking Standards Organization\n",
      "Role: Agent Benchmarking Expert\n",
      "Description: Mr. Smith is dedicated to establishing and refining benchmarks for evaluating the performance of generalist agents. He is concerned with creating standardized tests that can accurately measure the capabilities of these agents across various tasks, ensuring that comparisons between different systems are fair and meaningful.\n",
      "--------------------------------------------------\n",
      "Name: Prof. Sarah Lee\n",
      "Affiliation: University of Technology\n",
      "Role: Ethical Implications Analyst\n",
      "Description: Prof. Lee examines the ethical implications of deploying generalist agents in society. Her research addresses concerns about the impact of these agents on employment, privacy, and decision-making processes. She advocates for responsible development and deployment practices to ensure that the benefits of generalist agents are maximized while minimizing potential harms.\n",
      "--------------------------------------------------\n"
     ]
    }
   ],
   "source": [
    "# Input\n",
    "max_analysts = 3 \n",
    "topic = \"Literature Topic: Generalist Agents and Agent Benchmarks\"\n",
    "thread = {\"configurable\": {\"thread_id\": \"4\"}}\n",
    "\n",
    "# Run the graph until the first interruption\n",
    "for event in graph.stream({\"topic\":topic,\"max_analysts\":max_analysts,}, thread, stream_mode=\"values\"):\n",
    "    # Review\n",
    "    analysts = event.get('analysts', '')\n",
    "    if analysts:\n",
    "        for analyst in analysts:\n",
    "            print(f\"Name: {analyst.name}\")\n",
    "            print(f\"Affiliation: {analyst.affiliation}\")\n",
    "            print(f\"Role: {analyst.role}\")\n",
    "            print(f\"Description: {analyst.description}\")\n",
    "            print(\"-\" * 50)  "
   ]
  },
  {
   "cell_type": "code",
   "execution_count": 107,
   "id": "70872065",
   "metadata": {},
   "outputs": [
    {
     "data": {
      "text/plain": [
       "('human_feedback',)"
      ]
     },
     "execution_count": 107,
     "metadata": {},
     "output_type": "execute_result"
    }
   ],
   "source": [
    "# Get state and look at next node\n",
    "state = graph.get_state(thread)\n",
    "state.next"
   ]
  },
  {
   "cell_type": "code",
   "execution_count": 108,
   "id": "0088518a",
   "metadata": {},
   "outputs": [
    {
     "data": {
      "text/plain": [
       "{'configurable': {'thread_id': '4',\n",
       "  'checkpoint_ns': '',\n",
       "  'checkpoint_id': '1f006416-9286-6996-8002-0b3c32bfde72'}}"
      ]
     },
     "execution_count": 108,
     "metadata": {},
     "output_type": "execute_result"
    }
   ],
   "source": [
    "# We now update the state as if we are the human_feedback node\n",
    "graph.update_state(thread, {\"human_analyst_feedback\": \n",
    "                            \"Add in someone from a startup to add an entrepreneur perspective\"}, as_node=\"human_feedback\")"
   ]
  },
  {
   "cell_type": "code",
   "execution_count": 109,
   "id": "f6e0251b",
   "metadata": {},
   "outputs": [
    {
     "name": "stdout",
     "output_type": "stream",
     "text": [
      "Name: Dr. Emily Carter\n",
      "Affiliation: AI Research Institute\n",
      "Role: Generalist Agent Development Specialist\n",
      "Description: Dr. Carter focuses on the development of generalist agents, exploring how these agents can be designed to perform a wide range of tasks across different domains. Her work involves understanding the underlying architectures that enable such versatility and the potential applications of these agents in real-world scenarios.\n",
      "--------------------------------------------------\n",
      "Name: Mr. John Smith\n",
      "Affiliation: Benchmarking Standards Organization\n",
      "Role: Agent Benchmarking Expert\n",
      "Description: Mr. Smith is dedicated to establishing and refining benchmarks for evaluating the performance of generalist agents. He is concerned with creating standardized tests that can accurately measure the capabilities of these agents across various tasks, ensuring that comparisons between different systems are fair and meaningful.\n",
      "--------------------------------------------------\n",
      "Name: Prof. Sarah Lee\n",
      "Affiliation: University of Technology\n",
      "Role: Ethical Implications Analyst\n",
      "Description: Prof. Lee examines the ethical implications of deploying generalist agents in society. Her research addresses concerns about the impact of these agents on employment, privacy, and decision-making processes. She advocates for responsible development and deployment practices to ensure that the benefits of generalist agents are maximized while minimizing potential harms.\n",
      "--------------------------------------------------\n",
      "Name: Dr. Emily Carter\n",
      "Affiliation: OpenAI\n",
      "Role: AI Researcher\n",
      "Description: Dr. Carter focuses on the development and evaluation of generalist agents. She is particularly interested in how these agents can be benchmarked effectively to ensure they perform well across a variety of tasks. Her work involves creating new metrics and testing environments to push the boundaries of what generalist agents can achieve.\n",
      "--------------------------------------------------\n",
      "Name: Professor Alan Nguyen\n",
      "Affiliation: Stanford University\n",
      "Role: Academic Scholar\n",
      "Description: Professor Nguyen's research delves into the theoretical underpinnings of agent benchmarks. He is concerned with the philosophical and ethical implications of creating agents that can perform a wide range of tasks. His work often explores the balance between generalization and specialization in AI systems, and how benchmarks can be designed to reflect real-world complexities.\n",
      "--------------------------------------------------\n",
      "Name: Samantha Lee\n",
      "Affiliation: AI Startup InnovateAI\n",
      "Role: Entrepreneur\n",
      "Description: Samantha Lee is the CEO of InnovateAI, a startup focused on developing practical applications for generalist agents in industry. She is interested in how benchmarks can be used to demonstrate the commercial viability of these agents. Her perspective is driven by the need to translate academic research into market-ready products that can solve real business problems.\n",
      "--------------------------------------------------\n"
     ]
    }
   ],
   "source": [
    "# Continue the graph execution\n",
    "for event in graph.stream(None, thread, stream_mode=\"values\"):\n",
    "    # Review\n",
    "    analysts = event.get('analysts', '')\n",
    "    if analysts:\n",
    "        for analyst in analysts:\n",
    "            print(f\"Name: {analyst.name}\")\n",
    "            print(f\"Affiliation: {analyst.affiliation}\")\n",
    "            print(f\"Role: {analyst.role}\")\n",
    "            print(f\"Description: {analyst.description}\")\n",
    "            print(\"-\" * 50) "
   ]
  },
  {
   "cell_type": "code",
   "execution_count": 110,
   "id": "82458ac2",
   "metadata": {},
   "outputs": [
    {
     "data": {
      "text/plain": [
       "{'configurable': {'thread_id': '4',\n",
       "  'checkpoint_ns': '',\n",
       "  'checkpoint_id': '1f006416-e087-67db-8004-ec63b3389b3e'}}"
      ]
     },
     "execution_count": 110,
     "metadata": {},
     "output_type": "execute_result"
    }
   ],
   "source": [
    "# If we are satisfied, then we simply supply no feedback\n",
    "further_feedack = None\n",
    "graph.update_state(thread, {\"human_analyst_feedback\": \n",
    "                            further_feedack}, as_node=\"human_feedback\")"
   ]
  },
  {
   "cell_type": "code",
   "execution_count": 111,
   "id": "e6f095f4",
   "metadata": {},
   "outputs": [
    {
     "data": {
      "text/plain": [
       "()"
      ]
     },
     "execution_count": 111,
     "metadata": {},
     "output_type": "execute_result"
    }
   ],
   "source": [
    "# Continue the graph execution to end\n",
    "for event in graph.stream(None, thread, stream_mode=\"updates\"):\n",
    "    print(\"--Node--\")\n",
    "    node_name = next(iter(event.keys()))\n",
    "    print(node_name)\n",
    "\n",
    "final_state = graph.get_state(thread)\n",
    "analysts = final_state.values.get('analysts')\n",
    "\n",
    "final_state.next"
   ]
  },
  {
   "cell_type": "code",
   "execution_count": 112,
   "id": "5b581052",
   "metadata": {},
   "outputs": [
    {
     "name": "stdout",
     "output_type": "stream",
     "text": [
      "Name: Dr. Emily Carter\n",
      "Affiliation: OpenAI\n",
      "Role: AI Researcher\n",
      "Description: Dr. Carter focuses on the development and evaluation of generalist agents. She is particularly interested in how these agents can be benchmarked effectively to ensure they perform well across a variety of tasks. Her work involves creating new metrics and testing environments to push the boundaries of what generalist agents can achieve.\n",
      "--------------------------------------------------\n",
      "Name: Professor Alan Nguyen\n",
      "Affiliation: Stanford University\n",
      "Role: Academic Scholar\n",
      "Description: Professor Nguyen's research delves into the theoretical underpinnings of agent benchmarks. He is concerned with the philosophical and ethical implications of creating agents that can perform a wide range of tasks. His work often explores the balance between generalization and specialization in AI systems, and how benchmarks can be designed to reflect real-world complexities.\n",
      "--------------------------------------------------\n",
      "Name: Samantha Lee\n",
      "Affiliation: AI Startup InnovateAI\n",
      "Role: Entrepreneur\n",
      "Description: Samantha Lee is the CEO of InnovateAI, a startup focused on developing practical applications for generalist agents in industry. She is interested in how benchmarks can be used to demonstrate the commercial viability of these agents. Her perspective is driven by the need to translate academic research into market-ready products that can solve real business problems.\n",
      "--------------------------------------------------\n"
     ]
    }
   ],
   "source": [
    "# Lets display our final analyst team\n",
    "for analyst in analysts:\n",
    "    print(f\"Name: {analyst.name}\")\n",
    "    print(f\"Affiliation: {analyst.affiliation}\")\n",
    "    print(f\"Role: {analyst.role}\")\n",
    "    print(f\"Description: {analyst.description}\")\n",
    "    print(\"-\" * 50) "
   ]
  },
  {
   "cell_type": "markdown",
   "id": "f8e27497",
   "metadata": {},
   "source": [
    "## Conduct Interview\n",
    "\n",
    "### Generate Question\n",
    "\n",
    "The analyst will ask questions to the expert."
   ]
  },
  {
   "cell_type": "code",
   "execution_count": 113,
   "id": "624d7dbc",
   "metadata": {},
   "outputs": [],
   "source": [
    "import operator\n",
    "from typing import  Annotated\n",
    "from langgraph.graph import MessagesState\n",
    "\n",
    "class InterviewState(MessagesState):\n",
    "    max_num_turns: int # Number turns of conversation\n",
    "    context: Annotated[list, operator.add] # Source docs\n",
    "    analyst: Analyst # Analyst asking questions\n",
    "    interview: str # Interview transcript\n",
    "    sections: list # Final key we duplicate in outer state for Send() API\n",
    "\n",
    "class SearchQuery(BaseModel):\n",
    "    search_query: str = Field(None, description=\"Search query for retrieval.\")"
   ]
  },
  {
   "cell_type": "code",
   "execution_count": 114,
   "id": "148c1cb2",
   "metadata": {},
   "outputs": [],
   "source": [
    "question_instructions = \"\"\"You are an analyst tasked with interviewing an expert to learn about a specific topic. \n",
    "\n",
    "Your goal is boil down to interesting and specific insights related to your topic.\n",
    "\n",
    "1. Interesting: Insights that people will find surprising or non-obvious.\n",
    "        \n",
    "2. Specific: Insights that avoid generalities and include specific examples from the expert.\n",
    "\n",
    "Here is your topic of focus and set of goals: {goals}\n",
    "        \n",
    "Begin by introducing yourself using a name that fits your persona, and then ask your question.\n",
    "\n",
    "Continue to ask questions to drill down and refine your understanding of the topic.\n",
    "        \n",
    "When you are satisfied with your understanding, complete the interview with: \"Thank you so much for your help!\"\n",
    "\n",
    "Remember to stay in character throughout your response, reflecting the persona and goals provided to you.\"\"\"\n",
    "\n",
    "def generate_question(state: InterviewState):\n",
    "    \"\"\" Node to generate a question \"\"\"\n",
    "\n",
    "    # Get state\n",
    "    analyst = state[\"analyst\"]\n",
    "    messages = state[\"messages\"]\n",
    "\n",
    "    # Generate question \n",
    "    system_message = question_instructions.format(goals=analyst.persona)\n",
    "    question = llm.invoke([SystemMessage(content=system_message)]+messages)\n",
    "        \n",
    "    # Write messages to state\n",
    "    return {\"messages\": [question]}"
   ]
  },
  {
   "cell_type": "markdown",
   "id": "0be3c15e",
   "metadata": {},
   "source": [
    "### Generate Answer: Parallelization\n",
    "\n",
    "The expert will gather information from multiple sources in parallel to answer questions.\n",
    "\n",
    "For example, we can use:\n",
    "\n",
    "* Specific web sites e.g., via [`WebBaseLoader`](https://python.langchain.com/v0.2/docs/integrations/document_loaders/web_base/)\n",
    "* Indexed documents e.g., via [RAG](https://python.langchain.com/v0.2/docs/tutorials/rag/)\n",
    "* Web search\n",
    "* Wikipedia search\n",
    "\n",
    "You can try different web search tools, like [Tavily](https://tavily.com/)."
   ]
  },
  {
   "cell_type": "code",
   "execution_count": 115,
   "id": "227bdcab",
   "metadata": {},
   "outputs": [],
   "source": [
    "# Web search tool\n",
    "from langchain_community.tools.tavily_search import TavilySearchResults\n",
    "\n",
    "\n",
    "tavily_search = TavilySearchResults(\n",
    "    max_results=3\n",
    ")\n",
    "\n",
    "# Wikipedia search tool\n",
    "from langchain_community.document_loaders import WikipediaLoader"
   ]
  },
  {
   "cell_type": "markdown",
   "id": "20dc0dcd",
   "metadata": {},
   "source": [
    "Now, we create nodes to search the web and wikipedia.\n",
    "\n",
    "We'll also create a node to answer analyst questions.\n",
    "\n",
    "Finally, we'll create nodes to save the full interview and to write a summary (\"section\") of the interview."
   ]
  },
  {
   "cell_type": "code",
   "execution_count": 139,
   "id": "5ab90476",
   "metadata": {},
   "outputs": [
    {
     "data": {
      "text/plain": [
       "[{'url': 'https://www.merriam-webster.com/dictionary/agent',\n",
       "  'content': 'agent\\nnoun\\nˈā-jənt \\xa0\\nplural agents\\nSynonyms of agent\\n1\\n: one that acts or exerts power\\n2\\na\\n: something that produces or is capable of producing an effect : an active or efficient cause\\nEducation proved to be an agent of change in the community.\\nb\\n: a chemically, physically, or biologically active principle\\nan oxidizing agent\\n3\\n: a means or instrument by which a guiding intelligence achieves a result\\n4\\n: one who is authorized to act for or in the place of another: such as\\na [...] see also innocent agent\\n3\\na\\n: a person or entity (as an employee or independent contractor) authorized to act on behalf of and under the control of another in dealing with third parties see also agency sense 2, fiduciary relationship, subagent compare fiduciary, principal, servant\\n— apparent agent\\n: an agent acting under an agency by estoppel\\n— bargaining agent\\n: a labor union that represents the employees in a bargaining unit in negotiating with their employer through collective bargaining [...] Share the Definition of agent on Twitter  Twitter\\nKids Definition\\nagent\\nnoun\\nˈā-jənt \\xa0\\n1\\na\\n: something that produces an effect\\na cleansing agent\\nb\\n: a chemically, physically, or biologically active substance\\n2\\n: a person who acts or does business for another\\ngovernment agents\\na real estate agent\\nEtymology\\nMiddle English agent \"one that produces an effect,\" derived from Latin agere \"to drive, act, do\" — related to act, agile\\nMedical Definition\\nagent\\nnoun\\nˈā-jənt \\xa0\\n1'},\n",
       " {'url': 'https://dictionary.cambridge.org/us/dictionary/english/agent',\n",
       "  'content': \"An agent is also someone who works secretly for a government or other organization:\\na secret agent\\nan undercover agent\\nagent noun [C] (CAUSE)\\na person or thing that produces a particular effect or change:\\na cleaning agent\\nAn agent is also a chemical substance, organism, or natural force that produces a particular effect by its action.\\n(Definition of agent from the Cambridge Academic Content Dictionary © Cambridge University Press)\\nagent | Business English\\nagent\\nnoun [ C ] [...] agent\\nnoun [ C ]\\nusYour browser doesn't support HTML5 audio /ˈeɪ.dʒənt/ ukYour browser doesn't support HTML5 audio /ˈeɪ.dʒənt/\\nagent noun [C] (REPRESENTATIVE)\\nAdd to word list Add to word list\\nB2\\na person who acts for or represents another:\\nPlease contact our agent in Spain for further information.\\na person who represents an actor, artist, or writer\\nMore examplesFewer examples [...] ukYour browser doesn't support HTML5 audio /ˈeɪdʒənt/ usYour browser doesn't support HTML5 audio \\nAdd to word list Add to word list\\nCOMMERCE\\na person who is paid to buy or sell products or provide a service for a company, but who is not a regular employee:\\nFollowing the recent insurance scam, legislation is being put in place to ensure all agents protect their customers' best interests.\\nsomeone who represents an actor, musician, etc. in order to find work for them:\"},\n",
       " {'url': 'https://news.microsoft.com/source/features/ai/ai-agents-what-they-are-and-how-theyll-change-the-way-we-work/',\n",
       "  'content': 'What are agents, anyway?\\nAn agent takes the power of generative AI a step further, because instead of just assisting you, agents can work alongside you or even on your behalf. Agents can do a range of things, from responding to questions to more complicated or multistep assignments. What sets them apart from a personal assistant is that they can be tailored to have a particular expertise. [...] Agents are like layers on top of the language models that observe and collect information, provide input to the model and together generate an action plan and communicate that to the user — or even act on their own, if permitted. So both agents and models are equally important pieces of the puzzle, as far as generative AI tools go.\\nAgents will become more useful and able to have more autonomy with innovations in their three necessary elements: memory, entitlements and tools.'}]"
      ]
     },
     "execution_count": 139,
     "metadata": {},
     "output_type": "execute_result"
    }
   ],
   "source": [
    "# Test that tavily is working correctly \n",
    "tavily_search(\"What are agents?\")"
   ]
  },
  {
   "cell_type": "code",
   "execution_count": 117,
   "id": "57fb3946",
   "metadata": {},
   "outputs": [
    {
     "data": {
      "image/png": "[encoded data removed]",
      "text/plain": [
       "<IPython.core.display.Image object>"
      ]
     },
     "metadata": {},
     "output_type": "display_data"
    }
   ],
   "source": [
    "from langchain_core.messages import get_buffer_string\n",
    "\n",
    "# Search query writing\n",
    "search_instructions = SystemMessage(content=f\"\"\"You will be given a conversation between an analyst and an expert. \n",
    "\n",
    "Your goal is to generate a well-structured query for use in retrieval and / or web-search related to the conversation.\n",
    "        \n",
    "First, analyze the full conversation.\n",
    "\n",
    "Pay particular attention to the final question posed by the analyst.\n",
    "\n",
    "Convert this final question into a well-structured web search query\"\"\")\n",
    "\n",
    "def search_web(state: InterviewState):\n",
    "    \n",
    "    \"\"\" Retrieve docs from web search \"\"\"\n",
    "\n",
    "    # Search query\n",
    "    structured_llm = llm.with_structured_output(SearchQuery)\n",
    "    search_query = structured_llm.invoke([search_instructions]+state['messages'])\n",
    "    \n",
    "    # Search\n",
    "    search_docs = tavily_search.invoke(search_query.search_query)\n",
    "\n",
    "     # Format\n",
    "    formatted_search_docs = \"\\n\\n---\\n\\n\".join(\n",
    "        [\n",
    "            f'<Document href=\"{doc[\"url\"]}\"/>\\n{doc[\"content\"]}\\n</Document>'\n",
    "            for doc in search_docs\n",
    "        ]\n",
    "    )\n",
    "\n",
    "    return {\"context\": [formatted_search_docs]} \n",
    "\n",
    "def search_wikipedia(state: InterviewState):\n",
    "    \n",
    "    \"\"\" Retrieve docs from wikipedia \"\"\"\n",
    "\n",
    "    # Search query\n",
    "    structured_llm = llm.with_structured_output(SearchQuery)\n",
    "    search_query = structured_llm.invoke([search_instructions]+state['messages'])\n",
    "    \n",
    "    # Search\n",
    "    search_docs = WikipediaLoader(query=search_query.search_query, \n",
    "                                  load_max_docs=2).load()\n",
    "\n",
    "     # Format\n",
    "    formatted_search_docs = \"\\n\\n---\\n\\n\".join(\n",
    "        [\n",
    "            f'<Document source=\"{doc.metadata[\"source\"]}\" page=\"{doc.metadata.get(\"page\", \"\")}\"/>\\n{doc.page_content}\\n</Document>'\n",
    "            for doc in search_docs\n",
    "        ]\n",
    "    )\n",
    "\n",
    "    return {\"context\": [formatted_search_docs]} \n",
    "\n",
    "answer_instructions = \"\"\"You are an expert being interviewed by an analyst.\n",
    "\n",
    "Here is analyst area of focus: {goals}. \n",
    "        \n",
    "You goal is to answer a question posed by the interviewer.\n",
    "\n",
    "To answer question, use this context:\n",
    "        \n",
    "{context}\n",
    "\n",
    "When answering questions, follow these guidelines:\n",
    "        \n",
    "1. Use only the information provided in the context. \n",
    "        \n",
    "2. Do not introduce external information or make assumptions beyond what is explicitly stated in the context.\n",
    "\n",
    "3. The context contain sources at the topic of each individual document.\n",
    "\n",
    "4. Include these sources your answer next to any relevant statements. For example, for source # 1 use [1]. \n",
    "\n",
    "5. List your sources in order at the bottom of your answer. [1] Source 1, [2] Source 2, etc\n",
    "        \n",
    "6. If the source is: <Document source=\"assistant/docs/llama3_1.pdf\" page=\"7\"/>' then just list: \n",
    "        \n",
    "[1] assistant/docs/llama3_1.pdf, page 7 \n",
    "        \n",
    "And skip the addition of the brackets as well as the Document source preamble in your citation.\"\"\"\n",
    "\n",
    "def generate_answer(state: InterviewState):\n",
    "    \n",
    "    \"\"\" Node to answer a question \"\"\"\n",
    "\n",
    "    # Get state\n",
    "    analyst = state[\"analyst\"]\n",
    "    messages = state[\"messages\"]\n",
    "    context = state[\"context\"]\n",
    "\n",
    "    # Answer question\n",
    "    system_message = answer_instructions.format(goals=analyst.persona, context=context)\n",
    "    answer = llm.invoke([SystemMessage(content=system_message)]+messages)\n",
    "            \n",
    "    # Name the message as coming from the expert\n",
    "    answer.name = \"expert\"\n",
    "    \n",
    "    # Append it to state\n",
    "    return {\"messages\": [answer]}\n",
    "\n",
    "def save_interview(state: InterviewState):\n",
    "    \n",
    "    \"\"\" Save interviews \"\"\"\n",
    "\n",
    "    # Get messages\n",
    "    messages = state[\"messages\"]\n",
    "    \n",
    "    # Convert interview to a string\n",
    "    interview = get_buffer_string(messages)\n",
    "    \n",
    "    # Save to interviews key\n",
    "    return {\"interview\": interview}\n",
    "\n",
    "def route_messages(state: InterviewState, \n",
    "                   name: str = \"expert\"):\n",
    "\n",
    "    \"\"\" Route between question and answer \"\"\"\n",
    "    \n",
    "    # Get messages\n",
    "    messages = state[\"messages\"]\n",
    "    max_num_turns = state.get('max_num_turns',2)\n",
    "\n",
    "    # Check the number of expert answers \n",
    "    num_responses = len(\n",
    "        [m for m in messages if isinstance(m, AIMessage) and m.name == name]\n",
    "    )\n",
    "\n",
    "    # End if expert has answered more than the max turns\n",
    "    if num_responses >= max_num_turns:\n",
    "        return 'save_interview'\n",
    "\n",
    "    # This router is run after each question - answer pair \n",
    "    # Get the last question asked to check if it signals the end of discussion\n",
    "    last_question = messages[-2]\n",
    "    \n",
    "    if \"Thank you so much for your help\" in last_question.content:\n",
    "        return 'save_interview'\n",
    "    return \"ask_question\"\n",
    "\n",
    "section_writer_instructions = \"\"\"You are an expert technical writer. \n",
    "            \n",
    "Your task is to create a short, easily digestible section of a report based on a set of source documents.\n",
    "\n",
    "1. Analyze the content of the source documents: \n",
    "- The name of each source document is at the start of the document, with the <Document tag.\n",
    "        \n",
    "2. Create a report structure using markdown formatting:\n",
    "- Use ## for the section title\n",
    "- Use ### for sub-section headers\n",
    "        \n",
    "3. Write the report following this structure:\n",
    "a. Title (## header)\n",
    "b. Summary (### header)\n",
    "c. Sources (### header)\n",
    "\n",
    "4. Make your title engaging based upon the focus area of the analyst: \n",
    "{focus}\n",
    "\n",
    "5. For the summary section:\n",
    "- Set up summary with general background / context related to the focus area of the analyst\n",
    "- Emphasize what is novel, interesting, or surprising about insights gathered from the interview\n",
    "- Create a numbered list of source documents, as you use them\n",
    "- Do not mention the names of interviewers or experts\n",
    "- Aim for approximately 400 words maximum\n",
    "- Use numbered sources in your report (e.g., [1], [2]) based on information from source documents\n",
    "        \n",
    "6. In the Sources section:\n",
    "- Include all sources used in your report\n",
    "- Provide full links to relevant websites or specific document paths\n",
    "- Separate each source by a newline. Use two spaces at the end of each line to create a newline in Markdown.\n",
    "- It will look like:\n",
    "\n",
    "### Sources\n",
    "[1] Link or Document name\n",
    "[2] Link or Document name\n",
    "\n",
    "7. Be sure to combine sources. For example this is not correct:\n",
    "\n",
    "[3] https://ai.meta.com/blog/meta-llama-3-1/\n",
    "[4] https://ai.meta.com/blog/meta-llama-3-1/\n",
    "\n",
    "There should be no redundant sources. It should simply be:\n",
    "\n",
    "[3] https://ai.meta.com/blog/meta-llama-3-1/\n",
    "        \n",
    "8. Final review:\n",
    "- Ensure the report follows the required structure\n",
    "- Include no preamble before the title of the report\n",
    "- Check that all guidelines have been followed\"\"\"\n",
    "\n",
    "def write_section(state: InterviewState):\n",
    "\n",
    "    \"\"\" Node to answer a question \"\"\"\n",
    "\n",
    "    # Get state\n",
    "    interview = state[\"interview\"]\n",
    "    context = state[\"context\"]\n",
    "    analyst = state[\"analyst\"]\n",
    "   \n",
    "    # Write section using either the gathered source docs from interview (context) or the interview itself (interview)\n",
    "    system_message = section_writer_instructions.format(focus=analyst.description)\n",
    "    section = llm.invoke([SystemMessage(content=system_message)]+[HumanMessage(content=f\"Use this source to write your section: {context}\")]) \n",
    "                \n",
    "    # Append it to state\n",
    "    return {\"sections\": [section.content]}\n",
    "\n",
    "# Add nodes and edges \n",
    "interview_builder = StateGraph(InterviewState)\n",
    "interview_builder.add_node(\"ask_question\", generate_question)\n",
    "interview_builder.add_node(\"search_web\", search_web)\n",
    "interview_builder.add_node(\"search_wikipedia\", search_wikipedia)\n",
    "interview_builder.add_node(\"answer_question\", generate_answer)\n",
    "interview_builder.add_node(\"save_interview\", save_interview)\n",
    "interview_builder.add_node(\"write_section\", write_section)\n",
    "\n",
    "# Flow\n",
    "interview_builder.add_edge(START, \"ask_question\")\n",
    "interview_builder.add_edge(\"ask_question\", \"search_web\")\n",
    "interview_builder.add_edge(\"ask_question\", \"search_wikipedia\")\n",
    "interview_builder.add_edge(\"search_web\", \"answer_question\")\n",
    "interview_builder.add_edge(\"search_wikipedia\", \"answer_question\")\n",
    "interview_builder.add_conditional_edges(\"answer_question\", route_messages,['ask_question','save_interview'])\n",
    "interview_builder.add_edge(\"save_interview\", \"write_section\")\n",
    "interview_builder.add_edge(\"write_section\", END)\n",
    "\n",
    "# Interview \n",
    "memory = MemorySaver()\n",
    "interview_graph = interview_builder.compile(checkpointer=memory).with_config(run_name=\"Conduct Interviews\")\n",
    "\n",
    "# View\n",
    "display(Image(interview_graph.get_graph().draw_mermaid_png()))"
   ]
  },
  {
   "cell_type": "code",
   "execution_count": 118,
   "id": "dbf639fd",
   "metadata": {},
   "outputs": [
    {
     "data": {
      "text/plain": [
       "Analyst(affiliation='OpenAI', name='Dr. Emily Carter', role='AI Researcher', description='Dr. Carter focuses on the development and evaluation of generalist agents. She is particularly interested in how these agents can be benchmarked effectively to ensure they perform well across a variety of tasks. Her work involves creating new metrics and testing environments to push the boundaries of what generalist agents can achieve.')"
      ]
     },
     "execution_count": 118,
     "metadata": {},
     "output_type": "execute_result"
    }
   ],
   "source": [
    "# Pick one analyst\n",
    "analysts[0]"
   ]
  },
  {
   "cell_type": "code",
   "execution_count": 141,
   "id": "30b18751",
   "metadata": {},
   "outputs": [
    {
     "data": {
      "text/plain": [
       "'Please write a seminar report for the following topic Literature Topic: Web Agents and Web Agent Benchmarks'"
      ]
     },
     "execution_count": 141,
     "metadata": {},
     "output_type": "execute_result"
    }
   ],
   "source": [
    "# Remember our topic\n",
    "topic"
   ]
  },
  {
   "cell_type": "code",
   "execution_count": 119,
   "id": "92391992",
   "metadata": {},
   "outputs": [
    {
     "data": {
      "text/markdown": [
       "## Pushing the Boundaries: Benchmarking Generalist AI Agents\n",
       "\n",
       "### Summary\n",
       "\n",
       "In the rapidly evolving field of artificial intelligence, the development and evaluation of generalist agents are crucial for ensuring these systems can perform effectively across a wide range of tasks. Generalist agents, unlike their specialist counterparts, are designed to handle diverse tasks, making their benchmarking a complex yet essential process. Dr. Carter's work focuses on creating new metrics and testing environments to push the boundaries of what these agents can achieve. This report synthesizes insights from various sources to highlight the current state and challenges in benchmarking generalist AI agents.\n",
       "\n",
       "One of the primary challenges in developing generalist agents is their performance in real-world scenarios. Current AI agents often struggle with complex professional tasks, indicating a need for further advancements [1]. The autonomous nature of AI agents makes it easier to create benchmarks and test them on common tasks, yet these benchmarks must reflect the diverse and dynamic nature of real-world work environments [2]. Traditional benchmarks often fail to capture these dynamic aspects, as they evaluate agents in static scenarios that do not reflect the frequent updates and changes in real-world applications [3].\n",
       "\n",
       "TheAgentCompany's benchmark framework addresses some of these challenges by offering tasks that require multiple steps, mimicking the complexity of real professional work. This framework emphasizes the need for AI agents to interact with various tools used in workplaces, such as web interfaces and communication tools [2]. Moreover, innovative evaluation metrics and refined datasets, like those introduced by the WebCanvas framework, aim to provide a more realistic assessment of web agents by capturing the dynamic nature of web interactions [3].\n",
       "\n",
       "To effectively evaluate AI agents, a balanced approach that considers both general performance and agent-specific capabilities is necessary. Metrics such as correctness, instruction adherence, and tool interaction are crucial for assessing how well an agent communicates and performs its tasks [4]. These metrics set a baseline for measuring AI agent performance, ensuring that they produce high-quality outputs that meet set standards.\n",
       "\n",
       "In conclusion, the development of effective benchmarking frameworks is vital for advancing generalist AI agents. By addressing the limitations of current benchmarks and incorporating dynamic, real-world scenarios, researchers can better evaluate and improve the capabilities of these agents, ultimately pushing the boundaries of what they can achieve.\n",
       "\n",
       "### Sources\n",
       "[1] https://www.linkedin.com/pulse/benchmarking-autonomous-ai-agents-new-class-iq-task-raymond-omahc  \n",
       "[2] https://cobusgreyling.medium.com/the-battle-of-ai-agents-comparing-real-world-performance-using-benchmarking-356a8c6e0fcc  \n",
       "[3] https://medium.com/@iMeanAI/comparing-top3-ai-web-agent-benchmark-platforms-frameworks-fe01dc7d4ba5  \n",
       "[4] https://www.galileo.ai/blog/evaluating-ai-agent-performance-benchmarks-real-world-tasks  "
      ],
      "text/plain": [
       "<IPython.core.display.Markdown object>"
      ]
     },
     "execution_count": 119,
     "metadata": {},
     "output_type": "execute_result"
    }
   ],
   "source": [
    "from IPython.display import Markdown\n",
    "messages = [HumanMessage(f\"So you said you were writing an article on {topic}?\")]\n",
    "thread = {\"configurable\": {\"thread_id\": \"1\"}}\n",
    "interview = interview_graph.invoke({\"analyst\": analysts[0], \"messages\": messages, \"max_num_turns\": 2}, thread)\n",
    "Markdown(interview['sections'][0])"
   ]
  },
  {
   "cell_type": "markdown",
   "id": "110a1335",
   "metadata": {},
   "source": [
    "### Parallelze interviews: Map-Reduce\n",
    "\n",
    "We parallelize the interviews via the `Send()` API, a map step.\n",
    "\n",
    "We combine them into the report body in a reduce step.\n",
    "\n",
    "### Finalize\n",
    "\n",
    "We add a final step to write an intro and conclusion to the final report."
   ]
  },
  {
   "cell_type": "code",
   "execution_count": 120,
   "id": "0718315d",
   "metadata": {},
   "outputs": [],
   "source": [
    "import operator\n",
    "from typing import List, Annotated\n",
    "from typing_extensions import TypedDict\n",
    "\n",
    "class ResearchGraphState(TypedDict):\n",
    "    topic: str # Research topic\n",
    "    max_analysts: int # Number of analysts\n",
    "    human_analyst_feedback: str # Human feedback\n",
    "    analysts: List[Analyst] # Analyst asking questions\n",
    "    sections: Annotated[list, operator.add] # Send() API key\n",
    "    introduction: str # Introduction for the final report\n",
    "    content: str # Content for the final report\n",
    "    conclusion: str # Conclusion for the final report\n",
    "    final_report: str # Final report"
   ]
  },
  {
   "cell_type": "code",
   "execution_count": 121,
   "id": "1d68e1e5",
   "metadata": {},
   "outputs": [
    {
     "data": {
      "image/png": "[encoded data removed]",
      "text/plain": [
       "<IPython.core.display.Image object>"
      ]
     },
     "metadata": {},
     "output_type": "display_data"
    }
   ],
   "source": [
    "from langgraph.constants import Send\n",
    "\n",
    "def initiate_all_interviews(state: ResearchGraphState):\n",
    "    \"\"\" This is the \"map\" step where we run each interview sub-graph using Send API \"\"\"    \n",
    "\n",
    "    # Check if human feedback\n",
    "    human_analyst_feedback=state.get('human_analyst_feedback')\n",
    "    if human_analyst_feedback:\n",
    "        # Return to create_analysts\n",
    "        return \"create_analysts\"\n",
    "\n",
    "    # Otherwise kick off interviews in parallel via Send() API\n",
    "    else:\n",
    "        topic = state[\"topic\"]\n",
    "        return [Send(\"conduct_interview\", {\"analyst\": analyst,\n",
    "                                           \"messages\": [HumanMessage(\n",
    "                                               content=f\"So you said you were writing an article on {topic}?\"\n",
    "                                           )\n",
    "                                                       ]}) for analyst in state[\"analysts\"]]\n",
    "\n",
    "report_writer_instructions = \"\"\"You are a technical writer creating a report on this overall topic: \n",
    "\n",
    "{topic}\n",
    "    \n",
    "You have a team of analysts. Each analyst has done two things: \n",
    "\n",
    "1. They conducted an interview with an expert on a specific sub-topic.\n",
    "2. They write up their finding into a memo.\n",
    "\n",
    "Your task: \n",
    "\n",
    "1. You will be given a collection of memos from your analysts.\n",
    "2. Think carefully about the insights from each memo.\n",
    "3. Consolidate these into a crisp overall summary that ties together the central ideas from all of the memos. \n",
    "4. Summarize the central points in each memo into a cohesive single narrative.\n",
    "\n",
    "To format your report:\n",
    " \n",
    "1. Use markdown formatting. \n",
    "2. Include no pre-amble for the report.\n",
    "3. Use no sub-heading. \n",
    "4. Start your report with a single title header: ## Insights\n",
    "5. Do not mention any analyst names in your report.\n",
    "6. Preserve any citations in the memos, which will be annotated in brackets, for example [1] or [2].\n",
    "7. Create a final, consolidated list of sources and add to a Sources section with the `## Sources` header.\n",
    "8. List your sources in order and do not repeat.\n",
    "\n",
    "[1] Source 1\n",
    "[2] Source 2\n",
    "\n",
    "Here are the memos from your analysts to build your report from: \n",
    "\n",
    "{context}\"\"\"\n",
    "\n",
    "def write_report(state: ResearchGraphState):\n",
    "    # Full set of sections\n",
    "    sections = state[\"sections\"]\n",
    "    topic = state[\"topic\"]\n",
    "\n",
    "    # Concat all sections together\n",
    "    formatted_str_sections = \"\\n\\n\".join([f\"{section}\" for section in sections])\n",
    "    \n",
    "    # Summarize the sections into a final report\n",
    "    system_message = report_writer_instructions.format(topic=topic, context=formatted_str_sections)    \n",
    "    report = llm.invoke([SystemMessage(content=system_message)]+[HumanMessage(content=f\"Write a report based upon these memos.\")]) \n",
    "    return {\"content\": report.content}\n",
    "\n",
    "intro_conclusion_instructions = \"\"\"You are a technical writer finishing a report on {topic}\n",
    "\n",
    "You will be given all of the sections of the report.\n",
    "\n",
    "You job is to write a crisp and compelling introduction or conclusion section.\n",
    "\n",
    "The user will instruct you whether to write the introduction or conclusion.\n",
    "\n",
    "Include no pre-amble for either section.\n",
    "\n",
    "Target around 100 words, crisply previewing (for introduction) or recapping (for conclusion) all of the sections of the report.\n",
    "\n",
    "Use markdown formatting. \n",
    "\n",
    "For your introduction, create a compelling title and use the # header for the title.\n",
    "\n",
    "For your introduction, use ## Introduction as the section header. \n",
    "\n",
    "For your conclusion, use ## Conclusion as the section header.\n",
    "\n",
    "Here are the sections to reflect on for writing: {formatted_str_sections}\"\"\"\n",
    "\n",
    "def write_introduction(state: ResearchGraphState):\n",
    "    # Full set of sections\n",
    "    sections = state[\"sections\"]\n",
    "    topic = state[\"topic\"]\n",
    "\n",
    "    # Concat all sections together\n",
    "    formatted_str_sections = \"\\n\\n\".join([f\"{section}\" for section in sections])\n",
    "    \n",
    "    # Summarize the sections into a final report\n",
    "    \n",
    "    instructions = intro_conclusion_instructions.format(topic=topic, formatted_str_sections=formatted_str_sections)    \n",
    "    intro = llm.invoke([instructions]+[HumanMessage(content=f\"Write the report introduction\")]) \n",
    "    return {\"introduction\": intro.content}\n",
    "\n",
    "def write_conclusion(state: ResearchGraphState):\n",
    "    # Full set of sections\n",
    "    sections = state[\"sections\"]\n",
    "    topic = state[\"topic\"]\n",
    "\n",
    "    # Concat all sections together\n",
    "    formatted_str_sections = \"\\n\\n\".join([f\"{section}\" for section in sections])\n",
    "    \n",
    "    # Summarize the sections into a final report\n",
    "    \n",
    "    instructions = intro_conclusion_instructions.format(topic=topic, formatted_str_sections=formatted_str_sections)    \n",
    "    conclusion = llm.invoke([instructions]+[HumanMessage(content=f\"Write the report conclusion\")]) \n",
    "    return {\"conclusion\": conclusion.content}\n",
    "\n",
    "def finalize_report(state: ResearchGraphState):\n",
    "    \"\"\" The is the \"reduce\" step where we gather all the sections, combine them, and reflect on them to write the intro/conclusion \"\"\"\n",
    "    # Save full final report\n",
    "    content = state[\"content\"]\n",
    "    if content.startswith(\"## Insights\"):\n",
    "        content = content.strip(\"## Insights\")\n",
    "    if \"## Sources\" in content:\n",
    "        try:\n",
    "            content, sources = content.split(\"\\n## Sources\\n\")\n",
    "        except:\n",
    "            sources = None\n",
    "    else:\n",
    "        sources = None\n",
    "\n",
    "    final_report = state[\"introduction\"] + \"\\n\\n---\\n\\n\" + content + \"\\n\\n---\\n\\n\" + state[\"conclusion\"]\n",
    "    if sources is not None:\n",
    "        final_report += \"\\n\\n## Sources\\n\" + sources\n",
    "    return {\"final_report\": final_report}\n",
    "\n",
    "# Add nodes and edges \n",
    "builder = StateGraph(ResearchGraphState)\n",
    "builder.add_node(\"create_analysts\", create_analysts)\n",
    "builder.add_node(\"human_feedback\", human_feedback)\n",
    "builder.add_node(\"conduct_interview\", interview_builder.compile())\n",
    "builder.add_node(\"write_report\",write_report)\n",
    "builder.add_node(\"write_introduction\",write_introduction)\n",
    "builder.add_node(\"write_conclusion\",write_conclusion)\n",
    "builder.add_node(\"finalize_report\",finalize_report)\n",
    "\n",
    "# Logic\n",
    "builder.add_edge(START, \"create_analysts\")\n",
    "builder.add_edge(\"create_analysts\", \"human_feedback\")\n",
    "builder.add_conditional_edges(\"human_feedback\", initiate_all_interviews, [\"create_analysts\", \"conduct_interview\"])\n",
    "builder.add_edge(\"conduct_interview\", \"write_report\")\n",
    "builder.add_edge(\"conduct_interview\", \"write_introduction\")\n",
    "builder.add_edge(\"conduct_interview\", \"write_conclusion\")\n",
    "builder.add_edge([\"write_conclusion\", \"write_report\", \"write_introduction\"], \"finalize_report\")\n",
    "builder.add_edge(\"finalize_report\", END)\n",
    "\n",
    "# Compile\n",
    "memory = MemorySaver()\n",
    "graph = builder.compile(interrupt_before=['human_feedback'], checkpointer=memory)\n",
    "display(Image(graph.get_graph(xray=1).draw_mermaid_png()))"
   ]
  },
  {
   "cell_type": "markdown",
   "id": "2d846f98",
   "metadata": {},
   "source": [
    "Let us now write our report "
   ]
  },
  {
   "cell_type": "code",
   "execution_count": null,
   "id": "b801c33d",
   "metadata": {},
   "outputs": [
    {
     "name": "stdout",
     "output_type": "stream",
     "text": [
      "Name: Dr. Emily Carter\n",
      "Affiliation: University of Technology\n",
      "Role: Web Agent Researcher\n",
      "Description: Dr. Carter focuses on the development and evolution of web agents, exploring how they can be designed to perform complex tasks autonomously. Her primary concern is ensuring that these agents are efficient, reliable, and capable of adapting to new web environments. She is motivated by the potential of web agents to revolutionize how information is processed and utilized on the internet.\n",
      "--------------------------------------------------\n",
      "Name: Mr. John Smith\n",
      "Affiliation: TechBench Labs\n",
      "Role: Benchmark Specialist\n",
      "Description: Mr. Smith specializes in creating and evaluating benchmarks for web agents. His focus is on developing standardized tests that can accurately measure the performance and capabilities of different web agents. He is concerned with ensuring that benchmarks are comprehensive and reflect real-world scenarios. His motivation is to provide a fair and objective means of comparing web agents to drive innovation and improvement in the field.\n",
      "--------------------------------------------------\n",
      "Name: Dr. Sarah Lee\n",
      "Affiliation: Digital Ethics Institute\n",
      "Role: Ethics Analyst\n",
      "Description: Dr. Lee examines the ethical implications of deploying web agents, particularly in terms of privacy, security, and user consent. Her focus is on ensuring that web agents operate within ethical guidelines and respect user rights. She is concerned about the potential misuse of web agents and the need for robust ethical frameworks. Her motivation is to promote responsible development and deployment of web agents that prioritize user trust and safety.\n",
      "--------------------------------------------------\n"
     ]
    }
   ],
   "source": [
    "# Inputs\n",
    "max_analysts = 3 \n",
    "topic = \"Literature Topic: Web Agents and Web Agent Benchmarks\"\n",
    "thread = {\"configurable\": {\"thread_id\": \"6\"}}\n",
    "\n",
    "# Run the graph until the first interruption\n",
    "for event in graph.stream({\"topic\":topic,\n",
    "                           \"max_analysts\":max_analysts}, \n",
    "                          thread, \n",
    "                          stream_mode=\"values\"):\n",
    "    \n",
    "    analysts = event.get('analysts', '')\n",
    "    if analysts:\n",
    "        for analyst in analysts:\n",
    "            print(f\"Name: {analyst.name}\")\n",
    "            print(f\"Affiliation: {analyst.affiliation}\")\n",
    "            print(f\"Role: {analyst.role}\")\n",
    "            print(f\"Description: {analyst.description}\")\n",
    "            print(\"-\" * 50)  "
   ]
  },
  {
   "cell_type": "code",
   "execution_count": 123,
   "id": "3a34363b",
   "metadata": {},
   "outputs": [
    {
     "data": {
      "text/plain": [
       "{'configurable': {'thread_id': '6',\n",
       "  'checkpoint_ns': '',\n",
       "  'checkpoint_id': '1f006419-bccb-6680-8002-cdd607a980d0'}}"
      ]
     },
     "execution_count": 123,
     "metadata": {},
     "output_type": "execute_result"
    }
   ],
   "source": [
    "# We now update the state as if we are the human_feedback node\n",
    "graph.update_state(thread, {\"human_analyst_feedback\": \n",
    "                                \"Please add more computer science experts\"}, as_node=\"human_feedback\")"
   ]
  },
  {
   "cell_type": "code",
   "execution_count": 124,
   "id": "1c63fe00",
   "metadata": {},
   "outputs": [
    {
     "name": "stdout",
     "output_type": "stream",
     "text": [
      "Name: Dr. Emily Carter\n",
      "Affiliation: University of Technology\n",
      "Role: Web Agent Researcher\n",
      "Description: Dr. Carter focuses on the development and evolution of web agents, exploring how they can be designed to perform complex tasks autonomously. Her primary concern is ensuring that these agents are efficient, reliable, and capable of adapting to new web environments. She is motivated by the potential of web agents to revolutionize how information is processed and utilized on the internet.\n",
      "--------------------------------------------------\n",
      "Name: Mr. John Smith\n",
      "Affiliation: TechBench Labs\n",
      "Role: Benchmark Specialist\n",
      "Description: Mr. Smith specializes in creating and evaluating benchmarks for web agents. His focus is on developing standardized tests that can accurately measure the performance and capabilities of different web agents. He is concerned with ensuring that benchmarks are comprehensive and reflect real-world scenarios. His motivation is to provide a fair and objective means of comparing web agents to drive innovation and improvement in the field.\n",
      "--------------------------------------------------\n",
      "Name: Dr. Sarah Lee\n",
      "Affiliation: Digital Ethics Institute\n",
      "Role: Ethics Analyst\n",
      "Description: Dr. Lee examines the ethical implications of deploying web agents, particularly in terms of privacy, security, and user consent. Her focus is on ensuring that web agents operate within ethical guidelines and respect user rights. She is concerned about the potential misuse of web agents and the need for robust ethical frameworks. Her motivation is to promote responsible development and deployment of web agents that prioritize user trust and safety.\n",
      "--------------------------------------------------\n",
      "Name: Dr. Emily Chen\n",
      "Affiliation: University of California, Berkeley\n",
      "Role: Computer Science Expert\n",
      "Description: Dr. Emily Chen is a leading researcher in the field of artificial intelligence and web technologies. Her focus is on the development and evaluation of web agents, with a particular interest in how these agents can be benchmarked for performance and efficiency. She is concerned with the technical challenges and innovations in creating robust web agents that can operate effectively in dynamic online environments.\n",
      "--------------------------------------------------\n",
      "Name: Prof. John Smith\n",
      "Affiliation: Massachusetts Institute of Technology\n",
      "Role: Benchmarking Specialist\n",
      "Description: Prof. John Smith specializes in the creation and analysis of benchmarks for web technologies. His work involves developing standardized tests to evaluate the performance of web agents, ensuring that these tools meet industry standards. He is motivated by the need for reliable and consistent metrics that can guide the development of more efficient web agents.\n",
      "--------------------------------------------------\n",
      "Name: Dr. Sarah Lee\n",
      "Affiliation: Google AI\n",
      "Role: Industry Practitioner\n",
      "Description: Dr. Sarah Lee works at the intersection of academia and industry, applying cutting-edge research to practical applications in web agent technology. Her focus is on the deployment of web agents in real-world scenarios, and she is particularly interested in how benchmarks can be used to improve the scalability and adaptability of these agents in commercial settings. She is driven by the potential of web agents to transform online interactions and business processes.\n",
      "--------------------------------------------------\n"
     ]
    }
   ],
   "source": [
    "# Check\n",
    "for event in graph.stream(None, thread, stream_mode=\"values\"):\n",
    "    analysts = event.get('analysts', '')\n",
    "    if analysts:\n",
    "        for analyst in analysts:\n",
    "            print(f\"Name: {analyst.name}\")\n",
    "            print(f\"Affiliation: {analyst.affiliation}\")\n",
    "            print(f\"Role: {analyst.role}\")\n",
    "            print(f\"Description: {analyst.description}\")\n",
    "            print(\"-\" * 50)  "
   ]
  },
  {
   "cell_type": "code",
   "execution_count": 125,
   "id": "86c6fbe7",
   "metadata": {},
   "outputs": [
    {
     "data": {
      "text/plain": [
       "{'configurable': {'thread_id': '6',\n",
       "  'checkpoint_ns': '',\n",
       "  'checkpoint_id': '1f00641a-0f08-6d06-8004-73c2f3cacb01'}}"
      ]
     },
     "execution_count": 125,
     "metadata": {},
     "output_type": "execute_result"
    }
   ],
   "source": [
    "# Confirm we are happy\n",
    "graph.update_state(thread, {\"human_analyst_feedback\": \n",
    "                            None}, as_node=\"human_feedback\")"
   ]
  },
  {
   "cell_type": "code",
   "execution_count": 126,
   "id": "9a97bb47",
   "metadata": {},
   "outputs": [
    {
     "name": "stdout",
     "output_type": "stream",
     "text": [
      "--Node--\n",
      "conduct_interview\n",
      "--Node--\n",
      "conduct_interview\n",
      "--Node--\n",
      "conduct_interview\n",
      "--Node--\n",
      "write_conclusion\n",
      "--Node--\n",
      "write_introduction\n",
      "--Node--\n",
      "write_report\n",
      "--Node--\n",
      "finalize_report\n"
     ]
    }
   ],
   "source": [
    "# Continue\n",
    "for event in graph.stream(None, thread, stream_mode=\"updates\"):\n",
    "    print(\"--Node--\")\n",
    "    node_name = next(iter(event.keys()))\n",
    "    print(node_name)"
   ]
  },
  {
   "cell_type": "code",
   "execution_count": 127,
   "id": "22a64342",
   "metadata": {},
   "outputs": [
    {
     "data": {
      "text/markdown": [
       "# Advancing Web Agents: Challenges and Innovations in Benchmarking\n",
       "\n",
       "## Introduction\n",
       "\n",
       "In the dynamic landscape of artificial intelligence, web agents are at the forefront of automating online tasks, from e-commerce to data analysis. This report explores the challenges and innovations in benchmarking these agents, emphasizing the need for robust evaluation metrics. We delve into the evolution of benchmarks from static datasets to dynamic environments, highlighting the importance of data quality and innovative techniques like large language models (LLMs) for annotation. The report also examines frameworks such as GuardAgent and AutoGen, which enhance agent safety and trustworthiness, and discusses ServiceNow's AgentLab, a pivotal tool for agent evaluation. Finally, we consider the integration of LLMs in agent modeling, underscoring their potential to simulate human-like interactions.\n",
       "\n",
       "---\n",
       "\n",
       "\n",
       "\n",
       "The development and evaluation of web agents, autonomous tools designed to perform tasks on the internet, are rapidly advancing within the field of artificial intelligence. These agents are increasingly integrated into applications ranging from online shopping to complex data analysis. However, their performance in dynamic online environments remains a significant challenge. Effective testing, benchmarking, and evaluation are crucial for assessing web agents' behavior in diverse scenarios. Traditional benchmarks have evolved from offline datasets to more dynamic online environments, yet they still lack comprehensive coverage of critical dimensions necessary for meaningful evaluations [1]. The quality of data used in these benchmarks is crucial, as redundant or irrelevant tasks do not provide valuable insights into an agent's capabilities [2]. Innovative techniques, such as recording real work and using large language models (LLMs) for automatic annotation, are being explored to enhance the quality and relevance of these benchmarks [2].\n",
       "\n",
       "Despite advancements, web agents are still far from achieving human-level performance, particularly in complex or dynamic environments. They are more error-prone compared to humans, highlighting the need for more sophisticated and realistic benchmarks [2]. The development of frameworks like GuardAgent and AutoGen, which incorporate knowledge reasoning and multi-agent conversations, respectively, aim to enhance the safety and trustworthiness of web agents [2]. ServiceNow's release of AgentLab, an open-source Python package, represents a significant step forward in the development and evaluation of web agents. This tool provides a platform for researchers to test and benchmark web agents in a controlled environment, addressing some of the challenges associated with evaluating these agents in real-world scenarios [1].\n",
       "\n",
       "The integration of LLMs into agent-based modeling and simulation is another promising avenue for enhancing the capabilities of web agents. By leveraging LLMs, web agents can better simulate human behaviors and interact with websites using natural language instructions, thus improving their performance in real-world applications [3]. Recent advancements in LLM-based web agents have introduced novel architectures and benchmarks that showcase progress in autonomous web navigation and interaction. However, existing benchmarks often prioritize effectiveness and accuracy, overlooking crucial factors like safety and trustworthiness, which are essential for deploying web agents in enterprise settings [1]. The risks of unsafe web agent behavior, such as accidentally deleting user accounts or performing unintended actions in critical environments, underscore the need for comprehensive evaluation metrics [1].\n",
       "\n",
       "A notable development in this area is the introduction of ST-WebAgentBench, which includes evaluation metrics specifically designed to assess agents' safety and trustworthiness. This benchmark provides a more comprehensive evaluation by incorporating dynamic user and tool interactions, policy adherence, and human-in-the-loop tasks. It addresses the need for agents to interact seamlessly with both humans and programmatic APIs over long horizons, follow complex policies, and maintain consistency and reliability at scale [1]. Despite the promise of autonomous web agents, they are still far from achieving human-level performance in many scenarios. Studies show that web agents are more error-prone compared to humans when performing the same tasks, particularly in complex or dynamic environments. Benchmarks have evolved from offline datasets, such as Mind2Web, to online environments like WebArena, which simulate real-world interactions [1].\n",
       "\n",
       "The lack of standardization in evaluation practices poses challenges for reproducibility and the comparison of results across different studies. This lack of standardization hinders the identification of genuine improvements and can mislead developers when selecting agents for specific applications. Sierra’s 𝜏-bench is another benchmark designed to evaluate AI agents’ performance and reliability in real-world settings, addressing these standardization issues [2]. The emergence of web agent benchmarks has significantly accelerated the development of web agents. Some of these agents are fine-tuned for specific tasks, while others are built on frontier models like AutoGPT. The ease of creating new agents, thanks to frameworks like AutoGen and LangGraph, has led to the rapid introduction of numerous state-of-the-art agents, many of which have quickly surpassed existing capabilities [1]. These frameworks enable the development of highly adaptive conversational experiences through customizable agents, ideal for large-scale LLM applications with dynamic interactions and human feedback loops [4].\n",
       "\n",
       "Benchmarking plays a critical role in accelerating AI agent adoption in enterprise settings by providing an objective basis for decision-making. It enables enterprises to verify performance claims and make confident, informed choices that support operational scalability and maintainability [2]. To design effective benchmarks, it is crucial to understand the unique challenges posed to and by AI agents in enterprise environments. This includes addressing issues of reproducibility, bias, and real-world applicability [2]. The integration of web agents into commercial applications holds the potential to transform online interactions and business processes. By leveraging cutting-edge research and practical applications, benchmarks can improve the scalability and adaptability of web agents, ensuring their safe and effective deployment in real-world scenarios.\n",
       "\n",
       "\n",
       "---\n",
       "\n",
       "## Conclusion\n",
       "\n",
       "The exploration of web agents and their benchmarks reveals a dynamic landscape marked by both challenges and innovations. As highlighted, the development of robust web agents is crucial for their effective deployment in diverse applications, from online shopping to complex data analysis. The introduction of tools like ServiceNow's AgentLab and frameworks such as GuardAgent and AutoGen underscores the progress in creating safer and more reliable agents. However, the need for comprehensive benchmarks that prioritize safety and trustworthiness remains critical. By advancing benchmarking techniques and integrating large language models, the field can overcome existing limitations, ensuring web agents meet industry standards and transform online interactions effectively.\n",
       "\n",
       "## Sources\n",
       "[1] https://www.marktechpost.com/2024/12/04/servicenow-releases-agentlab-a-new-open-source-python-package-for-developing-and-evaluating-web-agents/  \n",
       "[2] https://arxiv.org/html/2410.06703v2  \n",
       "[3] https://www.nature.com/articles/s41599-024-03611-3  \n",
       "[4] https://www.linkedin.com/pulse/deep-dive-langgraph-vs-autogen-detailed-comparison-ravi-gupta-dzkrf"
      ],
      "text/plain": [
       "<IPython.core.display.Markdown object>"
      ]
     },
     "execution_count": 127,
     "metadata": {},
     "output_type": "execute_result"
    }
   ],
   "source": [
    "from IPython.display import Markdown\n",
    "final_state = graph.get_state(thread)\n",
    "report = final_state.values.get('final_report')\n",
    "Markdown(report)"
   ]
  }
 ],
 "metadata": {
  "kernelspec": {
   "display_name": "env",
   "language": "python",
   "name": "python3"
  },
  "language_info": {
   "codemirror_mode": {
    "name": "ipython",
    "version": 3
   },
   "file_extension": ".py",
   "mimetype": "text/x-python",
   "name": "python",
   "nbconvert_exporter": "python",
   "pygments_lexer": "ipython3",
   "version": "3.12.7"
  }
 },
 "nbformat": 4,
 "nbformat_minor": 5
}
