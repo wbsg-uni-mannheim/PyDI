{
 "cells": [
  {
   "cell_type": "markdown",
   "metadata": {},
   "source": [
    "# Exercise 3 - Information Extraction with PyDI\n",
    "\n",
    "In this exercise, you will learn how to use PyDI's information extraction module to extract structured information from unstructured text data. We'll work with product descriptions and demonstrate different extraction techniques including regex patterns, custom code functions, and evaluation metrics.\n"
   ]
  },
  {
   "cell_type": "markdown",
   "metadata": {},
   "source": [
    "## Setup and Data Loading\n",
    "\n",
    "First, let's import the necessary libraries and load our dataset."
   ]
  },
  {
   "cell_type": "code",
   "execution_count": 1,
   "metadata": {},
   "outputs": [
    {
     "name": "stderr",
     "output_type": "stream",
     "text": [
      "NLTK not available. Advanced tokenization features will be limited.\n"
     ]
    }
   ],
   "source": [
    "import pandas as pd\n",
    "import numpy as np\n",
    "import sys\n",
    "import os\n",
    "\n",
    "# Add PyDI to path\n",
    "sys.path.append('../../../')\n",
    "\n",
    "# Import PyDI information extraction modules\n",
    "from PyDI.informationextraction import RegexExtractor, CodeExtractor, ExtractorPipeline\n",
    "from PyDI.informationextraction.rules import built_in_rules\n",
    "from PyDI.io.loaders import load_json\n",
    "import re"
   ]
  },
  {
   "cell_type": "markdown",
   "metadata": {},
   "source": [
    "## Task: Information Extraction with PyDI (GPU dataset)\n",
    "\n",
    "In this task you will set up extractors and evaluators. \n"
   ]
  },
  {
   "cell_type": "code",
   "execution_count": null,
   "metadata": {},
   "outputs": [
    {
     "name": "stdout",
     "output_type": "stream",
     "text": [
      "Dataset shape: (10, 12)\n"
     ]
    },
    {
     "data": {
      "text/html": [
       "<div>\n",
       "<style scoped>\n",
       "    .dataframe tbody tr th:only-of-type {\n",
       "        vertical-align: middle;\n",
       "    }\n",
       "\n",
       "    .dataframe tbody tr th {\n",
       "        vertical-align: top;\n",
       "    }\n",
       "\n",
       "    .dataframe thead th {\n",
       "        text-align: right;\n",
       "    }\n",
       "</style>\n",
       "<table border=\"1\" class=\"dataframe\">\n",
       "  <thead>\n",
       "    <tr style=\"text-align: right;\">\n",
       "      <th></th>\n",
       "      <th>id</th>\n",
       "      <th>name</th>\n",
       "      <th>brand</th>\n",
       "      <th>model</th>\n",
       "      <th>chipset</th>\n",
       "      <th>memory_gb</th>\n",
       "      <th>memory_type</th>\n",
       "      <th>clock_speed_mhz</th>\n",
       "      <th>tdp_w</th>\n",
       "      <th>launch_date</th>\n",
       "      <th>price_usd</th>\n",
       "      <th>description</th>\n",
       "    </tr>\n",
       "  </thead>\n",
       "  <tbody>\n",
       "    <tr>\n",
       "      <th>0</th>\n",
       "      <td>gpu-001</td>\n",
       "      <td>NVIDIA GeForce RTX 4070 Ti</td>\n",
       "      <td>NVIDIA</td>\n",
       "      <td>RTX 4070 Ti</td>\n",
       "      <td>AD104</td>\n",
       "      <td>12</td>\n",
       "      <td>GDDR6X</td>\n",
       "      <td>2310</td>\n",
       "      <td>285</td>\n",
       "      <td>2023-01-05</td>\n",
       "      <td>799</td>\n",
       "      <td>GeForce RTX 4070 Ti with 12GB GDDR6X, boost up...</td>\n",
       "    </tr>\n",
       "    <tr>\n",
       "      <th>1</th>\n",
       "      <td>gpu-002</td>\n",
       "      <td>AMD Radeon RX 7800 XT</td>\n",
       "      <td>AMD</td>\n",
       "      <td>RX 7800 XT</td>\n",
       "      <td>Navi 32</td>\n",
       "      <td>16</td>\n",
       "      <td>GDDR6</td>\n",
       "      <td>2124</td>\n",
       "      <td>263</td>\n",
       "      <td>2023-09-06</td>\n",
       "      <td>499</td>\n",
       "      <td>Radeon RX 7800 XT with 16 GB GDDR6, boost ~2.4...</td>\n",
       "    </tr>\n",
       "    <tr>\n",
       "      <th>2</th>\n",
       "      <td>gpu-003</td>\n",
       "      <td>NVIDIA GeForce RTX 4090</td>\n",
       "      <td>NVIDIA</td>\n",
       "      <td>RTX 4090</td>\n",
       "      <td>AD102</td>\n",
       "      <td>24</td>\n",
       "      <td>GDDR6X</td>\n",
       "      <td>2235</td>\n",
       "      <td>450</td>\n",
       "      <td>2022-10-12</td>\n",
       "      <td>1599</td>\n",
       "      <td>Flagship RTX 4090 (24GB GDDR6X). Boost ~2.5 GH...</td>\n",
       "    </tr>\n",
       "    <tr>\n",
       "      <th>3</th>\n",
       "      <td>gpu-004</td>\n",
       "      <td>AMD Radeon RX 7600</td>\n",
       "      <td>AMD</td>\n",
       "      <td>RX 7600</td>\n",
       "      <td>Navi 33</td>\n",
       "      <td>8</td>\n",
       "      <td>GDDR6</td>\n",
       "      <td>2250</td>\n",
       "      <td>165</td>\n",
       "      <td>2023-05-25</td>\n",
       "      <td>269</td>\n",
       "      <td>RX 7600 with 8 GB GDDR6. Boost ~2.6 GHz. TBP ~...</td>\n",
       "    </tr>\n",
       "    <tr>\n",
       "      <th>4</th>\n",
       "      <td>gpu-005</td>\n",
       "      <td>NVIDIA GeForce RTX 4060</td>\n",
       "      <td>NVIDIA</td>\n",
       "      <td>RTX 4060</td>\n",
       "      <td>AD107</td>\n",
       "      <td>8</td>\n",
       "      <td>GDDR6</td>\n",
       "      <td>2460</td>\n",
       "      <td>115</td>\n",
       "      <td>2023-06-29</td>\n",
       "      <td>299</td>\n",
       "      <td>RTX 4060 8GB. Boost around 2.5 GHz. 115W TGP. ...</td>\n",
       "    </tr>\n",
       "  </tbody>\n",
       "</table>\n",
       "</div>"
      ],
      "text/plain": [
       "        id  ...                                        description\n",
       "0  gpu-001  ...  GeForce RTX 4070 Ti with 12GB GDDR6X, boost up...\n",
       "1  gpu-002  ...  Radeon RX 7800 XT with 16 GB GDDR6, boost ~2.4...\n",
       "2  gpu-003  ...  Flagship RTX 4090 (24GB GDDR6X). Boost ~2.5 GH...\n",
       "3  gpu-004  ...  RX 7600 with 8 GB GDDR6. Boost ~2.6 GHz. TBP ~...\n",
       "4  gpu-005  ...  RTX 4060 8GB. Boost around 2.5 GHz. 115W TGP. ...\n",
       "\n",
       "[5 rows x 12 columns]"
      ]
     },
     "execution_count": 3,
     "metadata": {},
     "output_type": "execute_result"
    }
   ],
   "source": [
    "# 1) Load the GPU dataset and preview\n",
    "gpu_df = load_json('input/gpu_products.json', add_index=True)\n",
    "print(f'Dataset shape: {gpu_df.shape}')\n",
    "gpu_df.head()\n"
   ]
  },
  {
   "cell_type": "code",
   "execution_count": null,
   "metadata": {},
   "outputs": [],
   "source": [
    "# 2) Regex extraction from product title (name)\n",
    "# Provided regex patterns \n",
    "regex_rules = {\n",
    "    'brand_from_title': {\n",
    "        'source_column': 'name',\n",
    "        'pattern': r'(NVIDIA|AMD|Intel)',\n",
    "        'flags': re.IGNORECASE,\n",
    "        'group': 1,\n",
    "    },\n",
    "    'model_from_title': {\n",
    "        'source_column': 'name',\n",
    "        'pattern': r'(RTX\\s?\\d{3,4}(?:\\s?(?:Super|Ti))?|RX\\s?\\d{3,4}\\s?(?:XT|XTX)?)',\n",
    "        'flags': re.IGNORECASE,\n",
    "        'group': 1,\n",
    "    },\n",
    "}\n",
    "\n",
    "# TODO: Instantiate the RegexExtractor with the provided rules\n",
    "# from PyDI.informationextraction import RegexExtractor\n",
    "regex_extractor = None  \n",
    "\n",
    "# TODO: Run the extractor on gpu_df\n",
    "regex_gpu_df = None \n",
    "\n",
    "# Inspect the extracted fields\n"
   ]
  },
  {
   "cell_type": "code",
   "execution_count": null,
   "metadata": {},
   "outputs": [],
   "source": [
    "# 3) Evaluate regex extraction vs. gold (brand, model)\n",
    "from PyDI.informationextraction import InformationExtractionEvaluator\n",
    "\n",
    "# Prepare predictions by renaming to gold column names\n",
    "\n",
    "pred_eval_df = regex_gpu_df.rename(columns={\n",
    "     'brand_from_title':'brand',\n",
    "     'model_from_title':'model',\n",
    " })\n",
    "attributes = ['brand','model']\n",
    "\n",
    "# TODO: Instantiate the evaluator and run evaluation\n"
   ]
  },
  {
   "cell_type": "markdown",
   "metadata": {},
   "source": [
    "### LLM Extraction \n",
    "\n",
    "Use the same JSON Schema to guide LLM extraction from the description. Requires langchain-openai and an API key.\n"
   ]
  },
  {
   "cell_type": "markdown",
   "metadata": {},
   "source": [
    "### Groq API Keys\n",
    "\n",
    "Next, we need an API key from [groq.com](https://groq.com/) to use a powerful opensource LLMs for free. Groq offers a free tier allowing for API access with rate limits\n",
    "\n",
    "After registering, you can create your key [here](https://console.groq.com/keys)\n",
    "\n",
    "![image.png](./groc_limits.png)\n"
   ]
  },
  {
   "cell_type": "code",
   "execution_count": null,
   "metadata": {},
   "outputs": [],
   "source": [
    "# 4) Define chat model (requires dependencies)\n",
    "\n"
   ]
  },
  {
   "cell_type": "code",
   "execution_count": 4,
   "metadata": {},
   "outputs": [],
   "source": [
    "# 5) Set up the LLM extractor with the JSON Schema and run extraction\n",
    "import json\n",
    "from PyDI.informationextraction import LLMExtractor\n",
    "with open('input/gpu_product_schema.json','r', encoding='utf-8') as f:\n",
    "    schema_dict = json.load(f)\n",
    "\n",
    "# # TODO: Instantiate the LLMExtractor using the chat model and schema\n",
    "\n",
    "\n",
    "# # Evaluate LLM results on a small set of attributes\n"
   ]
  }
 ],
 "metadata": {
  "kernelspec": {
   "display_name": "env",
   "language": "python",
   "name": "python3"
  },
  "language_info": {
   "codemirror_mode": {
    "name": "ipython",
    "version": 3
   },
   "file_extension": ".py",
   "mimetype": "text/x-python",
   "name": "python",
   "nbconvert_exporter": "python",
   "pygments_lexer": "ipython3",
   "version": "3.12.8"
  }
 },
 "nbformat": 4,
 "nbformat_minor": 4
}
