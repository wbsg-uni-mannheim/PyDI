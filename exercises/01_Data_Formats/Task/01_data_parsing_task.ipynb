{
 "cells": [
  {
   "cell_type": "markdown",
   "id": "d97d91f5-c412-4597-91e0-832a864bfb8d",
   "metadata": {},
   "source": [
    "# Exercise - Data Exchange Formats with Python"
   ]
  },
  {
   "cell_type": "markdown",
   "id": "b8182751-1cca-406b-8822-b475e7ec5a7b",
   "metadata": {},
   "source": [
    "In the following three exercises, you are asked to write Python code for reading\n",
    "data from XML and JSON files and for querying the data using the XPath query languages. Each subsection is dedicated to one \n",
    "data exchange formats."
   ]
  },
  {
   "cell_type": "markdown",
   "id": "c32cc711-282a-4517-bc73-8f198e25f2af",
   "metadata": {},
   "source": [
    "## 1 XML"
   ]
  },
  {
   "cell_type": "markdown",
   "id": "8df9eb40-0b64-48e9-8f7a-435b1d06cc9f",
   "metadata": {},
   "source": [
    "This subsection is dedicated to the XML format. In particular, you are asked\n",
    "to perform XPath queries on the Mondial dataset. This dataset includes world\n",
    "geographic information integrated from the CIA World Factbook, the International\n",
    "Atlas and the TERRA database, to name just the pre-dominant sources.\n",
    "\n",
    "Please inspect the documents in '/input' manually (using a text editor) in order to explore\n",
    "the structure.\n",
    "\n",
    "You can also have a look at the [w3school XPath tutorial 2](https://www.w3schools.com/xml/xpath_intro.asp) to solve the following tasks."
   ]
  },
  {
   "cell_type": "code",
   "execution_count": 3,
   "id": "397a050b",
   "metadata": {},
   "outputs": [
    {
     "name": "stdout",
     "output_type": "stream",
     "text": [
      "Using sample XML for demonstration:\n",
      "<?xml version=\"1.0\" encoding=\"UTF-8\"?>\n",
      "<bookstore>\n",
      "<book category=\"fiction\">\n",
      "    <title>Harry Potter</title>\n",
      "    <author>J.K. Rowling</author>\n",
      "</book>\n",
      "<book category=\"non-fiction\">\n",
      "    <title>XML Guide</title>\n",
      "    <author>John Doe</author>\n",
      "</book>\n",
      "</bookstore>\n",
      "\n",
      "============================================================\n",
      "1. ASCII TREE VISUALIZATION\n",
      "============================================================\n",
      "└── bookstore\n",
      "    ├── book\n",
      "    │   ├── @category: fiction\n",
      "    │   ├── title\n",
      "    │   │   └── text: 'Harry Potter'\n",
      "    │   └── author\n",
      "    │       └── text: 'J.K. Rowling'\n",
      "    └── book\n",
      "        ├── @category: non-fiction\n",
      "        ├── title\n",
      "        │   └── text: 'XML Guide'\n",
      "        └── author\n",
      "            └── text: 'John Doe'\n",
      "\n",
      "============================================================\n",
      "2. TREE STATISTICS\n",
      "============================================================\n",
      "max_depth: 2\n",
      "total_elements: 7\n",
      "element_types: {'bookstore': 1, 'book': 2, 'title': 2, 'author': 2}\n",
      "attributes_count: 2\n",
      "text_nodes: 4\n",
      "\n",
      "============================================================\n",
      "3. TREE AS DATAFRAME\n",
      "============================================================\n",
      "                    path        tag  depth  has_children  \\\n",
      "0              bookstore  bookstore      0          True   \n",
      "1         bookstore/book       book      1          True   \n",
      "2   bookstore/book/title      title      2         False   \n",
      "3  bookstore/book/author     author      2         False   \n",
      "4         bookstore/book       book      1          True   \n",
      "5   bookstore/book/title      title      2         False   \n",
      "6  bookstore/book/author     author      2         False   \n",
      "\n",
      "                    attributes  text_content          parent  \n",
      "0                         None          None            None  \n",
      "1      {'category': 'fiction'}          None       bookstore  \n",
      "2                         None  Harry Potter  bookstore/book  \n",
      "3                         None  J.K. Rowling  bookstore/book  \n",
      "4  {'category': 'non-fiction'}          None       bookstore  \n",
      "5                         None     XML Guide  bookstore/book  \n",
      "6                         None      John Doe  bookstore/book  \n"
     ]
    }
   ],
   "source": [
    "\"\"\"\n",
    "XML Tree Visualization Examples\n",
    "Demonstrates various ways to visualize XML as a tree structure in Python\n",
    "\"\"\"\n",
    "\n",
    "import xml.etree.ElementTree as ET\n",
    "from typing import Optional, List, Dict, Any\n",
    "import pandas as pd\n",
    "from pathlib import Path\n",
    "\n",
    "\n",
    "def print_ascii_tree(element: ET.Element, prefix: str = \"\", is_last: bool = True):\n",
    "    \"\"\"Print XML tree as ASCII art\"\"\"\n",
    "    # Print current element\n",
    "    connector = \"└── \" if is_last else \"├── \"\n",
    "    print(f\"{prefix}{connector}{element.tag}\")\n",
    "\n",
    "    # Prepare prefix for children\n",
    "    child_prefix = prefix + (\"    \" if is_last else \"│   \")\n",
    "\n",
    "    # Get children\n",
    "    children = list(element)\n",
    "\n",
    "    # Print attributes if any\n",
    "    if element.attrib:\n",
    "        for i, (key, value) in enumerate(element.attrib.items()):\n",
    "            attr_connector = \"└── \" if i == len(\n",
    "                element.attrib) - 1 and not children else \"├── \"\n",
    "            print(f\"{child_prefix}{attr_connector}@{key}: {value}\")\n",
    "\n",
    "    # Print text content if any\n",
    "    if element.text and element.text.strip():\n",
    "        text_connector = \"└── \" if not children else \"├── \"\n",
    "        print(f\"{child_prefix}{text_connector}text: {repr(element.text.strip())}\")\n",
    "\n",
    "    # Print children recursively\n",
    "    for i, child in enumerate(children):\n",
    "        is_last_child = (i == len(children) - 1)\n",
    "        print_ascii_tree(child, child_prefix, is_last_child)\n",
    "\n",
    "\n",
    "def get_tree_stats(element: ET.Element) -> Dict[str, Any]:\n",
    "    \"\"\"Get statistics about the XML tree\"\"\"\n",
    "    def traverse(elem: ET.Element, depth: int = 0) -> Dict[str, Any]:\n",
    "        stats = {\n",
    "            'max_depth': depth,\n",
    "            'total_elements': 1,\n",
    "            'element_types': {elem.tag: 1},\n",
    "            'attributes_count': len(elem.attrib),\n",
    "            'text_nodes': 1 if elem.text and elem.text.strip() else 0\n",
    "        }\n",
    "\n",
    "        for child in elem:\n",
    "            child_stats = traverse(child, depth + 1)\n",
    "            stats['max_depth'] = max(\n",
    "                stats['max_depth'], child_stats['max_depth'])\n",
    "            stats['total_elements'] += child_stats['total_elements']\n",
    "            stats['attributes_count'] += child_stats['attributes_count']\n",
    "            stats['text_nodes'] += child_stats['text_nodes']\n",
    "\n",
    "            # Merge element type counts\n",
    "            for tag, count in child_stats['element_types'].items():\n",
    "                stats['element_types'][tag] = stats['element_types'].get(\n",
    "                    tag, 0) + count\n",
    "\n",
    "        return stats\n",
    "\n",
    "    return traverse(element)\n",
    "\n",
    "\n",
    "def visualize_with_networkx(element: ET.Element, filename: str = \"xml_tree.png\"):\n",
    "    \"\"\"Create a graphical tree visualization using NetworkX and matplotlib\"\"\"\n",
    "    try:\n",
    "        import networkx as nx\n",
    "        import matplotlib.pyplot as plt\n",
    "    except ImportError:\n",
    "        print(\"NetworkX and matplotlib required for graphical visualization\")\n",
    "        print(\"Install with: pip install networkx matplotlib\")\n",
    "        return\n",
    "\n",
    "    def build_graph(elem: ET.Element, graph, parent_id=None, node_id=0):\n",
    "        current_id = node_id\n",
    "        label = elem.tag\n",
    "\n",
    "        # Add attributes to label if present\n",
    "        if elem.attrib:\n",
    "            attrs = \", \".join(f\"{k}={v}\" for k, v in elem.attrib.items())\n",
    "            label += f\"\\n({attrs})\"\n",
    "\n",
    "        # Add text content if present\n",
    "        if elem.text and elem.text.strip():\n",
    "            label += f\"\\n\\\"{elem.text.strip()}\\\"\"\n",
    "\n",
    "        graph.add_node(current_id, label=label)\n",
    "\n",
    "        if parent_id is not None:\n",
    "            graph.add_edge(parent_id, current_id)\n",
    "\n",
    "        next_id = current_id + 1\n",
    "        for child in elem:\n",
    "            next_id = build_graph(child, graph, current_id, next_id)\n",
    "\n",
    "        return next_id\n",
    "\n",
    "    # Create graph\n",
    "    G = nx.DiGraph()\n",
    "    build_graph(element, G)\n",
    "\n",
    "    # Draw the tree\n",
    "    plt.figure(figsize=(12, 8))\n",
    "    pos = nx.spring_layout(G, k=2, iterations=50)\n",
    "\n",
    "    # Draw nodes\n",
    "    nx.draw(G, pos, with_labels=True, labels=nx.get_node_attributes(G, 'label'),\n",
    "            node_color='lightblue', node_size=3000, font_size=8,\n",
    "            font_weight='bold', edge_color='gray', arrows=True)\n",
    "\n",
    "    plt.title(\"XML Tree Structure\")\n",
    "    plt.axis('off')\n",
    "    plt.tight_layout()\n",
    "    plt.savefig(filename, dpi=300, bbox_inches='tight')\n",
    "    plt.show()\n",
    "\n",
    "    print(f\"Tree visualization saved as {filename}\")\n",
    "\n",
    "\n",
    "def visualize_with_graphviz(element: ET.Element, filename: str = \"xml_tree\"):\n",
    "    \"\"\"Create a tree visualization using GraphViz\"\"\"\n",
    "    try:\n",
    "        from graphviz import Digraph\n",
    "    except ImportError:\n",
    "        print(\"GraphViz required for visualization\")\n",
    "        print(\"Install with: pip install graphviz\")\n",
    "        print(\"Also install GraphViz system package: https://graphviz.org/download/\")\n",
    "        return\n",
    "\n",
    "    def build_dot_graph(elem: ET.Element, dot, parent_id=None, node_id=0):\n",
    "        current_id = f\"node_{node_id}\"\n",
    "        label = elem.tag\n",
    "\n",
    "        # Add attributes to label if present\n",
    "        if elem.attrib:\n",
    "            attrs = \"\\\\n\".join(f\"{k}={v}\" for k, v in elem.attrib.items())\n",
    "            label += f\"\\\\n{attrs}\"\n",
    "\n",
    "        # Add text content if present\n",
    "        if elem.text and elem.text.strip():\n",
    "            label += f\"\\\\n{elem.text.strip()}\"\n",
    "\n",
    "        dot.node(current_id, label=label)\n",
    "\n",
    "        if parent_id is not None:\n",
    "            dot.edge(parent_id, current_id)\n",
    "\n",
    "        next_id = node_id + 1\n",
    "        for child in elem:\n",
    "            next_id = build_dot_graph(child, dot, current_id, next_id)\n",
    "\n",
    "        return next_id\n",
    "\n",
    "    # Create graph\n",
    "    dot = Digraph(comment='XML Tree Structure')\n",
    "    dot.attr(rankdir='TB')  # Top to bottom layout\n",
    "\n",
    "    build_dot_graph(element, dot)\n",
    "\n",
    "    # Save and render\n",
    "    dot.render(filename, view=True, format='png')\n",
    "    print(f\"Tree visualization saved as {filename}.png\")\n",
    "\n",
    "\n",
    "def create_tree_dataframe(element: ET.Element) -> pd.DataFrame:\n",
    "    \"\"\"Convert XML tree to a pandas DataFrame for analysis\"\"\"\n",
    "    def traverse_tree(elem: ET.Element, path: str = \"\", depth: int = 0) -> List[Dict]:\n",
    "        rows = []\n",
    "\n",
    "        # Current element\n",
    "        row = {\n",
    "            'path': path + elem.tag,\n",
    "            'tag': elem.tag,\n",
    "            'depth': depth,\n",
    "            'has_children': len(list(elem)) > 0,\n",
    "            'attributes': str(elem.attrib) if elem.attrib else None,\n",
    "            'text_content': elem.text.strip() if elem.text and elem.text.strip() else None,\n",
    "            'parent': path.rstrip('/') if path else None\n",
    "        }\n",
    "        rows.append(row)\n",
    "\n",
    "        # Children\n",
    "        for child in elem:\n",
    "            child_path = f\"{path}{elem.tag}/\"\n",
    "            rows.extend(traverse_tree(child, child_path, depth + 1))\n",
    "\n",
    "        return rows\n",
    "\n",
    "    rows = traverse_tree(element)\n",
    "    return pd.DataFrame(rows)\n",
    "\n",
    "\n",
    "\n",
    "\"\"\"Demonstrate XML tree visualization with the Mondial dataset\"\"\"\n",
    "    # Create a sample XML for demonstration\n",
    "sample_xml = \"\"\"<?xml version=\"1.0\" encoding=\"UTF-8\"?>\n",
    "<bookstore>\n",
    "<book category=\"fiction\">\n",
    "    <title>Harry Potter</title>\n",
    "    <author>J.K. Rowling</author>\n",
    "</book>\n",
    "<book category=\"non-fiction\">\n",
    "    <title>XML Guide</title>\n",
    "    <author>John Doe</author>\n",
    "</book>\n",
    "</bookstore>\"\"\"\n",
    "root = ET.fromstring(sample_xml)\n",
    "print(\"Using sample XML for demonstration:\")\n",
    "print(sample_xml)\n",
    "\n",
    "print(\"\\n\" + \"=\"*60)\n",
    "print(\"1. ASCII TREE VISUALIZATION\")\n",
    "print(\"=\"*60)\n",
    "print_ascii_tree(root)\n",
    "\n",
    "print(\"\\n\" + \"=\"*60)\n",
    "print(\"2. TREE STATISTICS\")\n",
    "print(\"=\"*60)\n",
    "stats = get_tree_stats(root)\n",
    "for key, value in stats.items():\n",
    "    print(f\"{key}: {value}\")\n",
    "\n",
    "print(\"\\n\" + \"=\"*60)\n",
    "print(\"3. TREE AS DATAFRAME\")\n",
    "print(\"=\"*60)\n",
    "df = create_tree_dataframe(root)\n",
    "print(df.head(10))\n"
   ]
  },
  {
   "cell_type": "markdown",
   "id": "021285e4-b12a-4d96-b3ec-3aed51439939",
   "metadata": {},
   "source": [
    "### 1.1 Load the dataset and inspect the schema.\n",
    "\n",
    "We use the [pandas](https://pandas.pydata.org/) library to load and process XML files in Python.\n",
    "\n",
    "Pandas offers the function [read_xml](https://pandas.pydata.org/docs/reference/api/pandas.read_xml.html) to read XML documents into a pandas DataFrame object.\n",
    "\n",
    "In this first task, load the dataset from 'input/mondial-3.0.xml' and print the names of the nodes below the root node."
   ]
  },
  {
   "cell_type": "code",
   "execution_count": null,
   "id": "f9cf701a-ae1f-4bcf-a791-8065be4f9b14",
   "metadata": {},
   "outputs": [],
   "source": [
    "import pandas as pd\n",
    "\n",
    "# Load the file and return the columns. The columns of the dataframe represent nodes of the input XML.\n"
   ]
  },
  {
   "cell_type": "markdown",
   "id": "1ygk8p2qyq1",
   "metadata": {},
   "source": [
    "### 1.1a Basic Element Selection\n",
    "\n",
    "Let's start with the basics of XPath. First, select all continent elements from the XML document and print how many continents there are.\n",
    "\n",
    "Hint: The `//` selector finds all elements of a specific type anywhere in the document, regardless of their position in the hierarchy."
   ]
  },
  {
   "cell_type": "code",
   "execution_count": null,
   "id": "n4cmjmi7hl9",
   "metadata": {},
   "outputs": [],
   "source": [
    "# Select all continent elements and count them\n"
   ]
  },
  {
   "cell_type": "markdown",
   "id": "r0mpitzdeyg",
   "metadata": {},
   "source": [
    "### 1.1b Attribute Selection\n",
    "\n",
    "Now, let's learn how to select attributes. Get the names of all continents using attribute selection.\n",
    "\n",
    "Hint: The `@` symbol is used to select attributes in XPath. You can access attributes directly or select elements and then access their attributes using pandas column syntax."
   ]
  },
  {
   "cell_type": "code",
   "execution_count": null,
   "id": "pouz1ua865",
   "metadata": {},
   "outputs": [],
   "source": [
    "# Get the names of all continents"
   ]
  },
  {
   "cell_type": "markdown",
   "id": "6kn9po2mv68",
   "metadata": {},
   "source": [
    "### 1.1c Filtering by Attribute Value\n",
    "\n",
    "Let's practice filtering elements by their attribute values. Find the continent element that has the name 'Europe'.\n",
    "\n",
    "Hint: Square brackets `[]` are used for filtering in XPath. Inside the brackets, you can specify conditions using attributes and comparison operators."
   ]
  },
  {
   "cell_type": "code",
   "execution_count": null,
   "id": "phhfp5nvo2m",
   "metadata": {},
   "outputs": [],
   "source": [
    "# Find the continent with name 'Europe'"
   ]
  },
  {
   "cell_type": "markdown",
   "id": "athe80j0jy8",
   "metadata": {},
   "source": [
    "### 1.1d Count Elements with XPath Functions\n",
    "\n",
    "XPath has built-in functions. Let's count the total number of countries in the dataset.\n",
    "\n",
    "Hint: You can select all elements of a type and then use pandas methods like `len()` to count the number of rows in the resulting DataFrame."
   ]
  },
  {
   "cell_type": "code",
   "execution_count": null,
   "id": "0rqmg3uo3wib",
   "metadata": {},
   "outputs": [],
   "source": [
    "# Count the total number of countries"
   ]
  },
  {
   "cell_type": "markdown",
   "id": "3rkh1vnobl8",
   "metadata": {},
   "source": [
    "### 1.1e Positional Selection\n",
    "\n",
    "XPath allows you to select elements by their position. Get the name of the first country in the dataset.\n",
    "\n",
    "Hint: Position indexing in XPath uses square brackets with numbers. XPath positions start counting from 1, not 0."
   ]
  },
  {
   "cell_type": "code",
   "execution_count": null,
   "id": "2bss8jrjz5o",
   "metadata": {},
   "outputs": [],
   "source": [
    "# Get the name of the first country"
   ]
  },
  {
   "cell_type": "markdown",
   "id": "6ts3lz16l3i",
   "metadata": {},
   "source": [
    "Now that you've practiced the basics of XPath, let's move on to more complex queries that combine multiple concepts:"
   ]
  },
  {
   "cell_type": "markdown",
   "id": "5d00525c-e4bd-4d1a-bc9a-da7c2de7cfc9",
   "metadata": {},
   "source": [
    "### 1.2 Basic XPath\n",
    "\n",
    "Adapt the solution of the previous task in the way that it prints\n",
    "the names of all countries which belong to the continent with the name Europe.\n",
    "\n",
    "Hints: \n",
    "- Have a look at the schema of the node country to see how it is linked to the continent.\n",
    "- The xpath parameter of [read_xml](https://pandas.pydata.org/docs/reference/api/pandas.read_xml.html) should return a collection of elements and not a single element. Select the 'name' attribute using the pandas syntax."
   ]
  },
  {
   "cell_type": "code",
   "execution_count": null,
   "id": "9c18a2ea-b915-495c-9914-ea627c75edb1",
   "metadata": {},
   "outputs": [],
   "source": [
    "# Load the XML into a pandas dataframe\n"
   ]
  },
  {
   "cell_type": "markdown",
   "id": "ea3e5ed8-12ec-45a4-851e-717f493d0d93",
   "metadata": {},
   "source": [
    "### 1.3 Basic XPath\n",
    "\n",
    "Extend the XPath for the former task in order to retrieve only countries which are part of Europe and Asia."
   ]
  },
  {
   "cell_type": "code",
   "execution_count": null,
   "id": "219da54a-cdb8-41f5-9cd9-fbad56c99ebd",
   "metadata": {},
   "outputs": [],
   "source": [
    "# Load the XML into a pandas dataframe\n"
   ]
  },
  {
   "cell_type": "markdown",
   "id": "a7eb94ac-bfcd-427b-ab19-8c0abb15088d",
   "metadata": {},
   "source": [
    "## 2 JSON"
   ]
  },
  {
   "cell_type": "markdown",
   "id": "a89a2999-c60c-4b4f-a256-1b114a2f79bb",
   "metadata": {},
   "source": [
    "### 2.1 Load the dataset\n",
    "\n",
    "We use the [pandas](https://pandas.pydata.org/) library to load and process JSON files in Python.\n",
    "\n",
    "Pandas offers the function [read_json](https://pandas.pydata.org/docs/reference/api/pandas.read_json.html) to read JSON documents into a pandas DataFrame object.\n",
    "\n",
    "Load the dataset from 'input/mondial-3.0-europe-countries.json' and calculate the total number of inhabitants of all countries in the file.\n",
    "\n",
    "Hint:\n",
    "- Double-check the format of the JSON document before loading the file."
   ]
  },
  {
   "cell_type": "code",
   "execution_count": null,
   "id": "5b8c32ae-12f3-456a-b2b4-bf19cb8fe5d1",
   "metadata": {},
   "outputs": [],
   "source": [
    "# Load and inspect the dataset.\n"
   ]
  },
  {
   "cell_type": "code",
   "execution_count": null,
   "id": "cc6ea38a-f597-47c4-b51b-4438c0306883",
   "metadata": {},
   "outputs": [],
   "source": [
    "# Calculate the total population.\n"
   ]
  }
 ],
 "metadata": {
  "kernelspec": {
   "display_name": "env",
   "language": "python",
   "name": "python3"
  },
  "language_info": {
   "codemirror_mode": {
    "name": "ipython",
    "version": 3
   },
   "file_extension": ".py",
   "mimetype": "text/x-python",
   "name": "python",
   "nbconvert_exporter": "python",
   "pygments_lexer": "ipython3",
   "version": "3.12.8"
  }
 },
 "nbformat": 4,
 "nbformat_minor": 5
}
