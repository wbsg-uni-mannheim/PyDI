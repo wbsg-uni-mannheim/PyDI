{
 "cells": [
  {
   "cell_type": "markdown",
   "id": "d97d91f5-c412-4597-91e0-832a864bfb8d",
   "metadata": {},
   "source": [
    "# Exercise - Data Exchange Formats with Python"
   ]
  },
  {
   "cell_type": "markdown",
   "id": "b8182751-1cca-406b-8822-b475e7ec5a7b",
   "metadata": {},
   "source": [
    "In the following three exercises, you are asked to write Python code for reading\n",
    "data from XML, JSON and RDF files and for querying the data using the XPath\n",
    "and SPARQL query languages. Each subsection is dedicated to one of the three\n",
    "data exchange formats. The tasks are rather basic and the goal is to refresh\n",
    "your knowledge in Python in general and in particular in parsing those formats."
   ]
  },
  {
   "cell_type": "markdown",
   "id": "c32cc711-282a-4517-bc73-8f198e25f2af",
   "metadata": {},
   "source": [
    "## 1 XML"
   ]
  },
  {
   "cell_type": "markdown",
   "id": "8df9eb40-0b64-48e9-8f7a-435b1d06cc9f",
   "metadata": {},
   "source": [
    "This subsection is dedicated to the XML format. In particular, you are asked\n",
    "to perform XPath queries on the Mondial dataset. This dataset includes world\n",
    "geographic information integrated from the CIA World Factbook, the International\n",
    "Atlas and the TERRA database, to name just the pre-dominant sources.\n",
    "\n",
    "Please inspect the documents in '/input' manually (using a text editor) in order to explore\n",
    "the structure.\n",
    "\n",
    "You can also have a look at the [w3school XPath tutorial 2](https://www.w3schools.com/xml/xpath_intro.asp) to solve the following tasks."
   ]
  },
  {
   "cell_type": "markdown",
   "id": "021285e4-b12a-4d96-b3ec-3aed51439939",
   "metadata": {},
   "source": [
    "### 1.1 Load the dataset and inspect the schema.\n",
    "\n",
    "We use the [pandas](https://pandas.pydata.org/) library to load and process XML files in Python.\n",
    "\n",
    "Pandas offers the function [read_xml](https://pandas.pydata.org/docs/reference/api/pandas.read_xml.html) to read XML documents into a pandas DataFrame object.\n",
    "\n",
    "In this first task, load the dataset from 'input/mondial-3.0.xml' and print the names of the nodes below the root node."
   ]
  },
  {
   "cell_type": "code",
   "execution_count": null,
   "id": "f9cf701a-ae1f-4bcf-a791-8065be4f9b14",
   "metadata": {},
   "outputs": [],
   "source": [
    "import pandas as pd\n",
    "\n",
    "# Load the file and return the columns. The columns of the dataframe represent nodes of the input XML.\n"
   ]
  },
  {
   "cell_type": "markdown",
   "id": "5d00525c-e4bd-4d1a-bc9a-da7c2de7cfc9",
   "metadata": {},
   "source": [
    "### 1.2 Basic XPath\n",
    "\n",
    "Adapt the solution of the previous task in the way that it prints\n",
    "the names of all countries which belong to the continent with the name Europe.\n",
    "\n",
    "Hints: \n",
    "- Have a look at the schema of the node country to see how it is linked to the continent.\n",
    "- The xpath parameter of [read_xml](https://pandas.pydata.org/docs/reference/api/pandas.read_xml.html) should return a collection of elements and not a single element. Select the 'name' attribute using the pandas syntax."
   ]
  },
  {
   "cell_type": "code",
   "execution_count": null,
   "id": "9c18a2ea-b915-495c-9914-ea627c75edb1",
   "metadata": {},
   "outputs": [],
   "source": [
    "# Load the XML into a pandas dataframe\n"
   ]
  },
  {
   "cell_type": "markdown",
   "id": "ea3e5ed8-12ec-45a4-851e-717f493d0d93",
   "metadata": {},
   "source": [
    "### 1.3 Basic XPath\n",
    "\n",
    "Extend the XPath for the former task in order to retrieve only countries which are part of Europe and Asia."
   ]
  },
  {
   "cell_type": "code",
   "execution_count": null,
   "id": "219da54a-cdb8-41f5-9cd9-fbad56c99ebd",
   "metadata": {},
   "outputs": [],
   "source": [
    "# Load the XML into a pandas dataframe\n"
   ]
  },
  {
   "cell_type": "markdown",
   "id": "a7eb94ac-bfcd-427b-ab19-8c0abb15088d",
   "metadata": {},
   "source": [
    "## 2 JSON"
   ]
  },
  {
   "cell_type": "markdown",
   "id": "a89a2999-c60c-4b4f-a256-1b114a2f79bb",
   "metadata": {},
   "source": [
    "### 2.1 Load the dataset\n",
    "\n",
    "We use the [pandas](https://pandas.pydata.org/) library to load and process JSON files in Python.\n",
    "\n",
    "Pandas offers the function [read_json](https://pandas.pydata.org/docs/reference/api/pandas.read_json.html) to read JSON documents into a pandas DataFrame object.\n",
    "\n",
    "Load the dataset from 'input/mondial-3.0-europe-countries.json' and calculate the total number of inhabitants of all countries in the file.\n",
    "\n",
    "Hint:\n",
    "- Double-check the format of the JSON document before loading the file."
   ]
  },
  {
   "cell_type": "code",
   "execution_count": null,
   "id": "5b8c32ae-12f3-456a-b2b4-bf19cb8fe5d1",
   "metadata": {},
   "outputs": [],
   "source": [
    "# Load and inspect the dataset.\n"
   ]
  },
  {
   "cell_type": "code",
   "execution_count": null,
   "id": "cc6ea38a-f597-47c4-b51b-4438c0306883",
   "metadata": {},
   "outputs": [],
   "source": [
    "# Calculate the total population.\n"
   ]
  },
  {
   "cell_type": "markdown",
   "id": "7830220d-1414-46e3-abf9-7d4200d90e41",
   "metadata": {},
   "source": [
    "## 3 RDF"
   ]
  },
  {
   "cell_type": "markdown",
   "id": "c0dded89-7021-49b6-b0d5-3b91386aba7a",
   "metadata": {},
   "source": [
    "In the last part of this exercise session, we will focus on RDF and SPARQL.\n",
    "On the course web page you can find the European countries with their name,\n",
    "population and spoken languages stored as RDF file. The file was generated\n",
    "from the original mondial XML file.\n",
    "\n",
    "In the following you will be asked to formulate SPARQL queries to answer questions about the dataset using the [rdflib](https://rdflib.readthedocs.io/en/stable/index.html) library.\n",
    "\n",
    "In addition to the lecture the [W3 site of SPARQL Query Language](https://www.w3.org/TR/rdf-sparql-query/) can help you to answer the questions."
   ]
  },
  {
   "cell_type": "code",
   "execution_count": null,
   "id": "25ffc7db-b5f1-476f-ad8c-d263939d1112",
   "metadata": {},
   "outputs": [],
   "source": [
    "# Install rdflib\n",
    "#!pip install rdflib"
   ]
  },
  {
   "cell_type": "markdown",
   "id": "1ba34eda-2790-4b37-b82b-5bf557af2e79",
   "metadata": {},
   "source": [
    "### 3.1 Load the graph and query with SPARQL I\n",
    "\n",
    "Load the graph and formulate a SPARQL query which returns the name and id of all countries within the dataset ordered by the name.\n",
    "\n",
    "What is the last country on this list?\n",
    "\n",
    "Hint:\n",
    "- Explore the property names and namespaces in the RDF file using a text editor.\n",
    "- Parse the SPARQL query result into a pandas dataframe for simple processing."
   ]
  },
  {
   "cell_type": "code",
   "execution_count": null,
   "id": "ba5edc3c-b235-44a0-aab2-8545201189be",
   "metadata": {},
   "outputs": [],
   "source": [
    "import rdflib\n",
    "\n",
    "# Load the graph from 'input/mondial-3.0-europe-countries.rdf'.\n"
   ]
  },
  {
   "cell_type": "code",
   "execution_count": null,
   "id": "e3ece0f4-8b1a-4e73-8d6f-7c658fc515ee",
   "metadata": {},
   "outputs": [],
   "source": [
    "# Define the query\n",
    "\n",
    "\n",
    "# Execute query\n",
    "\n",
    "\n",
    "# Convert result and load with pandas\n",
    "\n",
    "\n",
    "# Print tail\n"
   ]
  },
  {
   "cell_type": "markdown",
   "id": "b8552b72-acb3-4f1f-9dc6-d72e7914943b",
   "metadata": {},
   "source": [
    "### 3.2 Query with SPARQL II\n",
    "\n",
    "Query for the largest countries in the dataset and return the second top 5 largest countries (rank 6-10) by population."
   ]
  },
  {
   "cell_type": "code",
   "execution_count": null,
   "id": "5a5d5978-d6dd-480d-abef-ddeb598395ad",
   "metadata": {},
   "outputs": [],
   "source": [
    "# Define the query\n",
    "\n",
    "# Execute query\n",
    "\n",
    "\n",
    "# Convert result and load with pandas\n",
    "\n",
    "\n",
    "# Print head\n"
   ]
  },
  {
   "cell_type": "markdown",
   "id": "1270b535-f40b-4a88-94d7-f566e544c8fd",
   "metadata": {},
   "source": [
    "### 3.3 Query with SPARQL III\n",
    "\n",
    "Query for all German-speaking countries "
   ]
  },
  {
   "cell_type": "code",
   "execution_count": null,
   "id": "a1ea8e34",
   "metadata": {},
   "outputs": [],
   "source": [
    "# Define the query\n",
    "\n",
    "\n",
    "# Execute query\n",
    "\n",
    "\n",
    "# Convert result and load with pandas\n",
    "\n",
    "\n",
    "# Print head\n"
   ]
  }
 ],
 "metadata": {
  "kernelspec": {
   "display_name": "Python 3 (ipykernel)",
   "language": "python",
   "name": "python3"
  },
  "language_info": {
   "codemirror_mode": {
    "name": "ipython",
    "version": 3
   },
   "file_extension": ".py",
   "mimetype": "text/x-python",
   "name": "python",
   "nbconvert_exporter": "python",
   "pygments_lexer": "ipython3",
   "version": "3.11.7"
  }
 },
 "nbformat": 4,
 "nbformat_minor": 5
}
