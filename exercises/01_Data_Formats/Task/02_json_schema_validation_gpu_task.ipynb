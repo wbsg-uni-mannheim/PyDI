{
 "cells": [
  {
   "cell_type": "markdown",
   "metadata": {},
   "source": [
    "# Exercise 2 — JSON Schema and Data Validation\n",
    "\n",
    "We will practice creating and applying a JSON Schema to validate a small GPU product dataset.\n"
   ]
  },
  {
   "cell_type": "markdown",
   "metadata": {},
   "source": [
    "## 1. Setup and Data Loading\n",
    "Install/import the JSON Schema library and load the GPU dataset.\n"
   ]
  },
  {
   "cell_type": "code",
   "execution_count": 2,
   "id": "6fc793f7",
   "metadata": {},
   "outputs": [],
   "source": [
    "import json\n",
    "import pandas as pd\n",
    "from pprint import pprint\n",
    "from jsonschema import validate, ValidationError, Draft7Validator\n",
    "# Tip: For strict 'format' (e.g., date) validation, you can use Draft202012Validator with a FormatChecker:\n",
    "# from jsonschema import Draft202012Validator, FormatChecker\n"
   ]
  },
  {
   "cell_type": "markdown",
   "id": "779bfeff",
   "metadata": {},
   "source": [
    "### 1.1 Load and Inspect GPU Sample Data\n",
    "Load the sample GPU products and inspect their structure to understand what to validate.\n"
   ]
  },
  {
   "cell_type": "code",
   "execution_count": null,
   "id": "7d2d4933",
   "metadata": {},
   "outputs": [
    {
     "name": "stdout",
     "output_type": "stream",
     "text": [
      "Total records: 10\n",
      "First record keys: ['id', 'name', 'brand', 'model', 'chipset', 'memory_gb', 'memory_type', 'clock_speed_mhz', 'tdp_w', 'launch_date', 'price_usd', 'description']\n",
      "{'brand': 'NVIDIA',\n",
      " 'chipset': 'AD104',\n",
      " 'clock_speed_mhz': 2310,\n",
      " 'description': 'GeForce RTX 4070 Ti with 12GB GDDR6X, boost up to 2.6 GHz, '\n",
      "                '285W TDP. Great 1440p/4K performance. MSRP $799.',\n",
      " 'id': 'gpu-001',\n",
      " 'launch_date': '2023-01-05',\n",
      " 'memory_gb': 12,\n",
      " 'memory_type': 'GDDR6X',\n",
      " 'model': 'RTX 4070 Ti',\n",
      " 'name': 'NVIDIA GeForce RTX 4070 Ti',\n",
      " 'price_usd': 799.0,\n",
      " 'tdp_w': 285}\n"
     ]
    }
   ],
   "source": [
    "# input/gpu_products.json"
   ]
  },
  {
   "cell_type": "markdown",
   "id": "8e6f2934",
   "metadata": {},
   "source": [
    "## 2. Creating Basic JSON Schemas\n",
    "We'll define a schema to validate the GPU product fields (types, required fields, and basic constraints).\n"
   ]
  },
  {
   "cell_type": "markdown",
   "id": "51e2ba2c",
   "metadata": {},
   "source": [
    "### 2.1 Define a GPU Product Schema (TODO)\n",
    "Based on the data, create a schema that validates at least: \n",
    "- Required fields: `id`, `name`, `brand`, `model`, `description`\n",
    "- Types and simple constraints for: `memory_gb` (integer, >=1), `clock_speed_mhz` (integer, >=1), `tdp_w` (integer, >=1), `price_usd` (number, >=0), `launch_date` (string, date)\n",
    "- `brand` enum: NVIDIA, AMD, Intel, Other\n"
   ]
  },
  {
   "cell_type": "code",
   "execution_count": 3,
   "id": "a96eaf35",
   "metadata": {},
   "outputs": [
    {
     "name": "stdout",
     "output_type": "stream",
     "text": [
      "{'$schema': 'https://json-schema.org/draft/2020-12/schema',\n",
      " 'additionalProperties': True,\n",
      " 'properties': {'brand': {'description': 'Brand of the GPU',\n",
      "                          'enum': ['NVIDIA', 'AMD', 'Intel', 'Other'],\n",
      "                          'type': 'string'},\n",
      "                'id': {'description': 'Unique identifier for the product',\n",
      "                       'type': 'string'},\n",
      "                'launch_date': {'description': 'Date the product was launched',\n",
      "                                'format': 'date',\n",
      "                                'type': 'string'},\n",
      "                'memory_gb': {'description': 'Amount of memory in gigabytes',\n",
      "                              'minimum': 1,\n",
      "                              'type': 'integer'},\n",
      "                'price_usd': {'description': 'Price of the product in USD',\n",
      "                              'minimum': 0,\n",
      "                              'type': 'number'}},\n",
      " 'required': ['id', 'name', 'brand', 'model', 'description'],\n",
      " 'type': 'object'}\n"
     ]
    }
   ],
   "source": [
    "# TODO: Complete the schema definition\n",
    "\n",
    "product_schema = {\n",
    "    '$schema': 'https://json-schema.org/draft/2020-12/schema',\n",
    "    'type': 'object',\n",
    "    'properties': {\n",
    "        # EXAMPLES (keep these and add the rest):\n",
    "        'id': { 'type': 'string', 'description': 'Unique identifier for the product' },\n",
    "        'brand': { 'type': 'string', 'enum': ['NVIDIA','AMD','Intel','Other'], 'description': 'Brand of the GPU' },\n",
    "        'memory_gb': { 'type': 'integer', 'minimum': 1, 'description': 'Amount of memory in gigabytes' },\n",
    "        'price_usd': { 'type': 'number', 'minimum': 0, 'description': 'Price of the product in USD' },\n",
    "        'launch_date': { 'type': 'string', 'format': 'date', 'description': 'Date the product was launched' },\n",
    "        # TODO: add definitions for: name, model, chipset, memory_type, clock_speed_mhz, tdp_w, description\n",
    "    },\n",
    "    'required': ['id','name','brand','model','description'],\n",
    "    'additionalProperties': True,\n",
    "}\n",
    "pprint(product_schema)\n"
   ]
  },
  {
   "cell_type": "markdown",
   "metadata": {},
   "source": [
    "### 2.2 Validate Valid Data (TODO)\n",
    "Test your schema against a valid product (or iterate over all) and report if validation passes.\n"
   ]
  },
  {
   "cell_type": "code",
   "execution_count": null,
   "metadata": {},
   "outputs": [
    {
     "name": "stdout",
     "output_type": "stream",
     "text": [
      "✓ First product is valid according to the schema\n",
      "✓ All products passed validation (valid set)\n"
     ]
    }
   ],
   "source": [
    "\n",
    "# Example: validate the first record\n",
    "try:\n",
    "    validate(instance=products_data[0], schema=product_schema)\n",
    "    print('✓ First product is valid according to the schema')\n",
    "except ValidationError as e:\n",
    "    print('✗ Validation failed for first product:')\n",
    "    print(e.message)\n",
    "\n",
    "# TODO: Validate all"
   ]
  },
  {
   "cell_type": "markdown",
   "metadata": {},
   "source": [
    "### 2.3 Test with Invalid Data (TODO)\n",
    "Load intentionally invalid GPU product data and verify that the schema catches errors (e.g., wrong types, invalid dates, negative prices).\n"
   ]
  },
  {
   "cell_type": "code",
   "execution_count": null,
   "metadata": {},
   "outputs": [
    {
     "name": "stdout",
     "output_type": "stream",
     "text": [
      "[0] Correctly failed: 0 is less than the minimum of 1\n",
      "[1] Correctly failed: -50 is less than the minimum of 0\n",
      "[2] Correctly failed: 'brand' is a required property\n",
      "[3] Unexpectedly valid\n",
      "[4] Unexpectedly valid\n"
     ]
    }
   ],
   "source": [
    "with open('input/gpu_products_invalid.json', 'r', encoding='utf-8') as f:\n",
    "    invalid_products = json.load(f)\n",
    "\n",
    "# TODO: iterate invalid_products and validate each one, printing failures\n"
   ]
  },
  {
   "cell_type": "markdown",
   "id": "b23e5669",
   "metadata": {},
   "source": [
    "### Save Schema\n",
    "Write the defined schema to the shared Task input directory for reuse.\n"
   ]
  },
  {
   "cell_type": "code",
   "execution_count": null,
   "id": "e44d0cc7",
   "metadata": {},
   "outputs": [],
   "source": [
    "# Save schema "
   ]
  }
 ],
 "metadata": {
  "kernelspec": {
   "display_name": "env",
   "language": "python",
   "name": "python3"
  },
  "language_info": {
   "codemirror_mode": {
    "name": "ipython",
    "version": 3
   },
   "file_extension": ".py",
   "mimetype": "text/x-python",
   "name": "python",
   "nbconvert_exporter": "python",
   "pygments_lexer": "ipython3",
   "version": "3.12.8"
  }
 },
 "nbformat": 4,
 "nbformat_minor": 5
}
