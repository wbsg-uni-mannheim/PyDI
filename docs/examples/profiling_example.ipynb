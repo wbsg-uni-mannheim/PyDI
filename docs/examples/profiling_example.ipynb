{
  "cells": [
    {
      "cell_type": "markdown",
      "metadata": {},
      "source": [
        "# PyDI Profiling Example\n",
        "\n",
        "This notebook mirrors `PyDI/examples/profiling_example.py`.\n",
        "\n",
        "It loads a dataset with PyDI's provenance-aware I/O and generates a profiling\n",
        "report using ydata-profiling. Artifacts are written to `output/profiling`.\n",
        "\n",
        "If optional dependencies are missing, install:\n",
        "- `ydata-profiling`\n",
        "- optionally `sweetviz`\n"
      ]
    },
    {
      "cell_type": "code",
      "execution_count": 3,
      "metadata": {},
      "outputs": [
        {
          "name": "stdout",
          "output_type": "stream",
          "text": [
            "/Users/aaronsteiner/Documents/GitHub/PyDI\n"
          ]
        }
      ],
      "source": [
        "# Step 0: Imports and setup\n",
        "import logging\n",
        "from pathlib import Path\n",
        "\n",
        "from PyDI.io import load_csv\n",
        "from PyDI.profiling import DataProfiler\n",
        "\n",
        "\n",
        "logging.basicConfig(level=logging.INFO)\n",
        "logger = logging.getLogger(__name__)\n",
        "\n",
        "root = Path.cwd().parents[0]  # repo root fallback for notebooks\n"
      ]
    },
    {
      "cell_type": "markdown",
      "metadata": {},
      "source": [
        "## Step 1: Locate input and output paths\n"
      ]
    },
    {
      "cell_type": "code",
      "execution_count": 4,
      "metadata": {},
      "outputs": [
        {
          "data": {
            "text/plain": [
              "(PosixPath('/Users/aaronsteiner/Documents/GitHub/PyDI/input/schemamatching/data/movie_list.csv'),\n",
              " PosixPath('/Users/aaronsteiner/Documents/GitHub/PyDI/output/profiling'))"
            ]
          },
          "execution_count": 4,
          "metadata": {},
          "output_type": "execute_result"
        }
      ],
      "source": [
        "csv_path = root / \"input/schemamatching/data/movie_list.csv\"\n",
        "out_dir = root / \"output/profiling\"\n",
        "csv_path, out_dir\n"
      ]
    },
    {
      "cell_type": "markdown",
      "metadata": {},
      "source": [
        "## Step 2: Load the dataset with provenance\n"
      ]
    },
    {
      "cell_type": "code",
      "execution_count": 5,
      "metadata": {},
      "outputs": [
        {
          "name": "stderr",
          "output_type": "stream",
          "text": [
            "INFO:PyDI.io.loaders:Loaded dataset 'movies' via read_csv: shape=(656, 23), source=/Users/aaronsteiner/Documents/GitHub/PyDI/input/schemamatching/data/movie_list.csv\n"
          ]
        },
        {
          "name": "stdout",
          "output_type": "stream",
          "text": [
            "Loaded 656 rows from movie_list.csv\n",
            "Columns: ['movies_id', 'id', 'year', 'exclude', 'Film', 'Lead Studio', 'Rotten Tomatoes', 'Audience Score'] ...\n"
          ]
        },
        {
          "data": {
            "text/html": [
              "<div>\n",
              "<style scoped>\n",
              "    .dataframe tbody tr th:only-of-type {\n",
              "        vertical-align: middle;\n",
              "    }\n",
              "\n",
              "    .dataframe tbody tr th {\n",
              "        vertical-align: top;\n",
              "    }\n",
              "\n",
              "    .dataframe thead th {\n",
              "        text-align: right;\n",
              "    }\n",
              "</style>\n",
              "<table border=\"1\" class=\"dataframe\">\n",
              "  <thead>\n",
              "    <tr style=\"text-align: right;\">\n",
              "      <th></th>\n",
              "      <th>movies_id</th>\n",
              "      <th>id</th>\n",
              "      <th>year</th>\n",
              "      <th>exclude</th>\n",
              "      <th>Film</th>\n",
              "      <th>Lead Studio</th>\n",
              "      <th>Rotten Tomatoes</th>\n",
              "      <th>Audience Score</th>\n",
              "      <th>Story</th>\n",
              "      <th>Genre</th>\n",
              "      <th>...</th>\n",
              "      <th>Foreign Gross</th>\n",
              "      <th>Worldwide Gross</th>\n",
              "      <th>Budget</th>\n",
              "      <th>Profit</th>\n",
              "      <th>Proftitability</th>\n",
              "      <th>Opening Weekend</th>\n",
              "      <th>Oscar</th>\n",
              "      <th>Bafta</th>\n",
              "      <th>Source</th>\n",
              "      <th>Column</th>\n",
              "    </tr>\n",
              "  </thead>\n",
              "  <tbody>\n",
              "    <tr>\n",
              "      <th>0</th>\n",
              "      <td>movies-0000</td>\n",
              "      <td>1</td>\n",
              "      <td>2010</td>\n",
              "      <td>NaN</td>\n",
              "      <td>127 Hours</td>\n",
              "      <td>Independent</td>\n",
              "      <td>93.0</td>\n",
              "      <td>84</td>\n",
              "      <td>Escape</td>\n",
              "      <td>Adventure</td>\n",
              "      <td>...</td>\n",
              "      <td>42.4</td>\n",
              "      <td>60.73</td>\n",
              "      <td>18.0</td>\n",
              "      <td>42.73</td>\n",
              "      <td>337.39%</td>\n",
              "      <td>0.26</td>\n",
              "      <td>NaN</td>\n",
              "      <td>NaN</td>\n",
              "      <td>http://boxofficemojo.com/movies/?id=127hours.htm</td>\n",
              "      <td>NaN</td>\n",
              "    </tr>\n",
              "    <tr>\n",
              "      <th>1</th>\n",
              "      <td>movies-0001</td>\n",
              "      <td>2</td>\n",
              "      <td>2010</td>\n",
              "      <td>NaN</td>\n",
              "      <td>A Nightmare on Elm Street</td>\n",
              "      <td>Warner Bros.</td>\n",
              "      <td>13.0</td>\n",
              "      <td>40</td>\n",
              "      <td>Monster Force</td>\n",
              "      <td>Horror</td>\n",
              "      <td>...</td>\n",
              "      <td>52.59</td>\n",
              "      <td>115.66</td>\n",
              "      <td>35.0</td>\n",
              "      <td>80.66</td>\n",
              "      <td>330.46%</td>\n",
              "      <td>32.9</td>\n",
              "      <td>NaN</td>\n",
              "      <td>NaN</td>\n",
              "      <td>NaN</td>\n",
              "      <td>NaN</td>\n",
              "    </tr>\n",
              "    <tr>\n",
              "      <th>2</th>\n",
              "      <td>movies-0002</td>\n",
              "      <td>3</td>\n",
              "      <td>2010</td>\n",
              "      <td>NaN</td>\n",
              "      <td>Alice in Wonderland</td>\n",
              "      <td>Disney</td>\n",
              "      <td>52.0</td>\n",
              "      <td>72</td>\n",
              "      <td>Journey And Return</td>\n",
              "      <td>Adventure</td>\n",
              "      <td>...</td>\n",
              "      <td>690.2</td>\n",
              "      <td>1024.39</td>\n",
              "      <td>200.0</td>\n",
              "      <td>824.39</td>\n",
              "      <td>512.20%</td>\n",
              "      <td>116.1</td>\n",
              "      <td>NaN</td>\n",
              "      <td>NaN</td>\n",
              "      <td>NaN</td>\n",
              "      <td>NaN</td>\n",
              "    </tr>\n",
              "  </tbody>\n",
              "</table>\n",
              "<p>3 rows × 23 columns</p>\n",
              "</div>"
            ],
            "text/plain": [
              "     movies_id  id  year exclude                       Film   Lead Studio  \\\n",
              "0  movies-0000   1  2010     NaN                  127 Hours   Independent   \n",
              "1  movies-0001   2  2010     NaN  A Nightmare on Elm Street  Warner Bros.   \n",
              "2  movies-0002   3  2010     NaN        Alice in Wonderland        Disney   \n",
              "\n",
              "   Rotten Tomatoes  Audience Score               Story      Genre  ...  \\\n",
              "0             93.0              84              Escape  Adventure  ...   \n",
              "1             13.0              40       Monster Force     Horror  ...   \n",
              "2             52.0              72  Journey And Return  Adventure  ...   \n",
              "\n",
              "  Foreign Gross  Worldwide Gross  Budget  Profit  Proftitability  \\\n",
              "0          42.4            60.73    18.0   42.73         337.39%   \n",
              "1         52.59           115.66    35.0   80.66         330.46%   \n",
              "2         690.2          1024.39   200.0  824.39         512.20%   \n",
              "\n",
              "   Opening Weekend  Oscar Bafta  \\\n",
              "0             0.26    NaN   NaN   \n",
              "1             32.9    NaN   NaN   \n",
              "2            116.1    NaN   NaN   \n",
              "\n",
              "                                             Source Column  \n",
              "0  http://boxofficemojo.com/movies/?id=127hours.htm    NaN  \n",
              "1                                               NaN    NaN  \n",
              "2                                               NaN    NaN  \n",
              "\n",
              "[3 rows x 23 columns]"
            ]
          },
          "execution_count": 5,
          "metadata": {},
          "output_type": "execute_result"
        }
      ],
      "source": [
        "if not csv_path.exists():\n",
        "    raise FileNotFoundError(f\"CSV file not found: {csv_path}\")\n",
        "\n",
        "df = load_csv(csv_path, name=\"movies\")\n",
        "print(f\"Loaded {len(df)} rows from {csv_path.name}\")\n",
        "print(f\"Columns: {list(df.columns)[:8]} ...\")\n",
        "df.head(3)\n"
      ]
    },
    {
      "cell_type": "markdown",
      "metadata": {},
      "source": [
        "## Step 3: Generate profiling report\n",
        "Requires `ydata-profiling` (and optionally `sweetviz`).\n"
      ]
    },
    {
      "cell_type": "code",
      "execution_count": 6,
      "metadata": {},
      "outputs": [
        {
          "name": "stderr",
          "output_type": "stream",
          "text": [
            "/Users/aaronsteiner/Documents/GitHub/PyDI/env/lib/python3.12/site-packages/tqdm/auto.py:21: TqdmWarning: IProgress not found. Please update jupyter and ipywidgets. See https://ipywidgets.readthedocs.io/en/stable/user_install.html\n",
            "  from .autonotebook import tqdm as notebook_tqdm\n",
            "INFO:visions.backends:Pandas backend loaded 2.3.2\n",
            "INFO:visions.backends:Numpy backend loaded 1.26.4\n",
            "INFO:visions.backends:Pyspark backend NOT loaded\n",
            "INFO:visions.backends:Python backend loaded\n"
          ]
        },
        {
          "data": {
            "text/html": [
              "\n",
              "            <div>\n",
              "                <ins><a href=\"https://ydata.ai/register\">Upgrade to ydata-sdk</a></ins>\n",
              "                <p>\n",
              "                    Improve your data and profiling with ydata-sdk, featuring data quality scoring, redundancy detection, outlier identification, text validation, and synthetic data generation.\n",
              "                </p>\n",
              "            </div>\n",
              "            "
            ],
            "text/plain": [
              "<IPython.core.display.HTML object>"
            ]
          },
          "metadata": {},
          "output_type": "display_data"
        },
        {
          "name": "stderr",
          "output_type": "stream",
          "text": [
            "100%|██████████| 23/23 [00:00<00:00, 772.22it/s]<00:00, 58.04it/s, Describe variable: Column]              \n",
            "Summarize dataset: 100%|██████████| 97/97 [00:02<00:00, 40.61it/s, Completed]                                                           \n",
            "Generate report structure: 100%|██████████| 1/1 [00:02<00:00,  2.51s/it]\n",
            "Render HTML: 100%|██████████| 1/1 [00:00<00:00,  1.42it/s]\n",
            "Export report to file: 100%|██████████| 1/1 [00:00<00:00, 216.82it/s]"
          ]
        },
        {
          "name": "stdout",
          "output_type": "stream",
          "text": [
            "\n",
            "Profiling report written to:\n",
            "/Users/aaronsteiner/Documents/GitHub/PyDI/output/profiling/movies_profile.html\n"
          ]
        },
        {
          "name": "stderr",
          "output_type": "stream",
          "text": [
            "\n"
          ]
        }
      ],
      "source": [
        "profiler = DataProfiler()\n",
        "try:\n",
        "    report_path = profiler.profile(df, str(out_dir))\n",
        "    print(\"\\nProfiling report written to:\")\n",
        "    print(report_path)\n",
        "except ImportError as e:\n",
        "    logger.error(\n",
        "        \"Profiling requires optional dependencies. Please install: 'ydata-profiling' (and optionally 'sweetviz'). Error: %s\",\n",
        "        e,\n",
        "    )\n"
      ]
    }
  ],
  "metadata": {
    "kernelspec": {
      "display_name": "env",
      "language": "python",
      "name": "python3"
    },
    "language_info": {
      "codemirror_mode": {
        "name": "ipython",
        "version": 3
      },
      "file_extension": ".py",
      "mimetype": "text/x-python",
      "name": "python",
      "nbconvert_exporter": "python",
      "pygments_lexer": "ipython3",
      "version": "3.12.8"
    }
  },
  "nbformat": 4,
  "nbformat_minor": 2
}
